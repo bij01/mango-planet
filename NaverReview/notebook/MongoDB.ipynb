{
 "cells": [
  {
   "cell_type": "code",
   "execution_count": 4,
   "id": "103eb8df",
   "metadata": {
    "scrolled": true
   },
   "outputs": [],
   "source": [
    "from pymongo import mongo_client"
   ]
  },
  {
   "cell_type": "markdown",
   "id": "062e5802",
   "metadata": {},
   "source": [
    "url = \"mongodb://localhost:27017/\"\n",
    "mgClient = mongo_client.MongoClient(url)\n",
    "db = mgClient[\"soodb\"]\n",
    "col = db[\"address\"]"
   ]
  },
  {
   "cell_type": "code",
   "execution_count": null,
   "id": "da37ac61",
   "metadata": {},
   "outputs": [],
   "source": []
  }
 ],
 "metadata": {
  "kernelspec": {
   "display_name": "Python 3 (ipykernel)",
   "language": "python",
   "name": "python3"
  },
  "language_info": {
   "codemirror_mode": {
    "name": "ipython",
    "version": 3
   },
   "file_extension": ".py",
   "mimetype": "text/x-python",
   "name": "python",
   "nbconvert_exporter": "python",
   "pygments_lexer": "ipython3",
   "version": "3.9.6"
  }
 },
 "nbformat": 4,
 "nbformat_minor": 5
}
