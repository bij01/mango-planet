{
 "cells": [
  {
   "cell_type": "code",
   "execution_count": 2,
   "id": "103eb8df",
   "metadata": {
    "scrolled": true
   },
   "outputs": [],
   "source": [
    "from pymongo import mongo_client"
   ]
  },
  {
   "cell_type": "code",
   "execution_count": 5,
   "id": "da37ac61",
   "metadata": {
    "scrolled": true
   },
   "outputs": [],
   "source": [
    "url = 'mongodb://localhost:27017'\n",
    "mg_client = mongo_client.MongoClient(url)\n",
    "db = mg_client['TestMongo']\n",
    "mg_col = db[\"link\"]"
   ]
  },
  {
   "cell_type": "code",
   "execution_count": null,
   "id": "b53cd9d4",
   "metadata": {},
   "outputs": [],
   "source": []
  }
 ],
 "metadata": {
  "kernelspec": {
   "display_name": "Python 3 (ipykernel)",
   "language": "python",
   "name": "python3"
  },
  "language_info": {
   "codemirror_mode": {
    "name": "ipython",
    "version": 3
   },
   "file_extension": ".py",
   "mimetype": "text/x-python",
   "name": "python",
   "nbconvert_exporter": "python",
   "pygments_lexer": "ipython3",
   "version": "3.9.6"
  }
 },
 "nbformat": 4,
 "nbformat_minor": 5
}
