{
 "cells": [
  {
   "cell_type": "code",
   "execution_count": 1,
   "id": "22ecbd23",
   "metadata": {},
   "outputs": [],
   "source": [
    "from urllib import request\n",
    "from selenium import webdriver\n",
    "from selenium.webdriver.common.keys import Keys\n",
    "from selenium.webdriver.common.by import By\n",
    "from pymongo import mongo_client"
   ]
  },
  {
   "cell_type": "code",
   "execution_count": 10,
   "id": "fdfac675",
   "metadata": {},
   "outputs": [
    {
     "name": "stderr",
     "output_type": "stream",
     "text": [
      "C:\\Users\\Kosmo\\AppData\\Local\\Temp\\ipykernel_6132\\3039946280.py:2: DeprecationWarning: executable_path has been deprecated, please pass in a Service object\n",
      "  driver = webdriver.Chrome(path)\n"
     ]
    }
   ],
   "source": [
    "path = \"c:/python/chromedriver.exe\"\n",
    "driver = webdriver.Chrome(path)\n",
    "driver.implicitly_wait(3)\n",
    "url = \"https://www.mangoplate.com/top_lists\"\n",
    "driver.get(url)"
   ]
  },
  {
   "cell_type": "code",
   "execution_count": null,
   "id": "b49e1f7c",
   "metadata": {},
   "outputs": [],
   "source": [
    "click_cnt = 0\n",
    "i = 0\n",
    "k = 0\n",
    "j = 1\n",
    "link_list = {}\n",
    "\n",
    "# 더보기 클릭 \n",
    "for click_cnt in range(16):\n",
    "    if click_cnt < 16 :\n",
    "        driver.find_element(By.CLASS_NAME,'btn-more').click()\n",
    "        click_cnt += 1\n",
    "    elif click_cnt>=16:\n",
    "        break"
   ]
  },
  {
   "cell_type": "code",
   "execution_count": 9,
   "id": "3887e0c1",
   "metadata": {
    "scrolled": true
   },
   "outputs": [],
   "source": [
    "# 더보기 클릭(끝까지)\n",
    "while driver.find_element(By.CLASS_NAME,\"btn-more\").is_displayed:\n",
    "    if driver.find_element(By.CLASS_NAME,\"btn-more\").is_displayed:\n",
    "        try:\n",
    "            more_click = driver.find_element(By.CLASS_NAME,\"btn-more\").click()\n",
    "        except:\n",
    "            break        "
   ]
  },
  {
   "cell_type": "code",
   "execution_count": 5,
   "id": "38fc58af",
   "metadata": {},
   "outputs": [],
   "source": [
    "href_li = 0\n",
    "hli_add= [] # 주소를 리스트에 담기 \n",
    "while True:\n",
    "    if href_li >= 300:\n",
    "        break\n",
    "    elif href_li < 300:\n",
    "        href_li +=1\n",
    "        hrefs = driver.find_elements(By.XPATH,'/html/body/main/article/section/div/ul/li['+str(href_li)+']/a')\n",
    "        for x in hrefs:\n",
    "            href = x.get_attribute('href')\n",
    "            hli_add.append(href)"
   ]
  },
  {
   "cell_type": "code",
   "execution_count": 6,
   "id": "d3dc9d65",
   "metadata": {},
   "outputs": [],
   "source": [
    "Titles_li = 0\n",
    "Tli_add = [] # 타이틀 리스트\n",
    "while True:\n",
    "    if Titles_li >= 300:\n",
    "        break\n",
    "    elif Titles_li < 300:\n",
    "        Titles_li +=1\n",
    "        Titles = driver.find_elements(By.XPATH,'/html/body/main/article/section/div/ul/li['+str(Titles_li)+']/a/figure/figcaption/div/span')\n",
    "        for x in Titles:\n",
    "            # print(x.text)\n",
    "            Tli_add.append(x.text)"
   ]
  },
  {
   "cell_type": "code",
   "execution_count": 8,
   "id": "c076b6b7",
   "metadata": {},
   "outputs": [],
   "source": [
    "while True:\n",
    "    if j <= 300:\n",
    "        link_list[Tli_add[i]] = (hli_add[k])\n",
    "        i+=1; k+=1; j+=1\n",
    "    else:\n",
    "        break"
   ]
  },
  {
   "cell_type": "code",
   "execution_count": 18,
   "id": "29fb9781",
   "metadata": {
    "scrolled": false
   },
   "outputs": [
    {
     "name": "stdout",
     "output_type": "stream",
     "text": [
      "https://www.mangoplate.com/top_lists/1815_incheon_airport\n"
     ]
    }
   ],
   "source": [
    "x = 0\n",
    "for x in range(300):\n",
    "    print(link_list['인천공항 맛집 베스트 7곳'])\n",
    "    break"
   ]
  },
  {
   "cell_type": "code",
   "execution_count": 38,
   "id": "241d16a5",
   "metadata": {},
   "outputs": [],
   "source": [
    "# mongo DB 생성 및 col생성\n",
    "from pymongo import mongo_client\n",
    "url = 'mongodb://localhost:27017'\n",
    "mg_client = mongo_client.MongoClient(url)\n",
    "mg_db = mg_client['Testmongo']\n",
    "mg_col = mg_db['list']"
   ]
  },
  {
   "cell_type": "code",
   "execution_count": 39,
   "id": "6e7b5f85",
   "metadata": {},
   "outputs": [],
   "source": [
    "# link_list 가공\n",
    "for key, value in link_list.items():\n",
    "    a = {key:value}\n",
    "    mg_col.insert_one(a)"
   ]
  },
  {
   "cell_type": "code",
   "execution_count": 40,
   "id": "33ae302a",
   "metadata": {},
   "outputs": [
    {
     "name": "stdout",
     "output_type": "stream",
     "text": [
      "{'_id': ObjectId('62da0189a1188f6595d8f914'), '수원 광교 맛집 베스트 30': 'https://www.mangoplate.com/top_lists/2833_suwongwanggyo'}\n",
      "{'_id': ObjectId('62da0189a1188f6595d8f915'), '펍 베스트 50곳': 'https://www.mangoplate.com/top_lists/916_pub'}\n",
      "{'_id': ObjectId('62da0189a1188f6595d8f916'), '인천공항 맛집 베스트 7곳': 'https://www.mangoplate.com/top_lists/1815_incheon_airport'}\n",
      "{'_id': ObjectId('62da0189a1188f6595d8f917'), '카이센동 맛집 베스트 25곳': 'https://www.mangoplate.com/top_lists/2820_kaisendon'}\n",
      "{'_id': ObjectId('62da0189a1188f6595d8f918'), '화성시 맛집 베스트 35곳': 'https://www.mangoplate.com/top_lists/2713_hwaseong'}\n",
      "{'_id': ObjectId('62da0189a1188f6595d8f919'), '오션뷰 맛집 베스트 60곳': 'https://www.mangoplate.com/top_lists/1964_ocean_view'}\n",
      "{'_id': ObjectId('62da0189a1188f6595d8f91a'), '경기도 평택 맛집 베스트 7곳': 'https://www.mangoplate.com/top_lists/2760_pyeongtaek'}\n",
      "{'_id': ObjectId('62da0189a1188f6595d8f91b'), '과일빙수 맛집 베스트 10곳': 'https://www.mangoplate.com/top_lists/3064_fruit_bingsu'}\n",
      "{'_id': ObjectId('62da0189a1188f6595d8f91c'), '부산떡볶이 맛집 베스트 10곳': 'https://www.mangoplate.com/top_lists/1574_busan_tteokbokki'}\n",
      "{'_id': ObjectId('62da0189a1188f6595d8f91d'), '찜닭 맛집 베스트 15곳': 'https://www.mangoplate.com/top_lists/759_jjimdak'}\n",
      "{'_id': ObjectId('62da0189a1188f6595d8f91e'), '삼계탕 맛집 베스트 15곳': 'https://www.mangoplate.com/top_lists/1145_samgyetang'}\n",
      "{'_id': ObjectId('62da0189a1188f6595d8f91f'), '이태원 루프탑 베스트 10곳': 'https://www.mangoplate.com/top_lists/919_itaewon_rooftop'}\n",
      "{'_id': ObjectId('62da0189a1188f6595d8f920'), '보양식 맛집 베스트 50곳': 'https://www.mangoplate.com/top_lists/1821_boyangsik'}\n",
      "{'_id': ObjectId('62da0189a1188f6595d8f921'), '안산 맛집 베스트 15곳': 'https://www.mangoplate.com/top_lists/2784_ansan'}\n",
      "{'_id': ObjectId('62da0189a1188f6595d8f922'), '착즙주스 맛집 베스트 7곳': 'https://www.mangoplate.com/top_lists/920_juice_squeezed'}\n",
      "{'_id': ObjectId('62da0189a1188f6595d8f923'), '뷰가 좋은 맛집&카페 베스트 60곳': 'https://www.mangoplate.com/top_lists/2701_goodview'}\n",
      "{'_id': ObjectId('62da0189a1188f6595d8f924'), '북촌 맛집 베스트 60곳': 'https://www.mangoplate.com/top_lists/2697_bukchon'}\n",
      "{'_id': ObjectId('62da0189a1188f6595d8f925'), '수육 맛집 베스트 25곳': 'https://www.mangoplate.com/top_lists/2862_suyuk'}\n",
      "{'_id': ObjectId('62da0189a1188f6595d8f926'), '압구정로데오 맛집 베스트 40곳': 'https://www.mangoplate.com/top_lists/620_apgujungrodeo'}\n",
      "{'_id': ObjectId('62da0189a1188f6595d8f927'), '07월 제철 과일 디저트 맛집 베스트 20곳': 'https://www.mangoplate.com/top_lists/3048_07seasonal_fruit_dessert'}\n",
      "{'_id': ObjectId('62da0189a1188f6595d8f928'), '양평 카페 베스트 7곳': 'https://www.mangoplate.com/top_lists/5SFY3WJ'}\n",
      "{'_id': ObjectId('62da0189a1188f6595d8f929'), '호텔 빙수 베스트 10곳': 'https://www.mangoplate.com/top_lists/NHL8COT'}\n",
      "{'_id': ObjectId('62da0189a1188f6595d8f92a'), '부산 카페 베스트 45곳': 'https://www.mangoplate.com/top_lists/Z4WLJLI'}\n",
      "{'_id': ObjectId('62da0189a1188f6595d8f92b'), '여수 맛집 베스트 35곳': 'https://www.mangoplate.com/top_lists/8SJPKUR'}\n",
      "{'_id': ObjectId('62da0189a1188f6595d8f92c'), '중국냉면 맛집 베스트 15곳': 'https://www.mangoplate.com/top_lists/T7JVFNC'}\n",
      "{'_id': ObjectId('62da0189a1188f6595d8f92d'), '부산 맛집 베스트 100곳': 'https://www.mangoplate.com/top_lists/PVUH7FL'}\n",
      "{'_id': ObjectId('62da0189a1188f6595d8f92e'), '합정역 맛집 베스트 70곳': 'https://www.mangoplate.com/top_lists/P1RXCPM'}\n",
      "{'_id': ObjectId('62da0189a1188f6595d8f92f'), '생면 파스타 맛집 베스트 30곳': 'https://www.mangoplate.com/top_lists/YYAOHJD'}\n",
      "{'_id': ObjectId('62da0189a1188f6595d8f930'), '부산 수제버거 맛집 베스트 5곳': 'https://www.mangoplate.com/top_lists/DED8_JL'}\n",
      "{'_id': ObjectId('62da0189a1188f6595d8f931'), '아포가토 맛집 베스트 10곳': 'https://www.mangoplate.com/top_lists/QILPGTQ'}\n",
      "{'_id': ObjectId('62da0189a1188f6595d8f932'), '강원도 원주 맛집 베스트 25곳': 'https://www.mangoplate.com/top_lists/YLDBVSK'}\n",
      "{'_id': ObjectId('62da0189a1188f6595d8f933'), '피스타치오 맛집 베스트 25곳': 'https://www.mangoplate.com/top_lists/DYG3DCZ'}\n",
      "{'_id': ObjectId('62da0189a1188f6595d8f934'), '광주 맛집 베스트 10곳': 'https://www.mangoplate.com/top_lists/9EORLWQ'}\n",
      "{'_id': ObjectId('62da0189a1188f6595d8f935'), '오리고기 맛집 베스트 30곳': 'https://www.mangoplate.com/top_lists/FUENFDY'}\n",
      "{'_id': ObjectId('62da0189a1188f6595d8f936'), '남해/진주 맛집 베스트 15곳': 'https://www.mangoplate.com/top_lists/B7NH8NB'}\n",
      "{'_id': ObjectId('62da0189a1188f6595d8f937'), '소금빵 맛집 베스트 15곳': 'https://www.mangoplate.com/top_lists/VXXLIGO'}\n",
      "{'_id': ObjectId('62da0189a1188f6595d8f938'), '상수동 맛집 베스트 55곳': 'https://www.mangoplate.com/top_lists/JSBFEBS'}\n",
      "{'_id': ObjectId('62da0189a1188f6595d8f939'), '서래마을 맛집 베스트 40곳': 'https://www.mangoplate.com/top_lists/UQ2HR8W'}\n",
      "{'_id': ObjectId('62da0189a1188f6595d8f93a'), '냉면 맛집 베스트 95곳': 'https://www.mangoplate.com/top_lists/F11FIPD'}\n",
      "{'_id': ObjectId('62da0189a1188f6595d8f93b'), '서촌 맛집 베스트 70곳': 'https://www.mangoplate.com/top_lists/QXSM5U7'}\n",
      "{'_id': ObjectId('62da0189a1188f6595d8f93c'), '녹차빙수 맛집 베스트 10곳': 'https://www.mangoplate.com/top_lists/-YRT9RS'}\n",
      "{'_id': ObjectId('62da0189a1188f6595d8f93d'), '부산푸드필름페스타 맛집 베스트 10': 'https://www.mangoplate.com/top_lists/3QQYMCJ'}\n",
      "{'_id': ObjectId('62da0189a1188f6595d8f93e'), '조개구이 맛집 베스트 10곳': 'https://www.mangoplate.com/top_lists/4HYKMYT'}\n",
      "{'_id': ObjectId('62da0189a1188f6595d8f93f'), '노원 맛집 베스트 45곳': 'https://www.mangoplate.com/top_lists/IUV9OYJ'}\n",
      "{'_id': ObjectId('62da0189a1188f6595d8f940'), '묵은지 맛집 베스트 7곳': 'https://www.mangoplate.com/top_lists/DIE-YL6'}\n",
      "{'_id': ObjectId('62da0189a1188f6595d8f941'), '삼청동 카페 베스트 5곳': 'https://www.mangoplate.com/top_lists/EQWP3OJ'}\n",
      "{'_id': ObjectId('62da0189a1188f6595d8f942'), '퀘사디아 맛집 베스트 20곳': 'https://www.mangoplate.com/top_lists/EIES1NI'}\n",
      "{'_id': ObjectId('62da0189a1188f6595d8f943'), '야장 맛집 베스트 5곳': 'https://www.mangoplate.com/top_lists/_DUA3AQ'}\n",
      "{'_id': ObjectId('62da0189a1188f6595d8f944'), '파니니 맛집 베스트 25곳': 'https://www.mangoplate.com/top_lists/CRMIJ-U'}\n",
      "{'_id': ObjectId('62da0189a1188f6595d8f945'), '참외 맛집 베스트 15곳': 'https://www.mangoplate.com/top_lists/MYQY3BH'}\n",
      "{'_id': ObjectId('62da0189a1188f6595d8f946'), '제주 서귀포 맛집 베스트 95곳': 'https://www.mangoplate.com/top_lists/DS82SO_'}\n",
      "{'_id': ObjectId('62da0189a1188f6595d8f947'), '냉우동 맛집 베스트 25곳': 'https://www.mangoplate.com/top_lists/XJESXEH'}\n",
      "{'_id': ObjectId('62da0189a1188f6595d8f948'), '부산 해운대구 맛집 베스트 50곳': 'https://www.mangoplate.com/top_lists/WNVOBRC'}\n",
      "{'_id': ObjectId('62da0189a1188f6595d8f949'), '밀크쉐이크 맛집 베스트 15곳': 'https://www.mangoplate.com/top_lists/XBZA4BL'}\n",
      "{'_id': ObjectId('62da0189a1188f6595d8f94a'), '강남 직장인 회식장소 추천 맛집 베스트 30곳': 'https://www.mangoplate.com/top_lists/TP0FZP8'}\n",
      "{'_id': ObjectId('62da0189a1188f6595d8f94b'), '똠얌꿍 맛집 베스트 10곳': 'https://www.mangoplate.com/top_lists/5USEV9Y'}\n",
      "{'_id': ObjectId('62da0189a1188f6595d8f94c'), '대구 카페 베스트 15곳': 'https://www.mangoplate.com/top_lists/EYWMXOD'}\n",
      "{'_id': ObjectId('62da0189a1188f6595d8f94d'), '사케바 베스트 25곳': 'https://www.mangoplate.com/top_lists/SOV_EQS'}\n",
      "{'_id': ObjectId('62da0189a1188f6595d8f94e'), '워터밤 서울 2022 맛집 베스트': 'https://www.mangoplate.com/top_lists/TDRGPIL'}\n",
      "{'_id': ObjectId('62da0189a1188f6595d8f94f'), '위스키바 베스트 45곳': 'https://www.mangoplate.com/top_lists/RW1FGW_'}\n",
      "{'_id': ObjectId('62da0189a1188f6595d8f950'), '부산 수영구 맛집 베스트 40곳': 'https://www.mangoplate.com/top_lists/EDI0KWR'}\n",
      "{'_id': ObjectId('62da0189a1188f6595d8f951'), '알리오올리오 맛집 베스트 10곳': 'https://www.mangoplate.com/top_lists/TI1DYLU'}\n",
      "{'_id': ObjectId('62da0189a1188f6595d8f952'), '우유빙수 맛집 베스트 15곳': 'https://www.mangoplate.com/top_lists/HUMPUQI'}\n",
      "{'_id': ObjectId('62da0189a1188f6595d8f953'), '제주 흑돼지 맛집 베스트 30곳': 'https://www.mangoplate.com/top_lists/C4E3T8P'}\n",
      "{'_id': ObjectId('62da0189a1188f6595d8f954'), '수제맥주 맛집 베스트 50곳': 'https://www.mangoplate.com/top_lists/BGSID3D'}\n",
      "{'_id': ObjectId('62da0189a1188f6595d8f955'), '을지로 맛집 베스트 100곳': 'https://www.mangoplate.com/top_lists/F3HICYP'}\n",
      "{'_id': ObjectId('62da0189a1188f6595d8f956'), '콩국수 맛집 베스트 30곳': 'https://www.mangoplate.com/top_lists/XXQRWK6'}\n",
      "{'_id': ObjectId('62da0189a1188f6595d8f957'), '제주 성산/우도 맛집 베스트 40곳': 'https://www.mangoplate.com/top_lists/ZG8GF_W'}\n",
      "{'_id': ObjectId('62da0189a1188f6595d8f958'), '까눌레 맛집 베스트 40곳': 'https://www.mangoplate.com/top_lists/_V68ZKZ'}\n",
      "{'_id': ObjectId('62da0189a1188f6595d8f959'), '루프탑 바 베스트 15곳': 'https://www.mangoplate.com/top_lists/BOGKRRQ'}\n",
      "{'_id': ObjectId('62da0189a1188f6595d8f95a'), '맥주 마시기 좋은 맛집 베스트 70곳': 'https://www.mangoplate.com/top_lists/LWIAGHS'}\n",
      "{'_id': ObjectId('62da0189a1188f6595d8f95b'), '부산 이탈리안 맛집 베스트 7곳': 'https://www.mangoplate.com/top_lists/LNOXEAD'}\n",
      "{'_id': ObjectId('62da0189a1188f6595d8f95c'), '야키토리 맛집 베스트 30곳': 'https://www.mangoplate.com/top_lists/NZ8OPLG'}\n",
      "{'_id': ObjectId('62da0189a1188f6595d8f95d'), '부산 남포동 맛집 베스트 15곳': 'https://www.mangoplate.com/top_lists/VDV7GNB'}\n",
      "{'_id': ObjectId('62da0189a1188f6595d8f95e'), '불닭 맛집 베스트 10곳': 'https://www.mangoplate.com/top_lists/UBN10XR'}\n",
      "{'_id': ObjectId('62da0189a1188f6595d8f95f'), '부산 영도 맛집 베스트 20곳': 'https://www.mangoplate.com/top_lists/P9RLZO8'}\n",
      "{'_id': ObjectId('62da0189a1188f6595d8f960'), '감자 맛집 베스트 15곳': 'https://www.mangoplate.com/top_lists/NT8JETL'}\n",
      "{'_id': ObjectId('62da0189a1188f6595d8f961'), '가평 맛집 베스트 10곳': 'https://www.mangoplate.com/top_lists/U0L00JO'}\n",
      "{'_id': ObjectId('62da0189a1188f6595d8f962'), '닭한마리 맛집 베스트 15곳': 'https://www.mangoplate.com/top_lists/WCGHVBF'}\n",
      "{'_id': ObjectId('62da0189a1188f6595d8f963'), '고속버스터미널 맛집 베스트 50곳': 'https://www.mangoplate.com/top_lists/Z6YZXAQ'}\n",
      "{'_id': ObjectId('62da0189a1188f6595d8f964'), '제주도 해산물 맛집 베스트 50곳': 'https://www.mangoplate.com/top_lists/4P0WKVW'}\n",
      "{'_id': ObjectId('62da0189a1188f6595d8f965'), '냉모밀 맛집 베스트 25곳': 'https://www.mangoplate.com/top_lists/MCHCMC2'}\n",
      "{'_id': ObjectId('62da0189a1188f6595d8f966'), '제주 제주시 맛집 베스트 50곳': 'https://www.mangoplate.com/top_lists/JZYMZC7'}\n",
      "{'_id': ObjectId('62da0189a1188f6595d8f967'), '제주도 카페 베스트 55곳': 'https://www.mangoplate.com/top_lists/G9PWLSA'}\n",
      "{'_id': ObjectId('62da0189a1188f6595d8f968'), '비빔냉면 맛집 베스트 25곳': 'https://www.mangoplate.com/top_lists/0S8TNI1'}\n",
      "{'_id': ObjectId('62da0189a1188f6595d8f969'), '올림픽공원 주변 맛집 베스트 30곳': 'https://www.mangoplate.com/top_lists/WV4BVQL'}\n",
      "{'_id': ObjectId('62da0189a1188f6595d8f96a'), '제주도 맛집 베스트 100곳': 'https://www.mangoplate.com/top_lists/X4BYING'}\n",
      "{'_id': ObjectId('62da0189a1188f6595d8f96b'), '목살 맛집 베스트 45곳': 'https://www.mangoplate.com/top_lists/METE8MR'}\n",
      "{'_id': ObjectId('62da0189a1188f6595d8f96c'), '잠실야구장 맛집 베스트 15곳': 'https://www.mangoplate.com/top_lists/KPUGICE'}\n",
      "{'_id': ObjectId('62da0189a1188f6595d8f96d'), '막걸리 맛집 베스트 50곳': 'https://www.mangoplate.com/top_lists/ICLXGBA'}\n",
      "{'_id': ObjectId('62da0189a1188f6595d8f96e'), '속초 카페 맛집 베스트 15곳': 'https://www.mangoplate.com/top_lists/TQLONWW'}\n",
      "{'_id': ObjectId('62da0189a1188f6595d8f96f'), '초당옥수수 맛집 베스트 7곳': 'https://www.mangoplate.com/top_lists/IJCJPAI'}\n",
      "{'_id': ObjectId('62da0189a1188f6595d8f970'), '한강공원 테이크아웃 맛집 베스트 15곳': 'https://www.mangoplate.com/top_lists/EOEIJO9'}\n",
      "{'_id': ObjectId('62da0189a1188f6595d8f971'), '06월 제철 횟감 맛집 베스트 10곳': 'https://www.mangoplate.com/top_lists/T327LEO'}\n",
      "{'_id': ObjectId('62da0189a1188f6595d8f972'), '강원도 양양 맛집 베스트 10곳': 'https://www.mangoplate.com/top_lists/OLT4MDA'}\n",
      "{'_id': ObjectId('62da0189a1188f6595d8f973'), '초계국수 맛집 베스트 5곳': 'https://www.mangoplate.com/top_lists/VJ4G_Q5'}\n",
      "{'_id': ObjectId('62da0189a1188f6595d8f974'), '속초 맛집 베스트 50곳': 'https://www.mangoplate.com/top_lists/R-XVQMY'}\n",
      "{'_id': ObjectId('62da0189a1188f6595d8f975'), '평양냉면 맛집 베스트 50곳': 'https://www.mangoplate.com/top_lists/VCP49RE'}\n",
      "{'_id': ObjectId('62da0189a1188f6595d8f976'), '선릉역 맛집 베스트 45곳': 'https://www.mangoplate.com/top_lists/M5FM7BA'}\n",
      "{'_id': ObjectId('62da0189a1188f6595d8f977'), '밀면 맛집 베스트 10곳': 'https://www.mangoplate.com/top_lists/WQBIFOR'}\n",
      "{'_id': ObjectId('62da0189a1188f6595d8f978'), '제주 국수 맛집 베스트 25곳': 'https://www.mangoplate.com/top_lists/U6VRKRB'}\n",
      "{'_id': ObjectId('62da0189a1188f6595d8f979'), '닭 요리 맛집 베스트 35곳': 'https://www.mangoplate.com/top_lists/O5MBR4C'}\n",
      "{'_id': ObjectId('62da0189a1188f6595d8f97a'), '제주 중문단지 맛집 베스트 15곳': 'https://www.mangoplate.com/top_lists/G8VOVFL'}\n",
      "{'_id': ObjectId('62da0189a1188f6595d8f97b'), '아이스크림 맛집 베스트 45곳': 'https://www.mangoplate.com/top_lists/NJV6ALE'}\n",
      "{'_id': ObjectId('62da0189a1188f6595d8f97c'), '크림커피 맛집 베스트 10곳': 'https://www.mangoplate.com/top_lists/DU9JNAJ'}\n",
      "{'_id': ObjectId('62da0189a1188f6595d8f97d'), '익선동 맛집 베스트 25곳': 'https://www.mangoplate.com/top_lists/-ROOLOP'}\n",
      "{'_id': ObjectId('62da0189a1188f6595d8f97e'), '서울숲 맛집 베스트 50곳': 'https://www.mangoplate.com/top_lists/L8FC5VS'}\n",
      "{'_id': ObjectId('62da0189a1188f6595d8f97f'), '전국 김밥 맛집 베스트 50곳': 'https://www.mangoplate.com/top_lists/0VXWQGX'}\n",
      "{'_id': ObjectId('62da0189a1188f6595d8f980'), '판교 맛집 베스트 45곳': 'https://www.mangoplate.com/top_lists/VFSB2HU'}\n",
      "{'_id': ObjectId('62da0189a1188f6595d8f981'), '무한리필 맛집 베스트 15곳': 'https://www.mangoplate.com/top_lists/CYD0KUH'}\n",
      "{'_id': ObjectId('62da0189a1188f6595d8f982'), '김포 맛집 베스트 20곳': 'https://www.mangoplate.com/top_lists/IJOAF-I'}\n",
      "{'_id': ObjectId('62da0189a1188f6595d8f983'), '오믈렛 맛집 베스트 20곳': 'https://www.mangoplate.com/top_lists/NJR6_4J'}\n",
      "{'_id': ObjectId('62da0189a1188f6595d8f984'), '성내동 맛집 베스트 35곳': 'https://www.mangoplate.com/top_lists/4T3O1UX'}\n",
      "{'_id': ObjectId('62da0189a1188f6595d8f985'), '장어 맛집 베스트 20곳': 'https://www.mangoplate.com/top_lists/UPMUF6J'}\n",
      "{'_id': ObjectId('62da0189a1188f6595d8f986'), '서울 재즈 페스티벌 맛집 베스트 15곳': 'https://www.mangoplate.com/top_lists/B7LWMAF'}\n",
      "{'_id': ObjectId('62da0189a1188f6595d8f987'), '딤섬 맛집 베스트 35곳': 'https://www.mangoplate.com/top_lists/XX_GHRA'}\n",
      "{'_id': ObjectId('62da0189a1188f6595d8f988'), '뚝섬유원지 맛집 베스트 5곳': 'https://www.mangoplate.com/top_lists/WPB_VRL'}\n",
      "{'_id': ObjectId('62da0189a1188f6595d8f989'), '돈가스 맛집 베스트 30곳': 'https://www.mangoplate.com/top_lists/BE1BUN4'}\n",
      "{'_id': ObjectId('62da0189a1188f6595d8f98a'), '담양 맛집 베스트 7곳': 'https://www.mangoplate.com/top_lists/RHBEWGO'}\n",
      "{'_id': ObjectId('62da0189a1188f6595d8f98b'), '피자 맛집 베스트 45곳': 'https://www.mangoplate.com/top_lists/WTPRWV3'}\n",
      "{'_id': ObjectId('62da0189a1188f6595d8f98c'), '전주 맛집 베스트 25곳': 'https://www.mangoplate.com/top_lists/_7D5DLV'}\n",
      "{'_id': ObjectId('62da0189a1188f6595d8f98d'), '곱창 맛집 베스트 45곳': 'https://www.mangoplate.com/top_lists/J16CGSL'}\n",
      "{'_id': ObjectId('62da0189a1188f6595d8f98e'), '여의도 맛집 베스트 55곳': 'https://www.mangoplate.com/top_lists/L2K0A__'}\n",
      "{'_id': ObjectId('62da0189a1188f6595d8f98f'), '한우 맛집 베스트 45곳': 'https://www.mangoplate.com/top_lists/B-X-QOJ'}\n",
      "{'_id': ObjectId('62da0189a1188f6595d8f990'), '보쌈 맛집 베스트 40곳': 'https://www.mangoplate.com/top_lists/RAD2TLN'}\n",
      "{'_id': ObjectId('62da0189a1188f6595d8f991'), '제주 휴애리 수국축제 맛집 베스트 10곳': 'https://www.mangoplate.com/top_lists/WJ4AISO'}\n",
      "{'_id': ObjectId('62da0189a1188f6595d8f992'), '스시 오마카세 베스트 50곳': 'https://www.mangoplate.com/top_lists/RGYOA2T'}\n",
      "{'_id': ObjectId('62da0189a1188f6595d8f993'), '이자카야 맛집 베스트 45곳': 'https://www.mangoplate.com/top_lists/BIHESSC'}\n",
      "{'_id': ObjectId('62da0189a1188f6595d8f994'), '가성비 데이트 맛집 베스트 25곳': 'https://www.mangoplate.com/top_lists/LTUSBVB'}\n",
      "{'_id': ObjectId('62da0189a1188f6595d8f995'), '앙버터 맛집 베스트 30곳': 'https://www.mangoplate.com/top_lists/_BXNWTZ'}\n",
      "{'_id': ObjectId('62da0189a1188f6595d8f996'), '루프탑 맛집 베스트 60곳': 'https://www.mangoplate.com/top_lists/BZTRJNQ'}\n",
      "{'_id': ObjectId('62da0189a1188f6595d8f997'), '백반 맛집 베스트 30곳': 'https://www.mangoplate.com/top_lists/-Q7JPCA'}\n",
      "{'_id': ObjectId('62da0189a1188f6595d8f998'), '상견례 하기 좋은 맛집 베스트 25곳': 'https://www.mangoplate.com/top_lists/9DIG1QC'}\n",
      "{'_id': ObjectId('62da0189a1188f6595d8f999'), '치즈케이크 맛집 베스트 35곳': 'https://www.mangoplate.com/top_lists/YMHID6P'}\n",
      "{'_id': ObjectId('62da0189a1188f6595d8f99a'), '이태원 맛집 베스트 65곳': 'https://www.mangoplate.com/top_lists/_GNNZVT'}\n",
      "{'_id': ObjectId('62da0189a1188f6595d8f99b'), '해장국 맛집 베스트 40곳': 'https://www.mangoplate.com/top_lists/TXALZDL'}\n",
      "{'_id': ObjectId('62da0189a1188f6595d8f99c'), '왕십리 맛집 베스트 35곳': 'https://www.mangoplate.com/top_lists/SAJY_AY'}\n",
      "{'_id': ObjectId('62da0189a1188f6595d8f99d'), '일본 라멘 맛집 베스트 45곳': 'https://www.mangoplate.com/top_lists/3ZNDAUF'}\n",
      "{'_id': ObjectId('62da0189a1188f6595d8f99e'), '멍게 맛집 베스트 10곳': 'https://www.mangoplate.com/top_lists/Q8YMWJ9'}\n",
      "{'_id': ObjectId('62da0189a1188f6595d8f99f'), '선물용 디저트 맛집 베스트 15곳': 'https://www.mangoplate.com/top_lists/CANSLUK'}\n",
      "{'_id': ObjectId('62da0189a1188f6595d8f9a0'), '애프터눈티 맛집 베스트 7곳': 'https://www.mangoplate.com/top_lists/_0W3HCB'}\n",
      "{'_id': ObjectId('62da0189a1188f6595d8f9a1'), '잠봉뵈르 맛집 베스트 15곳': 'https://www.mangoplate.com/top_lists/D3KMBHH'}\n",
      "{'_id': ObjectId('62da0189a1188f6595d8f9a2'), '과천 맛집 베스트 15곳': 'https://www.mangoplate.com/top_lists/-UNUVMS'}\n",
      "{'_id': ObjectId('62da0189a1188f6595d8f9a3'), '성게알 맛집 베스트 35곳': 'https://www.mangoplate.com/top_lists/5IUO9RZ'}\n",
      "{'_id': ObjectId('62da0189a1188f6595d8f9a4'), '분위기 좋은 강릉 카페 베스트 20곳': 'https://www.mangoplate.com/top_lists/Q7RVUQX'}\n",
      "{'_id': ObjectId('62da0189a1188f6595d8f9a5'), '반포 달빛무지개분수 맛집 베스트 10곳': 'https://www.mangoplate.com/top_lists/GT36G7K'}\n",
      "{'_id': ObjectId('62da0189a1188f6595d8f9a6'), '한정식 맛집 베스트 35곳': 'https://www.mangoplate.com/top_lists/TYHPZYZ'}\n",
      "{'_id': ObjectId('62da0189a1188f6595d8f9a7'), '랍스터 맛집 베스트 20곳': 'https://www.mangoplate.com/top_lists/JBDX70Y'}\n",
      "{'_id': ObjectId('62da0189a1188f6595d8f9a8'), '연남동 맛집 베스트 55곳': 'https://www.mangoplate.com/top_lists/ISC85EP'}\n",
      "{'_id': ObjectId('62da0189a1188f6595d8f9a9'), '빵집 베스트 50곳': 'https://www.mangoplate.com/top_lists/MSKXWHY'}\n",
      "{'_id': ObjectId('62da0189a1188f6595d8f9aa'), '강릉 맛집 베스트 45곳': 'https://www.mangoplate.com/top_lists/HLZSC9N'}\n",
      "{'_id': ObjectId('62da0189a1188f6595d8f9ab'), '종로 노포 맛집 베스트 15곳': 'https://www.mangoplate.com/top_lists/Z-KLXAG'}\n",
      "{'_id': ObjectId('62da0189a1188f6595d8f9ac'), '산채비빔밥 맛집 베스트 10곳': 'https://www.mangoplate.com/top_lists/IM9TWED'}\n",
      "{'_id': ObjectId('62da0189a1188f6595d8f9ad'), '부모님과 함께 가고싶은 맛집 베스트 30곳': 'https://www.mangoplate.com/top_lists/YN_U7YE'}\n",
      "{'_id': ObjectId('62da0189a1188f6595d8f9ae'), '가족 모임 맛집 베스트 45곳': 'https://www.mangoplate.com/top_lists/UCOUU-A'}\n",
      "{'_id': ObjectId('62da0189a1188f6595d8f9af'), '춘천 레고랜드 맛집 베스트 10곳': 'https://www.mangoplate.com/top_lists/T8BU3YU'}\n",
      "{'_id': ObjectId('62da0189a1188f6595d8f9b0'), '서울 장미축제 맛집 베스트 10곳': 'https://www.mangoplate.com/top_lists/BYLGJWM'}\n",
      "{'_id': ObjectId('62da0189a1188f6595d8f9b1'), '젤라또 맛집 베스트 35곳': 'https://www.mangoplate.com/top_lists/THMJHPY'}\n",
      "{'_id': ObjectId('62da0189a1188f6595d8f9b2'), '어린이대공원 맛집 베스트 35곳': 'https://www.mangoplate.com/top_lists/1YJYMEP'}\n",
      "{'_id': ObjectId('62da0189a1188f6595d8f9b3'), '아이랑 가기 좋은 맛집 총정리': 'https://www.mangoplate.com/top_lists/NP-AQQ4'}\n",
      "{'_id': ObjectId('62da0189a1188f6595d8f9b4'), '부산 연등축제 근처 맛집 베스트 10곳': 'https://www.mangoplate.com/top_lists/K6RN_EC'}\n",
      "{'_id': ObjectId('62da0189a1188f6595d8f9b5'), '연등회 맛집 베스트 30곳': 'https://www.mangoplate.com/top_lists/ZKCUPAG'}\n",
      "{'_id': ObjectId('62da0189a1188f6595d8f9b6'), '룸 있는 식당 맛집 베스트 45곳': 'https://www.mangoplate.com/top_lists/JZSRYUB'}\n",
      "{'_id': ObjectId('62da0189a1188f6595d8f9b7'), '오래된 한식당 맛집 베스트 60곳': 'https://www.mangoplate.com/top_lists/7SV0MV1'}\n",
      "{'_id': ObjectId('62da0189a1188f6595d8f9b8'), '가심비 맛집 베스트 20곳': 'https://www.mangoplate.com/top_lists/ED5J3BT'}\n",
      "{'_id': ObjectId('62da0189a1188f6595d8f9b9'), '상암동 맛집 베스트 10곳': 'https://www.mangoplate.com/top_lists/3UVNN6C'}\n",
      "{'_id': ObjectId('62da0189a1188f6595d8f9ba'), '망원동 카페 베스트 30곳': 'https://www.mangoplate.com/top_lists/SCEPYIG'}\n",
      "{'_id': ObjectId('62da0189a1188f6595d8f9bb'), '05월 제철 횟감 맛집 베스트 7곳': 'https://www.mangoplate.com/top_lists/C7QAPCW'}\n",
      "{'_id': ObjectId('62da0189a1188f6595d8f9bc'), '수지 맛집 베스트 35곳': 'https://www.mangoplate.com/top_lists/AQSCKCE'}\n",
      "{'_id': ObjectId('62da0189a1188f6595d8f9bd'), '멘보샤 맛집 베스트 15곳': 'https://www.mangoplate.com/top_lists/RNAY-OR'}\n",
      "{'_id': ObjectId('62da0189a1188f6595d8f9be'), '수원 행리단길 맛집 베스트 20곳': 'https://www.mangoplate.com/top_lists/D5X9SRU'}\n",
      "{'_id': ObjectId('62da0189a1188f6595d8f9bf'), '전라남도 한식 맛집 베스트 30곳': 'https://www.mangoplate.com/top_lists/WPJEBAK'}\n",
      "{'_id': ObjectId('62da0189a1188f6595d8f9c0'), '은평구 맛집 베스트 45곳': 'https://www.mangoplate.com/top_lists/T3EWXNT'}\n",
      "{'_id': ObjectId('62da0189a1188f6595d8f9c1'), '이태원 세계음식 맛집 베스트 25곳': 'https://www.mangoplate.com/top_lists/BYMAOGU'}\n",
      "{'_id': ObjectId('62da0189a1188f6595d8f9c2'), '타코 맛집 베스트 25곳': 'https://www.mangoplate.com/top_lists/VVCEZMW'}\n",
      "{'_id': ObjectId('62da0189a1188f6595d8f9c3'), '호텔 카페 맛집 베스트 10곳': 'https://www.mangoplate.com/top_lists/STYR_GG'}\n",
      "{'_id': ObjectId('62da0189a1188f6595d8f9c4'), '탕수육 맛집 베스트 55곳': 'https://www.mangoplate.com/top_lists/Q4TEU47'}\n",
      "{'_id': ObjectId('62da0189a1188f6595d8f9c5'), '방이동 맛집 베스트 30곳': 'https://www.mangoplate.com/top_lists/SR1RMLC'}\n",
      "{'_id': ObjectId('62da0189a1188f6595d8f9c6'), '봉골레 파스타 맛집 베스트 15곳': 'https://www.mangoplate.com/top_lists/UILE_SB'}\n",
      "{'_id': ObjectId('62da0189a1188f6595d8f9c7'), '녹사평 맛집 베스트 20곳': 'https://www.mangoplate.com/top_lists/R1DFO87'}\n",
      "{'_id': ObjectId('62da0189a1188f6595d8f9c8'), '참치 맛집 베스트 20곳': 'https://www.mangoplate.com/top_lists/2T-AABP'}\n",
      "{'_id': ObjectId('62da0189a1188f6595d8f9c9'), '테라스 맛집 베스트 60곳': 'https://www.mangoplate.com/top_lists/QXXXAVB'}\n",
      "{'_id': ObjectId('62da0189a1188f6595d8f9ca'), '부산 중구 맛집 베스트 20곳': 'https://www.mangoplate.com/top_lists/ZPFOFUE'}\n",
      "{'_id': ObjectId('62da0189a1188f6595d8f9cb'), '서울로7017 맛집 베스트 15곳': 'https://www.mangoplate.com/top_lists/HZJLNLV'}\n",
      "{'_id': ObjectId('62da0189a1188f6595d8f9cc'), '부리또 맛집 베스트 20곳': 'https://www.mangoplate.com/top_lists/SQ2JPDP'}\n",
      "{'_id': ObjectId('62da0189a1188f6595d8f9cd'), '건대 차이나타운 맛집 베스트 15곳': 'https://www.mangoplate.com/top_lists/TOJMY3C'}\n",
      "{'_id': ObjectId('62da0189a1188f6595d8f9ce'), '관악구 맛집 베스트 60곳': 'https://www.mangoplate.com/top_lists/PJLDJYT'}\n",
      "{'_id': ObjectId('62da0189a1188f6595d8f9cf'), '크로플 맛집 베스트 25곳': 'https://www.mangoplate.com/top_lists/T1XBN71'}\n",
      "{'_id': ObjectId('62da0189a1188f6595d8f9d0'), '봄 제철메뉴 맛집 베스트 10곳': 'https://www.mangoplate.com/top_lists/J--SKAA'}\n",
      "{'_id': ObjectId('62da0189a1188f6595d8f9d1'), '광장시장 맛집 베스트 15곳': 'https://www.mangoplate.com/top_lists/8UT7XE8'}\n",
      "{'_id': ObjectId('62da0189a1188f6595d8f9d2'), '슈크림 맛집 베스트 15곳': 'https://www.mangoplate.com/top_lists/FWEK_HR'}\n",
      "{'_id': ObjectId('62da0189a1188f6595d8f9d3'), '홍대 빵집 베스트 10곳': 'https://www.mangoplate.com/top_lists/EP5Y0K9'}\n",
      "{'_id': ObjectId('62da0189a1188f6595d8f9d4'), '이태원 브런치 맛집 베스트 10곳': 'https://www.mangoplate.com/top_lists/KH0Q5U4'}\n",
      "{'_id': ObjectId('62da0189a1188f6595d8f9d5'), '돌솥밥 맛집 베스트 25곳': 'https://www.mangoplate.com/top_lists/VTWKRAW'}\n",
      "{'_id': ObjectId('62da0189a1188f6595d8f9d6'), '가로수길 이탈리안 맛집 베스트 7곳': 'https://www.mangoplate.com/top_lists/VPIXZQI'}\n",
      "{'_id': ObjectId('62da0189a1188f6595d8f9d7'), '마들렌 맛집 베스트 15곳': 'https://www.mangoplate.com/top_lists/AJH_VOK'}\n",
      "{'_id': ObjectId('62da0189a1188f6595d8f9d8'), '목동 한식 맛집 베스트 7곳': 'https://www.mangoplate.com/top_lists/TYJSOPZ'}\n",
      "{'_id': ObjectId('62da0189a1188f6595d8f9d9'), '카푸치노 맛집 베스트 10곳': 'https://www.mangoplate.com/top_lists/LFZUSQJ'}\n",
      "{'_id': ObjectId('62da0189a1188f6595d8f9da'), '소격동 맛집 베스트 7곳': 'https://www.mangoplate.com/top_lists/_IQT_DH'}\n",
      "{'_id': ObjectId('62da0189a1188f6595d8f9db'), '짜장면 맛집 베스트 50곳': 'https://www.mangoplate.com/top_lists/JR6AO1K'}\n",
      "{'_id': ObjectId('62da0189a1188f6595d8f9dc'), '차돌박이 요리 맛집 베스트 5곳': 'https://www.mangoplate.com/top_lists/VGREQKE'}\n",
      "{'_id': ObjectId('62da0189a1188f6595d8f9dd'), '여수 벽화마을 맛집 베스트 10곳': 'https://www.mangoplate.com/top_lists/QAZXJAP'}\n",
      "{'_id': ObjectId('62da0189a1188f6595d8f9de'), '꼬치구이 맛집 베스트 25곳': 'https://www.mangoplate.com/top_lists/ICIWBPD'}\n",
      "{'_id': ObjectId('62da0189a1188f6595d8f9df'), '부산 롯데월드 근처 맛집 10곳': 'https://www.mangoplate.com/top_lists/2FCAWYS'}\n",
      "{'_id': ObjectId('62da0189a1188f6595d8f9e0'), '대전 카페 베스트 30곳': 'https://www.mangoplate.com/top_lists/3UMRDAL'}\n",
      "{'_id': ObjectId('62da0189a1188f6595d8f9e1'), '크림 파스타 맛집 베스트 35곳': 'https://www.mangoplate.com/top_lists/M_L65SI'}\n",
      "{'_id': ObjectId('62da0189a1188f6595d8f9e2'), '튀김 맛집 베스트 30곳': 'https://www.mangoplate.com/top_lists/HZN3JO6'}\n",
      "{'_id': ObjectId('62da0189a1188f6595d8f9e3'), '채식 맛집 베스트 25곳': 'https://www.mangoplate.com/top_lists/SQUM3TS'}\n",
      "{'_id': ObjectId('62da0189a1188f6595d8f9e4'), '내방역 맛집 베스트 10곳': 'https://www.mangoplate.com/top_lists/WVUP3OC'}\n",
      "{'_id': ObjectId('62da0189a1188f6595d8f9e5'), '비지찌개 맛집 베스트 7곳': 'https://www.mangoplate.com/top_lists/8GCJZOM'}\n",
      "{'_id': ObjectId('62da0189a1188f6595d8f9e6'), '노량진 맛집 베스트 20곳': 'https://www.mangoplate.com/top_lists/GI5R1_R'}\n",
      "{'_id': ObjectId('62da0189a1188f6595d8f9e7'), '벚꽃뷰 맛집 베스트 7곳': 'https://www.mangoplate.com/top_lists/KDODBMH'}\n",
      "{'_id': ObjectId('62da0189a1188f6595d8f9e8'), '들깨 요리 맛집 베스트 20곳': 'https://www.mangoplate.com/top_lists/BSZFLGF'}\n",
      "{'_id': ObjectId('62da0189a1188f6595d8f9e9'), '봄 제철 음식 맛집 베스트 10곳': 'https://www.mangoplate.com/top_lists/KGFX3JB'}\n",
      "{'_id': ObjectId('62da0189a1188f6595d8f9ea'), '연남동 중식 맛집 베스트 10곳': 'https://www.mangoplate.com/top_lists/MEXZUAX'}\n",
      "{'_id': ObjectId('62da0189a1188f6595d8f9eb'), '파운드케이크 맛집 베스트 15곳': 'https://www.mangoplate.com/top_lists/NO4-CKJ'}\n",
      "{'_id': ObjectId('62da0189a1188f6595d8f9ec'), '광진구 맛집 베스트 55곳': 'https://www.mangoplate.com/top_lists/D3A7ECY'}\n",
      "{'_id': ObjectId('62da0189a1188f6595d8f9ed'), '마파두부 맛집 베스트 15곳': 'https://www.mangoplate.com/top_lists/TM0VQ-V'}\n",
      "{'_id': ObjectId('62da0189a1188f6595d8f9ee'), '갈비탕 맛집 베스트 20곳': 'https://www.mangoplate.com/top_lists/RSIUEYX'}\n",
      "{'_id': ObjectId('62da0189a1188f6595d8f9ef'), '다이어트 맛집 베스트 45곳': 'https://www.mangoplate.com/top_lists/__GWLGW'}\n",
      "{'_id': ObjectId('62da0189a1188f6595d8f9f0'), '샌드위치 맛집 베스트 40곳': 'https://www.mangoplate.com/top_lists/KZ0EPEX'}\n",
      "{'_id': ObjectId('62da0189a1188f6595d8f9f1'), '테라스 있는 카페 베스트 70곳': 'https://www.mangoplate.com/top_lists/WAS4WN8'}\n",
      "{'_id': ObjectId('62da0189a1188f6595d8f9f2'), '대전 브런치 맛집 베스트 7곳': 'https://www.mangoplate.com/top_lists/HD3BRDS'}\n",
      "{'_id': ObjectId('62da0189a1188f6595d8f9f3'), '바비큐 맛집 베스트 20곳': 'https://www.mangoplate.com/top_lists/IAG90D8'}\n",
      "{'_id': ObjectId('62da0189a1188f6595d8f9f4'), '핫초코 맛집 베스트 15곳': 'https://www.mangoplate.com/top_lists/MOSWY4T'}\n",
      "{'_id': ObjectId('62da0189a1188f6595d8f9f5'), '후암동 맛집 베스트 15곳': 'https://www.mangoplate.com/top_lists/WSMIKK6'}\n",
      "{'_id': ObjectId('62da0189a1188f6595d8f9f6'), '이화여대 맛집 베스트 40곳': 'https://www.mangoplate.com/top_lists/-X43LU2'}\n",
      "{'_id': ObjectId('62da0189a1188f6595d8f9f7'), '플랜테리어 맛집 베스트 15곳': 'https://www.mangoplate.com/top_lists/DIIRV-L'}\n",
      "{'_id': ObjectId('62da0189a1188f6595d8f9f8'), '성북구 양식 맛집 베스트 20곳': 'https://www.mangoplate.com/top_lists/QZIOJ56'}\n",
      "{'_id': ObjectId('62da0189a1188f6595d8f9f9'), '숙명여대 맛집 베스트 25곳': 'https://www.mangoplate.com/top_lists/6OH1IZD'}\n",
      "{'_id': ObjectId('62da0189a1188f6595d8f9fa'), '육회비빔밥 맛집 베스트 25곳': 'https://www.mangoplate.com/top_lists/ZPQFRXL'}\n",
      "{'_id': ObjectId('62da0189a1188f6595d8f9fb'), '전라남도 맛집 베스트 50': 'https://www.mangoplate.com/top_lists/ZUSVPDK'}\n",
      "{'_id': ObjectId('62da0189a1188f6595d8f9fc'), '버섯전골 맛집 베스트 15곳': 'https://www.mangoplate.com/top_lists/BXOR4DM'}\n",
      "{'_id': ObjectId('62da0189a1188f6595d8f9fd'), '홍익대 맛집 베스트 60곳': 'https://www.mangoplate.com/top_lists/3TOPY-9'}\n",
      "{'_id': ObjectId('62da0189a1188f6595d8f9fe'), '우동 맛집 베스트 35곳': 'https://www.mangoplate.com/top_lists/WO4MUGT'}\n",
      "{'_id': ObjectId('62da0189a1188f6595d8f9ff'), '연세대 맛집 베스트 55곳': 'https://www.mangoplate.com/top_lists/UW2BQ4F'}\n",
      "{'_id': ObjectId('62da0189a1188f6595d8fa00'), '육개장 맛집 베스트 10곳': 'https://www.mangoplate.com/top_lists/U7K9D44'}\n",
      "{'_id': ObjectId('62da0189a1188f6595d8fa01'), '동국대 맛집 베스트 15곳': 'https://www.mangoplate.com/top_lists/OJZB2N8'}\n",
      "{'_id': ObjectId('62da0189a1188f6595d8fa02'), '피맥 맛집 베스트 45곳': 'https://www.mangoplate.com/top_lists/JW2ANLH'}\n",
      "{'_id': ObjectId('62da0189a1188f6595d8fa03'), '성동구 맛집 베스트 40곳': 'https://www.mangoplate.com/top_lists/_ID189T'}\n",
      "{'_id': ObjectId('62da0189a1188f6595d8fa04'), '반려견 동반 맛집 베스트 50곳': 'https://www.mangoplate.com/top_lists/MC4IEZU'}\n",
      "{'_id': ObjectId('62da0189a1188f6595d8fa05'), '플라워 카페 베스트 15곳': 'https://www.mangoplate.com/top_lists/CNXCITC'}\n",
      "{'_id': ObjectId('62da0189a1188f6595d8fa06'), '대구 중구 맛집 베스트 30곳': 'https://www.mangoplate.com/top_lists/5GNYUGC'}\n",
      "{'_id': ObjectId('62da0189a1188f6595d8fa07'), '리조또 맛집 베스트 35곳': 'https://www.mangoplate.com/top_lists/VN6HGCL'}\n",
      "{'_id': ObjectId('62da0189a1188f6595d8fa08'), '용산공원 주변 맛집 베스트 15곳': 'https://www.mangoplate.com/top_lists/_P7SIH3'}\n",
      "{'_id': ObjectId('62da0189a1188f6595d8fa09'), '휘낭시에 맛집 베스트 25곳': 'https://www.mangoplate.com/top_lists/AWTCDNU'}\n",
      "{'_id': ObjectId('62da0189a1188f6595d8fa0a'), '한양대 맛집 베스트 25곳': 'https://www.mangoplate.com/top_lists/BYAGNT8'}\n",
      "{'_id': ObjectId('62da0189a1188f6595d8fa0b'), '생선구이 맛집 베스트 30곳': 'https://www.mangoplate.com/top_lists/HHNDGOY'}\n",
      "{'_id': ObjectId('62da0189a1188f6595d8fa0c'), '경희대 맛집 베스트 30곳': 'https://www.mangoplate.com/top_lists/BWHFKIT'}\n",
      "{'_id': ObjectId('62da0189a1188f6595d8fa0d'), '된장찌개 맛집 베스트 10곳': 'https://www.mangoplate.com/top_lists/DW3V41T'}\n",
      "{'_id': ObjectId('62da0189a1188f6595d8fa0e'), '서울대 맛집 베스트 45곳': 'https://www.mangoplate.com/top_lists/LLX5IS2'}\n",
      "{'_id': ObjectId('62da0189a1188f6595d8fa0f'), '티라미수 맛집 베스트 45곳': 'https://www.mangoplate.com/top_lists/LMUMANJ'}\n",
      "{'_id': ObjectId('62da0189a1188f6595d8fa10'), '이탈리안 맛집 베스트 45곳': 'https://www.mangoplate.com/top_lists/Z6RIC_X'}\n",
      "{'_id': ObjectId('62da0189a1188f6595d8fa11'), '중앙대 맛집 베스트 20곳': 'https://www.mangoplate.com/top_lists/RQIW6WK'}\n",
      "{'_id': ObjectId('62da0189a1188f6595d8fa12'), '보리밥 맛집 베스트 7곳': 'https://www.mangoplate.com/top_lists/HZ3IOPJ'}\n",
      "{'_id': ObjectId('62da0189a1188f6595d8fa13'), '세종대 맛집 베스트 20곳': 'https://www.mangoplate.com/top_lists/CU_IVJB'}\n",
      "{'_id': ObjectId('62da0189a1188f6595d8fa14'), '문어숙회 맛집 베스트 7곳': 'https://www.mangoplate.com/top_lists/-XLHMLV'}\n",
      "{'_id': ObjectId('62da0189a1188f6595d8fa15'), '제주도 오션뷰 맛집 25곳': 'https://www.mangoplate.com/top_lists/7FIOFJ_'}\n",
      "{'_id': ObjectId('62da0189a1188f6595d8fa16'), '피쉬앤칩스 맛집 베스트 7곳': 'https://www.mangoplate.com/top_lists/XVMBN9S'}\n",
      "{'_id': ObjectId('62da0189a1188f6595d8fa17'), '성동구 카페 베스트 30곳': 'https://www.mangoplate.com/top_lists/ZZE0WWT'}\n",
      "{'_id': ObjectId('62da0189a1188f6595d8fa18'), '샤퀴테리 맛집 베스트 20곳': 'https://www.mangoplate.com/top_lists/FOY5MDY'}\n",
      "{'_id': ObjectId('62da0189a1188f6595d8fa19'), '예쁜 디저트 맛집 베스트 30곳': 'https://www.mangoplate.com/top_lists/TA5EKLZ'}\n",
      "{'_id': ObjectId('62da0189a1188f6595d8fa1a'), '석촌호수 벚꽃축제 맛집 베스트 45곳': 'https://www.mangoplate.com/top_lists/I_R8IWT'}\n",
      "{'_id': ObjectId('62da0189a1188f6595d8fa1b'), '주꾸미 맛집 베스트 20곳': 'https://www.mangoplate.com/top_lists/5FBFSRC'}\n",
      "{'_id': ObjectId('62da0189a1188f6595d8fa1c'), '파주 맛집 베스트 35곳': 'https://www.mangoplate.com/top_lists/OGWSOYY'}\n",
      "{'_id': ObjectId('62da0189a1188f6595d8fa1d'), '화이트와인 맛집 베스트 15곳': 'https://www.mangoplate.com/top_lists/WZNFGPK'}\n",
      "{'_id': ObjectId('62da0189a1188f6595d8fa1e'), '벚꽃 구경 후 가기 좋은 제주 맛집 베스트 20곳': 'https://www.mangoplate.com/top_lists/WUR8EML'}\n",
      "{'_id': ObjectId('62da0189a1188f6595d8fa1f'), '숙대 맛집 베스트 30곳': 'https://www.mangoplate.com/top_lists/FK5ASUG'}\n",
      "{'_id': ObjectId('62da0189a1188f6595d8fa20'), '오픈 샌드위치 맛집 베스트 10곳': 'https://www.mangoplate.com/top_lists/VW1IZVM'}\n",
      "{'_id': ObjectId('62da0189a1188f6595d8fa21'), '경기도 양평 맛집 베스트 20곳': 'https://www.mangoplate.com/top_lists/WUN1B70'}\n",
      "{'_id': ObjectId('62da0189a1188f6595d8fa22'), '마카롱 맛집 베스트 50곳': 'https://www.mangoplate.com/top_lists/5X5MKAR'}\n",
      "{'_id': ObjectId('62da0189a1188f6595d8fa23'), '일산 맛집 베스트 40곳': 'https://www.mangoplate.com/top_lists/PNY33TF'}\n",
      "{'_id': ObjectId('62da0189a1188f6595d8fa24'), '성균관대 맛집 베스트 30곳': 'https://www.mangoplate.com/top_lists/CEMXR5H'}\n",
      "{'_id': ObjectId('62da0189a1188f6595d8fa25'), '신사동 중식 맛집 베스트10곳': 'https://www.mangoplate.com/top_lists/QQOVM6W'}\n",
      "{'_id': ObjectId('62da0189a1188f6595d8fa26'), '삼겹살 맛집 베스트 50곳': 'https://www.mangoplate.com/top_lists/3LKPM7A'}\n",
      "{'_id': ObjectId('62da0189a1188f6595d8fa27'), '해산물 덮밥 맛집 베스트 30곳': 'https://www.mangoplate.com/top_lists/LERVVFC'}\n",
      "{'_id': ObjectId('62da0189a1188f6595d8fa28'), '여의도 카페 맛집 베스트 15곳': 'https://www.mangoplate.com/top_lists/BCL1J2J'}\n",
      "{'_id': ObjectId('62da0189a1188f6595d8fa29'), '여의도 벚꽃축제 맛집 베스트 40곳': 'https://www.mangoplate.com/top_lists/8H0XZ9X'}\n",
      "{'_id': ObjectId('62da0189a1188f6595d8fa2a'), '도곡동 맛집 베스트 20곳': 'https://www.mangoplate.com/top_lists/XMGSQTT'}\n",
      "{'_id': ObjectId('62da0189a1188f6595d8fa2b'), '청국장 맛집 베스트 7곳': 'https://www.mangoplate.com/top_lists/G83U8HF'}\n",
      "{'_id': ObjectId('62da0189a1188f6595d8fa2c'), '경기도 고양시 맛집 베스트 60곳': 'https://www.mangoplate.com/top_lists/MJN7O26'}\n",
      "{'_id': ObjectId('62da0189a1188f6595d8fa2d'), '부산시 부산진구 맛집 베스트 30곳': 'https://www.mangoplate.com/top_lists/FCXZW1S'}\n",
      "{'_id': ObjectId('62da0189a1188f6595d8fa2e'), '물만두 맛집 베스트 7곳': 'https://www.mangoplate.com/top_lists/XJOVWOO'}\n",
      "{'_id': ObjectId('62da0189a1188f6595d8fa2f'), '삼성중앙역 맛집 베스트 30곳': 'https://www.mangoplate.com/top_lists/KQYSEIN'}\n",
      "{'_id': ObjectId('62da0189a1188f6595d8fa30'), '복어 맛집 베스트 7곳': 'https://www.mangoplate.com/top_lists/HWXELHE'}\n",
      "{'_id': ObjectId('62da0189a1188f6595d8fa31'), '개포/수서/일원 맛집 베스트 7곳': 'https://www.mangoplate.com/top_lists/JM5HKGF'}\n",
      "{'_id': ObjectId('62da0189a1188f6595d8fa32'), '미트볼 맛집 베스트 10곳': 'https://www.mangoplate.com/top_lists/L2O6JGV'}\n",
      "{'_id': ObjectId('62da0189a1188f6595d8fa33'), '북촌 한식 맛집 베스트 20곳': 'https://www.mangoplate.com/top_lists/EW8H8UD'}\n",
      "{'_id': ObjectId('62da0189a1188f6595d8fa34'), '교자 맛집 베스트 25곳': 'https://www.mangoplate.com/top_lists/-8MNPMN'}\n",
      "{'_id': ObjectId('62da0189a1188f6595d8fa35'), '이태원 디저트 맛집 베스트 10곳': 'https://www.mangoplate.com/top_lists/CK68XIY'}\n",
      "{'_id': ObjectId('62da0189a1188f6595d8fa36'), '꼼장어 맛집 베스트 7곳': 'https://www.mangoplate.com/top_lists/FUNHRL3'}\n",
      "{'_id': ObjectId('62da0189a1188f6595d8fa37'), '남영역 맛집 베스트 30곳': 'https://www.mangoplate.com/top_lists/L27A26A'}\n",
      "{'_id': ObjectId('62da0189a1188f6595d8fa38'), '인생샷 카페 베스트 20곳': 'https://www.mangoplate.com/top_lists/OS3WLJV'}\n",
      "{'_id': ObjectId('62da0189a1188f6595d8fa39'), '통인동 맛집 베스트 20곳': 'https://www.mangoplate.com/top_lists/V7UHV5N'}\n",
      "{'_id': ObjectId('62da0189a1188f6595d8fa3a'), '함박 스테이크 맛집 베스트 15곳': 'https://www.mangoplate.com/top_lists/LSUT9CW'}\n",
      "{'_id': ObjectId('62da0189a1188f6595d8fa3b'), '가로수길 디저트 맛집 베스트 20곳': 'https://www.mangoplate.com/top_lists/4WUQWBH'}\n",
      "{'_id': ObjectId('62da0189a1188f6595d8fa3c'), '닭똥집 맛집 베스트 15곳': 'https://www.mangoplate.com/top_lists/SW8-QKG'}\n",
      "{'_id': ObjectId('62da0189a1188f6595d8fa3d'), '청담동 브런치 맛집 베스트 5곳': 'https://www.mangoplate.com/top_lists/1A0DFJ7'}\n",
      "{'_id': ObjectId('62da0189a1188f6595d8fa3e'), '브라우니 맛집 베스트 10곳': 'https://www.mangoplate.com/top_lists/KVUKKZF'}\n",
      "{'_id': ObjectId('62da0189a1188f6595d8fa3f'), '당산역 맛집 베스트 15곳': 'https://www.mangoplate.com/top_lists/HGMSRXI'}\n"
     ]
    }
   ],
   "source": [
    "for data in mg_col.find():\n",
    "    print(data)"
   ]
  },
  {
   "cell_type": "code",
   "execution_count": 48,
   "id": "33c40fd5",
   "metadata": {},
   "outputs": [
    {
     "ename": "SyntaxError",
     "evalue": "invalid syntax (4066958950.py, line 1)",
     "output_type": "error",
     "traceback": [
      "\u001b[1;36m  Input \u001b[1;32mIn [48]\u001b[1;36m\u001b[0m\n\u001b[1;33m    mongoexport --db Testmongo --port 27017 --collection list --type=csv --out ./Test.csv\u001b[0m\n\u001b[1;37m                     ^\u001b[0m\n\u001b[1;31mSyntaxError\u001b[0m\u001b[1;31m:\u001b[0m invalid syntax\n"
     ]
    }
   ],
   "source": [
    "# mongo DB -> CSV 출력\n",
    "# 각 이름이 존재해야 함\n",
    "import pymongo\n",
    "import os\n",
    "import re\n",
    "import time\n",
    "import csv\n",
    "\n",
    "# MongoDB Connection Config \n",
    "#host = 'localhost'\n",
    "#port = 27017\n",
    "#username = ''\n",
    "#password = ''\n",
    "database = 'Testmongo'\n",
    "\n",
    "#print('접속 경로 :: ', 'mongodb://%s:%s@%s:%d/%s' % (username, password, host, port, database))\n",
    "#conn = pymongo.MongoClient('mongodb://%s:%s@%s:%d/%s' % (username, password, host, port, database))\n",
    "conn = pymongo.MongoClient('mongodb://localhost:27017')\n",
    "print('MongoClient 접속 완료')\n",
    "\n",
    "# db 객체 할당받기\n",
    "db = conn.get_database(database)\n",
    "#print('db 객체 할당 완료')\n",
    "\n",
    "# collection 객체 할당받기\n",
    "coll = 'address'\n",
    "collection = db.get_collection(coll)\n",
    "\n",
    "path = 'C:/Users/Kosmo/Desktop/Test'\n",
    "file_name = 'Test.csv'\n",
    "\n",
    "i = 0\n",
    "posts = list(collection.find())\n",
    "\n",
    "with open(os.path.join(path, file_name), 'w', newline='', encoding='utf-8-sig') as output:\n",
    "    csvout = csv.DictWriter(output,['_id', 'name','addr'])\n",
    "    csvout.writeheader()\n",
    "    for post in posts:\n",
    "        wr = csv.writer(output)\n",
    "        wr.writerow([ post['_id'],post['name'],post['addr'] ])\n",
    "        # 진행률을 출력하기 위한 부분\n",
    "        i += 1\n",
    "        if i % 100:\n",
    "            print(\"{} finished\".format(i))\n",
    "\n",
    "print('[{}] End!!!'.format(coll))"
   ]
  },
  {
   "cell_type": "code",
   "execution_count": 25,
   "id": "145dd734",
   "metadata": {
    "scrolled": true
   },
   "outputs": [],
   "source": [
    "import matplotlib.pyplot as plt\n",
    "# x 축: 지역명, y축: 지역별 식당 갯수\n"
   ]
  },
  {
   "cell_type": "code",
   "execution_count": 1,
   "id": "548c1049",
   "metadata": {},
   "outputs": [
    {
     "name": "stderr",
     "output_type": "stream",
     "text": [
      "findfont: Font family ['Hancom MalangMalang'] not found. Falling back to DejaVu Sans.\n",
      "C:\\Users\\Kosmo\\anaconda3\\envs\\env_pyadvanced\\lib\\site-packages\\IPython\\core\\pylabtools.py:151: UserWarning: Glyph 47579 (\\N{HANGUL SYLLABLE MAS}) missing from current font.\n",
      "  fig.canvas.print_figure(bytes_io, **kw)\n",
      "C:\\Users\\Kosmo\\anaconda3\\envs\\env_pyadvanced\\lib\\site-packages\\IPython\\core\\pylabtools.py:151: UserWarning: Glyph 51080 (\\N{HANGUL SYLLABLE ISS}) missing from current font.\n",
      "  fig.canvas.print_figure(bytes_io, **kw)\n",
      "C:\\Users\\Kosmo\\anaconda3\\envs\\env_pyadvanced\\lib\\site-packages\\IPython\\core\\pylabtools.py:151: UserWarning: Glyph 45796 (\\N{HANGUL SYLLABLE DA}) missing from current font.\n",
      "  fig.canvas.print_figure(bytes_io, **kw)\n",
      "findfont: Font family ['Hancom MalangMalang'] not found. Falling back to DejaVu Sans.\n",
      "C:\\Users\\Kosmo\\anaconda3\\envs\\env_pyadvanced\\lib\\site-packages\\IPython\\core\\pylabtools.py:151: UserWarning: Glyph 44316 (\\N{HANGUL SYLLABLE GWAEN}) missing from current font.\n",
      "  fig.canvas.print_figure(bytes_io, **kw)\n",
      "C:\\Users\\Kosmo\\anaconda3\\envs\\env_pyadvanced\\lib\\site-packages\\IPython\\core\\pylabtools.py:151: UserWarning: Glyph 52270 (\\N{HANGUL SYLLABLE CANH}) missing from current font.\n",
      "  fig.canvas.print_figure(bytes_io, **kw)\n",
      "C:\\Users\\Kosmo\\anaconda3\\envs\\env_pyadvanced\\lib\\site-packages\\IPython\\core\\pylabtools.py:151: UserWarning: Glyph 48324 (\\N{HANGUL SYLLABLE BYEOL}) missing from current font.\n",
      "  fig.canvas.print_figure(bytes_io, **kw)\n",
      "C:\\Users\\Kosmo\\anaconda3\\envs\\env_pyadvanced\\lib\\site-packages\\IPython\\core\\pylabtools.py:151: UserWarning: Glyph 47196 (\\N{HANGUL SYLLABLE RO}) missing from current font.\n",
      "  fig.canvas.print_figure(bytes_io, **kw)\n"
     ]
    },
    {
     "data": {
      "image/png": "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\n",
      "text/plain": [
       "<Figure size 432x288 with 1 Axes>"
      ]
     },
     "metadata": {},
     "output_type": "display_data"
    }
   ],
   "source": [
    "import matplotlib.pyplot as plt\n",
    "plt.rcParams['font.family'] = 'Hancom MalangMalang'\n",
    "plt.rc('font', size=18)\n",
    "plt.rc('')\n",
    "\n",
    "colors = [\"#DF0C0C\",\"#E023D6\",\"#3840F2\"]\n",
    "aaa = [27,35,25]\n",
    "ratio = (aaa[0],aaa[1],aaa[2])\n",
    "labels = ['맛있다', '괜찮다', '별로']\n",
    "explode = [0, 0.10, 0.07]\n",
    "\n",
    "_, _, autotexts = plt.pie(ratio, labels=labels, autopct='%.1f%%', startangle=260, counterclock=False, shadow=True, explode=explode, colors=colors)\n",
    "for autotext in autotexts:\n",
    "    autotext.set_color('white')\n",
    "    autotext.set_fontsize('16')\n",
    "plt.show()"
   ]
  },
  {
   "cell_type": "code",
   "execution_count": 2,
   "id": "8509379c",
   "metadata": {},
   "outputs": [
    {
     "name": "stderr",
     "output_type": "stream",
     "text": [
      "findfont: Font family ['Hancom MalangMalang'] not found. Falling back to DejaVu Sans.\n",
      "C:\\Users\\Kosmo\\AppData\\Local\\Temp\\ipykernel_11104\\2066996273.py:18: UserWarning: Glyph 47579 (\\N{HANGUL SYLLABLE MAS}) missing from current font.\n",
      "  plt.savefig(path+\"test.png\",format='png',dpi=300, facecolor=\"white\")\n",
      "C:\\Users\\Kosmo\\AppData\\Local\\Temp\\ipykernel_11104\\2066996273.py:18: UserWarning: Glyph 51080 (\\N{HANGUL SYLLABLE ISS}) missing from current font.\n",
      "  plt.savefig(path+\"test.png\",format='png',dpi=300, facecolor=\"white\")\n",
      "C:\\Users\\Kosmo\\AppData\\Local\\Temp\\ipykernel_11104\\2066996273.py:18: UserWarning: Glyph 45796 (\\N{HANGUL SYLLABLE DA}) missing from current font.\n",
      "  plt.savefig(path+\"test.png\",format='png',dpi=300, facecolor=\"white\")\n",
      "C:\\Users\\Kosmo\\AppData\\Local\\Temp\\ipykernel_11104\\2066996273.py:18: UserWarning: Glyph 44316 (\\N{HANGUL SYLLABLE GWAEN}) missing from current font.\n",
      "  plt.savefig(path+\"test.png\",format='png',dpi=300, facecolor=\"white\")\n",
      "C:\\Users\\Kosmo\\AppData\\Local\\Temp\\ipykernel_11104\\2066996273.py:18: UserWarning: Glyph 52270 (\\N{HANGUL SYLLABLE CANH}) missing from current font.\n",
      "  plt.savefig(path+\"test.png\",format='png',dpi=300, facecolor=\"white\")\n",
      "C:\\Users\\Kosmo\\AppData\\Local\\Temp\\ipykernel_11104\\2066996273.py:18: UserWarning: Glyph 48324 (\\N{HANGUL SYLLABLE BYEOL}) missing from current font.\n",
      "  plt.savefig(path+\"test.png\",format='png',dpi=300, facecolor=\"white\")\n",
      "C:\\Users\\Kosmo\\AppData\\Local\\Temp\\ipykernel_11104\\2066996273.py:18: UserWarning: Glyph 47196 (\\N{HANGUL SYLLABLE RO}) missing from current font.\n",
      "  plt.savefig(path+\"test.png\",format='png',dpi=300, facecolor=\"white\")\n"
     ]
    },
    {
     "data": {
      "image/png": "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\n",
      "text/plain": [
       "<Figure size 432x288 with 1 Axes>"
      ]
     },
     "metadata": {},
     "output_type": "display_data"
    }
   ],
   "source": [
    "import matplotlib.pyplot as plt\n",
    "path=\"C:/Users/Kosmo/Desktop/Test/\"\n",
    "plt.rcParams['font.family'] = 'Hancom MalangMalang'\n",
    "plt.rc('font', size=18)\n",
    "\n",
    "\n",
    "ratio = [34, 32, 16]\n",
    "labels = ['맛있다', '괜찮다', '별로']\n",
    "colors = ['#ff9999', '#ffc000', '#8fd9b6']\n",
    "wedgeprops={'width': 0.7, 'edgecolor': 'w', 'linewidth': 4}\n",
    "explode = [0, 0.10, 0.07]\n",
    "\n",
    "_,_, autotexts = plt.pie(ratio, labels=labels, autopct='%.1f%%',shadow=True, startangle=260, counterclock=False, colors=colors, wedgeprops=wedgeprops, explode=explode)\n",
    "for autotext in autotexts:\n",
    "    autotext.set_color('blue')\n",
    "    autotext.set_fontsize('16')\n",
    "\n",
    "plt.savefig(path+\"test.png\",format='png',dpi=300, facecolor=\"white\")\n",
    "#plt.show()"
   ]
  },
  {
   "cell_type": "code",
   "execution_count": 56,
   "id": "3edad7bf",
   "metadata": {},
   "outputs": [
    {
     "name": "stdout",
     "output_type": "stream",
     "text": [
      "DejaVu Sans Mono.ttf\n",
      "DejaVu Serif Display.ttf\n",
      "cmex10.ttf\n",
      "DejaVu Serif.ttf\n",
      "STIXSizeThreeSym.ttf\n",
      "cmss10.ttf\n",
      "DejaVu Sans.ttf\n",
      "STIXNonUnicode.ttf\n",
      "STIXNonUnicode.ttf\n",
      "cmsy10.ttf\n",
      "DejaVu Sans.ttf\n",
      "STIXGeneral.ttf\n",
      "cmr10.ttf\n",
      "DejaVu Serif.ttf\n",
      "STIXSizeFiveSym.ttf\n",
      "STIXNonUnicode.ttf\n",
      "STIXSizeOneSym.ttf\n",
      "DejaVu Sans Mono.ttf\n",
      "STIXGeneral.ttf\n",
      "DejaVu Sans Display.ttf\n",
      "DejaVu Sans Mono.ttf\n",
      "STIXSizeOneSym.ttf\n",
      "DejaVu Serif.ttf\n",
      "cmtt10.ttf\n",
      "STIXSizeFourSym.ttf\n",
      "STIXSizeTwoSym.ttf\n",
      "STIXNonUnicode.ttf\n",
      "DejaVu Sans Mono.ttf\n",
      "DejaVu Sans.ttf\n",
      "DejaVu Sans.ttf\n",
      "STIXSizeFourSym.ttf\n",
      "DejaVu Serif.ttf\n",
      "STIXSizeTwoSym.ttf\n",
      "STIXGeneral.ttf\n",
      "cmb10.ttf\n",
      "STIXGeneral.ttf\n",
      "cmmi10.ttf\n",
      "STIXSizeThreeSym.ttf\n",
      "Microsoft YaHei.ttf\n",
      "Bodoni MT.ttf\n",
      "Trebuchet MS.ttf\n",
      "Gill Sans Ultra Bold.ttf\n",
      "SimSun-ExtB.ttf\n",
      "Garamond.ttf\n",
      "Sitka Small.ttf\n",
      "Bodoni MT.ttf\n",
      "Courier New.ttf\n",
      "Monotype Corsiva.ttf\n",
      "Viner Hand ITC.ttf\n",
      "HYGungSo-Bold.ttf\n",
      "Ami R.ttf\n",
      "Franklin Gothic Demi.ttf\n",
      "Vladimir Script.ttf\n",
      "Rockwell Extra Bold.ttf\n",
      "Tw Cen MT Condensed Extra Bold.ttf\n",
      "Bell MT.ttf\n",
      "Mongolian Baiti.ttf\n",
      "Eras Demi ITC.ttf\n",
      "HyhwpEQ.ttf\n",
      "Dubai.ttf\n",
      "Microsoft Tai Le.ttf\n",
      "Han Santteut Dotum.ttf\n",
      "Corbel.ttf\n",
      "Microsoft Tai Le.ttf\n",
      "Bookman Old Style.ttf\n",
      "Broadway.ttf\n",
      "Segoe Script.ttf\n",
      "Ebrima.ttf\n",
      "Consolas.ttf\n",
      "Black Han Sans.ttf\n",
      "Cambria.ttf\n",
      "HCR Dotum Ext.ttf\n",
      "Verdana.ttf\n",
      "Gill Sans MT Condensed.ttf\n",
      "Candara.ttf\n",
      "Bauhaus 93.ttf\n",
      "Playbill.ttf\n",
      "Calibri.ttf\n",
      "MoeumT R.ttf\n",
      "Bookman Old Style.ttf\n",
      "Bookman Old Style.ttf\n",
      "Courier New.ttf\n",
      "Tw Cen MT.ttf\n",
      "Garamond.ttf\n",
      "Calibri.ttf\n",
      "Hancom Gothic.ttf\n",
      "Book Antiqua.ttf\n",
      "Bodoni MT.ttf\n",
      "Microsoft Yi Baiti.ttf\n",
      "Segoe UI Historic.ttf\n",
      "Bodoni MT.ttf\n",
      "Perpetua Titling MT.ttf\n",
      "Arial.ttf\n",
      "Segoe UI.ttf\n",
      "Vivaldi.ttf\n",
      "Palatino Linotype.ttf\n",
      "MS Reference Specialty.ttf\n",
      "HCR Batang ExtB.ttf\n",
      "BM JUA_TTF.ttf\n",
      "Malgun Gothic.ttf\n",
      "Showcard Gothic.ttf\n",
      "HCR Dotum.ttf\n",
      "HYSinMyeongJo-Medium.ttf\n",
      "Comic Sans MS.ttf\n",
      "Script MT Bold.ttf\n",
      "Lucida Bright.ttf\n",
      "Segoe MDL2 Assets.ttf\n",
      "Juice ITC.ttf\n",
      "Goudy Old Style.ttf\n",
      "Candara.ttf\n",
      "Forte.ttf\n",
      "Batang.ttf\n",
      "Dubai.ttf\n",
      "Constantia.ttf\n",
      "Eras Light ITC.ttf\n",
      "Castellar.ttf\n",
      "Niagara Solid.ttf\n",
      "Lucida Sans.ttf\n",
      "Agency FB.ttf\n",
      "Perpetua Titling MT.ttf\n",
      "Leelawadee.ttf\n",
      "Calibri.ttf\n",
      "Dubai.ttf\n",
      "Lucida Fax.ttf\n",
      "Lucida Console.ttf\n",
      "Arial.ttf\n",
      "Georgia.ttf\n",
      "Gabriola.ttf\n",
      "Goudy Old Style.ttf\n",
      "Lucida Bright.ttf\n",
      "Segoe UI.ttf\n",
      "Arial.ttf\n",
      "Tw Cen MT Condensed.ttf\n",
      "Microsoft New Tai Lue.ttf\n",
      "HYMyeongJo-Extra.ttf\n",
      "Franklin Gothic Book.ttf\n",
      "Segoe UI.ttf\n",
      "Lucida Sans.ttf\n",
      "Comic Sans MS.ttf\n",
      "New Gulim.ttf\n",
      "Marlett.ttf\n",
      "Magic R.ttf\n",
      "Leelawadee UI.ttf\n",
      "Segoe UI.ttf\n",
      "Tw Cen MT.ttf\n",
      "Onyx.ttf\n",
      "Segoe UI.ttf\n",
      "Franklin Gothic Demi.ttf\n",
      "Microsoft YaHei.ttf\n",
      "Stencil.ttf\n",
      "Comic Sans MS.ttf\n",
      "MS Reference Sans Serif.ttf\n",
      "Blackadder ITC.ttf\n",
      "Headline R.ttf\n",
      "Yu Gothic.ttf\n",
      "Corbel.ttf\n",
      "French Script MT.ttf\n",
      "Gill Sans MT Ext Condensed Bold.ttf\n",
      "Century Schoolbook.ttf\n",
      "Brush Script MT.ttf\n",
      "Franklin Gothic Medium Cond.ttf\n",
      "Trebuchet MS.ttf\n",
      "Yu Gothic.ttf\n",
      "Microsoft JhengHei.ttf\n",
      "Maiandra GD.ttf\n",
      "HCR Dotum.ttf\n",
      "Verdana.ttf\n",
      "Californian FB.ttf\n",
      "Century.ttf\n",
      "Leelawadee UI.ttf\n",
      "Harlow Solid Italic.ttf\n",
      "Myanmar Text.ttf\n",
      "Franklin Gothic Demi Cond.ttf\n",
      "MS Gothic.ttf\n",
      "Nirmala UI.ttf\n",
      "Elephant.ttf\n",
      "Dubai.ttf\n",
      "Lucida Sans Typewriter.ttf\n",
      "Edwardian Script ITC.ttf\n",
      "HYPost-Medium.ttf\n",
      "Algerian.ttf\n",
      "Franklin Gothic Heavy.ttf\n",
      "Sitka Small.ttf\n",
      "Yet R.ttf\n",
      "Arial.ttf\n",
      "Webdings.ttf\n",
      "Bookshelf Symbol 7.ttf\n",
      "Gill Sans MT.ttf\n",
      "Segoe UI Emoji.ttf\n",
      "Bodoni MT.ttf\n",
      "Tw Cen MT Condensed.ttf\n",
      "Century Gothic.ttf\n",
      "Perpetua.ttf\n",
      "Arial.ttf\n",
      "Palatino Linotype.ttf\n",
      "Century Schoolbook.ttf\n",
      "Bodoni MT.ttf\n",
      "Microsoft PhagsPa.ttf\n",
      "Baskerville Old Face.ttf\n",
      "Palatino Linotype.ttf\n",
      "Pyidaungsu Numbers.ttf\n",
      "Calisto MT.ttf\n",
      "Myanmar Text.ttf\n",
      "Bodoni MT.ttf\n",
      "TeamViewer15.ttf\n",
      "Gill Sans MT.ttf\n",
      "Century Schoolbook.ttf\n",
      "Nirmala UI.ttf\n",
      "HoloLens MDL2 Assets.ttf\n",
      "Perpetua.ttf\n",
      "Bahnschrift.ttf\n",
      "Constantia.ttf\n",
      "Wide Latin.ttf\n",
      "Impact.ttf\n",
      "Trebuchet MS.ttf\n",
      "Cambria.ttf\n",
      "Berlin Sans FB Demi.ttf\n",
      "NewJumja.ttf\n",
      "Times New Roman.ttf\n",
      "Palatino Linotype.ttf\n",
      "Eras Bold ITC.ttf\n",
      "Rockwell Condensed.ttf\n",
      "Constantia.ttf\n",
      "Bernard MT Condensed.ttf\n",
      "Footlight MT Light.ttf\n",
      "Imprint MT Shadow.ttf\n",
      "Bell MT.ttf\n",
      "Harrington.ttf\n",
      "Matura MT Script Capitals.ttf\n",
      "Perpetua.ttf\n",
      "Calisto MT.ttf\n",
      "MV Boli.ttf\n",
      "Lucida Fax.ttf\n",
      "Leelawadee UI.ttf\n",
      "Agency FB.ttf\n",
      "Niagara Engraved.ttf\n",
      "Century Gothic.ttf\n",
      "HCR Batang Ext.ttf\n",
      "Informal Roman.ttf\n",
      "Segoe UI.ttf\n",
      "Pyidaungsu.ttf\n",
      "Times New Roman.ttf\n",
      "Bodoni MT.ttf\n",
      "Corbel.ttf\n",
      "Segoe UI.ttf\n",
      "Microsoft JhengHei.ttf\n",
      "Papyrus.ttf\n",
      "Parchment.ttf\n",
      "Yu Gothic.ttf\n",
      "Bodoni MT.ttf\n",
      "Book Antiqua.ttf\n",
      "HYHeadLine-Medium.ttf\n",
      "Colonna MT.ttf\n",
      "Segoe UI.ttf\n",
      "Malgun Gothic.ttf\n",
      "HCR Batang ExtB.ttf\n",
      "Rockwell.ttf\n",
      "Mistral.ttf\n",
      "Century Gothic.ttf\n",
      "Lucida Sans.ttf\n",
      "Ebrima.ttf\n",
      "Franklin Gothic Heavy.ttf\n",
      "OCR A Extended.ttf\n",
      "Book Antiqua.ttf\n",
      "Elephant.ttf\n",
      "Arial.ttf\n",
      "Sylfaen.ttf\n",
      "MT Extra.ttf\n",
      "Phetsarath OT.ttf\n",
      "Microsoft PhagsPa.ttf\n",
      "Modern No. 20.ttf\n",
      "Bradley Hand ITC.ttf\n",
      "Lucida Sans Typewriter.ttf\n",
      "Calibri.ttf\n",
      "HYGothic-Extra.ttf\n",
      "Candara.ttf\n",
      "Constantia.ttf\n",
      "HCR Batang.ttf\n",
      "Cooper Black.ttf\n",
      "Franklin Gothic Book.ttf\n",
      "Lucida Bright.ttf\n",
      "Gill Sans Ultra Bold Condensed.ttf\n",
      "Ravie.ttf\n",
      "Segoe Script.ttf\n",
      "Segoe UI.ttf\n",
      "Georgia.ttf\n",
      "Georgia.ttf\n",
      "Kunstler Script.ttf\n",
      "Freestyle Script.ttf\n",
      "Goudy Old Style.ttf\n",
      "Berlin Sans FB.ttf\n",
      "Berlin Sans FB.ttf\n",
      "Wingdings 3.ttf\n",
      "Gigi.ttf\n",
      "Bookman Old Style.ttf\n",
      "HYShortSamul-Medium.ttf\n",
      "Magneto.ttf\n",
      "Verdana.ttf\n",
      "Consolas.ttf\n",
      "Hancom Gothic.ttf\n",
      "Malgun Gothic.ttf\n",
      "Nirmala UI.ttf\n",
      "High Tower Text.ttf\n",
      "Century Schoolbook.ttf\n",
      "Haan Wing2.ttf\n",
      "Verdana.ttf\n",
      "Kristen ITC.ttf\n",
      "Ink Free.ttf\n",
      "Felix Titling.ttf\n",
      "Segoe UI.ttf\n",
      "Book Antiqua.ttf\n",
      "Leelawadee.ttf\n",
      "Gadugi.ttf\n",
      "Segoe UI.ttf\n",
      "Calibri.ttf\n",
      "Lucida Sans Typewriter.ttf\n",
      "Tw Cen MT.ttf\n",
      "Microsoft YaHei.ttf\n",
      "MS Outlook.ttf\n",
      "Sitka Small.ttf\n",
      "Centaur.ttf\n",
      "Californian FB.ttf\n",
      "Corbel.ttf\n",
      "Comic Sans MS.ttf\n",
      "Corbel.ttf\n",
      "Consolas.ttf\n",
      "Chiller.ttf\n",
      "Old English Text MT.ttf\n",
      "Calisto MT.ttf\n",
      "Tempus Sans ITC.ttf\n",
      "HancomEQN.ttf\n",
      "Arial.ttf\n",
      "Lucida Sans Typewriter.ttf\n",
      "Wingdings.ttf\n",
      "Segoe UI.ttf\n",
      "HYPMokGak-Bold.ttf\n",
      "Tw Cen MT.ttf\n",
      "Goudy Stout.ttf\n",
      "Copperplate Gothic Bold.ttf\n",
      "Courier New.ttf\n",
      "Lucida Handwriting.ttf\n",
      "Bell MT.ttf\n",
      "Segoe UI Symbol.ttf\n",
      "Poor Richard.ttf\n",
      "Cambria.ttf\n",
      "Rockwell Condensed.ttf\n",
      "Pyunji R.ttf\n",
      "Cambria.ttf\n",
      "Times New Roman.ttf\n",
      "Microsoft Sans Serif.ttf\n",
      "Trebuchet MS.ttf\n",
      "Bodoni MT.ttf\n",
      "Californian FB.ttf\n",
      "Pristina.ttf\n",
      "Microsoft Uighur.ttf\n",
      "Times New Roman.ttf\n",
      "Han Santteut Dotum.ttf\n",
      "Rockwell.ttf\n",
      "Franklin Gothic Medium.ttf\n",
      "SimSun.ttf\n",
      "Georgia.ttf\n",
      "Curlz MT.ttf\n",
      "Lucida Fax.ttf\n",
      "Microsoft Himalaya.ttf\n",
      "Century Gothic.ttf\n",
      "Candara.ttf\n",
      "Eras Medium ITC.ttf\n",
      "Perpetua.ttf\n",
      "Gadugi.ttf\n",
      "Consolas.ttf\n",
      "Segoe Print.ttf\n",
      "Hancom MalangMalang.ttf\n",
      "KBIZgo R.ttf\n",
      "Microsoft JhengHei.ttf\n",
      "Candara.ttf\n",
      "Microsoft Uighur.ttf\n",
      "Copperplate Gothic Light.ttf\n",
      "Gill Sans MT.ttf\n",
      "Yu Gothic.ttf\n",
      "Garamond.ttf\n",
      "Segoe Print.ttf\n",
      "Corbel.ttf\n",
      "Pyidaungsu.ttf\n",
      "Wingdings 2.ttf\n",
      "Hancom Hoonminjeongeum_V.ttf\n",
      "Lucida Sans Unicode.ttf\n",
      "Lucida Sans.ttf\n",
      "Haettenschweiler.ttf\n",
      "Arial Rounded MT Bold.ttf\n",
      "Rockwell.ttf\n",
      "Engravers MT.ttf\n",
      "Snap ITC.ttf\n",
      "Palace Script MT.ttf\n",
      "Calibri.ttf\n",
      "Rage Italic.ttf\n",
      "Gill Sans MT.ttf\n",
      "Microsoft New Tai Lue.ttf\n",
      "Hancom MalangMalang.ttf\n",
      "Bodoni MT.ttf\n",
      "Javanese Text.ttf\n",
      "Jokerman.ttf\n",
      "Franklin Gothic Medium.ttf\n",
      "Courier New.ttf\n",
      "Arial.ttf\n",
      "Lucida Fax.ttf\n",
      "MingLiU-ExtB.ttf\n",
      "Lucida Bright.ttf\n",
      "Calisto MT.ttf\n",
      "Tahoma.ttf\n",
      "HYPost-Light.ttf\n",
      "Symbol.ttf\n",
      "Tahoma.ttf\n",
      "Gulim.ttf\n",
      "HYGraphic-Medium.ttf\n",
      "Gloucester MT Extra Condensed.ttf\n",
      "Candara.ttf\n",
      "Lucida Calligraphy.ttf\n",
      "HYGothic-Medium.ttf\n",
      "Rockwell.ttf\n",
      "Britannic Bold.ttf\n",
      "Arial.ttf\n",
      "HCR Batang.ttf\n",
      "Sitka Small.ttf\n",
      "High Tower Text.ttf\n"
     ]
    }
   ],
   "source": [
    "# 폰트 찾기 \n",
    "import matplotlib.font_manager as fom\n",
    "font_list = [font.name for font in fom.fontManager.ttflist]\n",
    "for f in font_list:\n",
    "    print(f\"{f}.ttf\")"
   ]
  },
  {
   "cell_type": "code",
   "execution_count": 28,
   "id": "60ec9e54",
   "metadata": {
    "scrolled": false
   },
   "outputs": [
    {
     "data": {
      "application/vnd.plotly.v1+json": {
       "config": {
        "plotlyServerURL": "https://plot.ly"
       },
       "data": [
        {
         "domain": {
          "x": [
           0,
           1
          ],
          "y": [
           0,
           1
          ]
         },
         "gauge": {
          "axis": {
           "range": [
            null,
            100
           ]
          },
          "steps": [
           {
            "color": "lightgray",
            "range": [
             0,
             30
            ]
           },
           {
            "color": "gray",
            "range": [
             70,
             100
            ]
           }
          ]
         },
         "mode": "gauge+number",
         "title": {
          "text": "Service"
         },
         "type": "indicator",
         "value": 25
        }
       ],
       "layout": {
        "template": {
         "data": {
          "bar": [
           {
            "error_x": {
             "color": "#2a3f5f"
            },
            "error_y": {
             "color": "#2a3f5f"
            },
            "marker": {
             "line": {
              "color": "#E5ECF6",
              "width": 0.5
             },
             "pattern": {
              "fillmode": "overlay",
              "size": 10,
              "solidity": 0.2
             }
            },
            "type": "bar"
           }
          ],
          "barpolar": [
           {
            "marker": {
             "line": {
              "color": "#E5ECF6",
              "width": 0.5
             },
             "pattern": {
              "fillmode": "overlay",
              "size": 10,
              "solidity": 0.2
             }
            },
            "type": "barpolar"
           }
          ],
          "carpet": [
           {
            "aaxis": {
             "endlinecolor": "#2a3f5f",
             "gridcolor": "white",
             "linecolor": "white",
             "minorgridcolor": "white",
             "startlinecolor": "#2a3f5f"
            },
            "baxis": {
             "endlinecolor": "#2a3f5f",
             "gridcolor": "white",
             "linecolor": "white",
             "minorgridcolor": "white",
             "startlinecolor": "#2a3f5f"
            },
            "type": "carpet"
           }
          ],
          "choropleth": [
           {
            "colorbar": {
             "outlinewidth": 0,
             "ticks": ""
            },
            "type": "choropleth"
           }
          ],
          "contour": [
           {
            "colorbar": {
             "outlinewidth": 0,
             "ticks": ""
            },
            "colorscale": [
             [
              0,
              "#0d0887"
             ],
             [
              0.1111111111111111,
              "#46039f"
             ],
             [
              0.2222222222222222,
              "#7201a8"
             ],
             [
              0.3333333333333333,
              "#9c179e"
             ],
             [
              0.4444444444444444,
              "#bd3786"
             ],
             [
              0.5555555555555556,
              "#d8576b"
             ],
             [
              0.6666666666666666,
              "#ed7953"
             ],
             [
              0.7777777777777778,
              "#fb9f3a"
             ],
             [
              0.8888888888888888,
              "#fdca26"
             ],
             [
              1,
              "#f0f921"
             ]
            ],
            "type": "contour"
           }
          ],
          "contourcarpet": [
           {
            "colorbar": {
             "outlinewidth": 0,
             "ticks": ""
            },
            "type": "contourcarpet"
           }
          ],
          "heatmap": [
           {
            "colorbar": {
             "outlinewidth": 0,
             "ticks": ""
            },
            "colorscale": [
             [
              0,
              "#0d0887"
             ],
             [
              0.1111111111111111,
              "#46039f"
             ],
             [
              0.2222222222222222,
              "#7201a8"
             ],
             [
              0.3333333333333333,
              "#9c179e"
             ],
             [
              0.4444444444444444,
              "#bd3786"
             ],
             [
              0.5555555555555556,
              "#d8576b"
             ],
             [
              0.6666666666666666,
              "#ed7953"
             ],
             [
              0.7777777777777778,
              "#fb9f3a"
             ],
             [
              0.8888888888888888,
              "#fdca26"
             ],
             [
              1,
              "#f0f921"
             ]
            ],
            "type": "heatmap"
           }
          ],
          "heatmapgl": [
           {
            "colorbar": {
             "outlinewidth": 0,
             "ticks": ""
            },
            "colorscale": [
             [
              0,
              "#0d0887"
             ],
             [
              0.1111111111111111,
              "#46039f"
             ],
             [
              0.2222222222222222,
              "#7201a8"
             ],
             [
              0.3333333333333333,
              "#9c179e"
             ],
             [
              0.4444444444444444,
              "#bd3786"
             ],
             [
              0.5555555555555556,
              "#d8576b"
             ],
             [
              0.6666666666666666,
              "#ed7953"
             ],
             [
              0.7777777777777778,
              "#fb9f3a"
             ],
             [
              0.8888888888888888,
              "#fdca26"
             ],
             [
              1,
              "#f0f921"
             ]
            ],
            "type": "heatmapgl"
           }
          ],
          "histogram": [
           {
            "marker": {
             "pattern": {
              "fillmode": "overlay",
              "size": 10,
              "solidity": 0.2
             }
            },
            "type": "histogram"
           }
          ],
          "histogram2d": [
           {
            "colorbar": {
             "outlinewidth": 0,
             "ticks": ""
            },
            "colorscale": [
             [
              0,
              "#0d0887"
             ],
             [
              0.1111111111111111,
              "#46039f"
             ],
             [
              0.2222222222222222,
              "#7201a8"
             ],
             [
              0.3333333333333333,
              "#9c179e"
             ],
             [
              0.4444444444444444,
              "#bd3786"
             ],
             [
              0.5555555555555556,
              "#d8576b"
             ],
             [
              0.6666666666666666,
              "#ed7953"
             ],
             [
              0.7777777777777778,
              "#fb9f3a"
             ],
             [
              0.8888888888888888,
              "#fdca26"
             ],
             [
              1,
              "#f0f921"
             ]
            ],
            "type": "histogram2d"
           }
          ],
          "histogram2dcontour": [
           {
            "colorbar": {
             "outlinewidth": 0,
             "ticks": ""
            },
            "colorscale": [
             [
              0,
              "#0d0887"
             ],
             [
              0.1111111111111111,
              "#46039f"
             ],
             [
              0.2222222222222222,
              "#7201a8"
             ],
             [
              0.3333333333333333,
              "#9c179e"
             ],
             [
              0.4444444444444444,
              "#bd3786"
             ],
             [
              0.5555555555555556,
              "#d8576b"
             ],
             [
              0.6666666666666666,
              "#ed7953"
             ],
             [
              0.7777777777777778,
              "#fb9f3a"
             ],
             [
              0.8888888888888888,
              "#fdca26"
             ],
             [
              1,
              "#f0f921"
             ]
            ],
            "type": "histogram2dcontour"
           }
          ],
          "mesh3d": [
           {
            "colorbar": {
             "outlinewidth": 0,
             "ticks": ""
            },
            "type": "mesh3d"
           }
          ],
          "parcoords": [
           {
            "line": {
             "colorbar": {
              "outlinewidth": 0,
              "ticks": ""
             }
            },
            "type": "parcoords"
           }
          ],
          "pie": [
           {
            "automargin": true,
            "type": "pie"
           }
          ],
          "scatter": [
           {
            "fillpattern": {
             "fillmode": "overlay",
             "size": 10,
             "solidity": 0.2
            },
            "type": "scatter"
           }
          ],
          "scatter3d": [
           {
            "line": {
             "colorbar": {
              "outlinewidth": 0,
              "ticks": ""
             }
            },
            "marker": {
             "colorbar": {
              "outlinewidth": 0,
              "ticks": ""
             }
            },
            "type": "scatter3d"
           }
          ],
          "scattercarpet": [
           {
            "marker": {
             "colorbar": {
              "outlinewidth": 0,
              "ticks": ""
             }
            },
            "type": "scattercarpet"
           }
          ],
          "scattergeo": [
           {
            "marker": {
             "colorbar": {
              "outlinewidth": 0,
              "ticks": ""
             }
            },
            "type": "scattergeo"
           }
          ],
          "scattergl": [
           {
            "marker": {
             "colorbar": {
              "outlinewidth": 0,
              "ticks": ""
             }
            },
            "type": "scattergl"
           }
          ],
          "scattermapbox": [
           {
            "marker": {
             "colorbar": {
              "outlinewidth": 0,
              "ticks": ""
             }
            },
            "type": "scattermapbox"
           }
          ],
          "scatterpolar": [
           {
            "marker": {
             "colorbar": {
              "outlinewidth": 0,
              "ticks": ""
             }
            },
            "type": "scatterpolar"
           }
          ],
          "scatterpolargl": [
           {
            "marker": {
             "colorbar": {
              "outlinewidth": 0,
              "ticks": ""
             }
            },
            "type": "scatterpolargl"
           }
          ],
          "scatterternary": [
           {
            "marker": {
             "colorbar": {
              "outlinewidth": 0,
              "ticks": ""
             }
            },
            "type": "scatterternary"
           }
          ],
          "surface": [
           {
            "colorbar": {
             "outlinewidth": 0,
             "ticks": ""
            },
            "colorscale": [
             [
              0,
              "#0d0887"
             ],
             [
              0.1111111111111111,
              "#46039f"
             ],
             [
              0.2222222222222222,
              "#7201a8"
             ],
             [
              0.3333333333333333,
              "#9c179e"
             ],
             [
              0.4444444444444444,
              "#bd3786"
             ],
             [
              0.5555555555555556,
              "#d8576b"
             ],
             [
              0.6666666666666666,
              "#ed7953"
             ],
             [
              0.7777777777777778,
              "#fb9f3a"
             ],
             [
              0.8888888888888888,
              "#fdca26"
             ],
             [
              1,
              "#f0f921"
             ]
            ],
            "type": "surface"
           }
          ],
          "table": [
           {
            "cells": {
             "fill": {
              "color": "#EBF0F8"
             },
             "line": {
              "color": "white"
             }
            },
            "header": {
             "fill": {
              "color": "#C8D4E3"
             },
             "line": {
              "color": "white"
             }
            },
            "type": "table"
           }
          ]
         },
         "layout": {
          "annotationdefaults": {
           "arrowcolor": "#2a3f5f",
           "arrowhead": 0,
           "arrowwidth": 1
          },
          "autotypenumbers": "strict",
          "coloraxis": {
           "colorbar": {
            "outlinewidth": 0,
            "ticks": ""
           }
          },
          "colorscale": {
           "diverging": [
            [
             0,
             "#8e0152"
            ],
            [
             0.1,
             "#c51b7d"
            ],
            [
             0.2,
             "#de77ae"
            ],
            [
             0.3,
             "#f1b6da"
            ],
            [
             0.4,
             "#fde0ef"
            ],
            [
             0.5,
             "#f7f7f7"
            ],
            [
             0.6,
             "#e6f5d0"
            ],
            [
             0.7,
             "#b8e186"
            ],
            [
             0.8,
             "#7fbc41"
            ],
            [
             0.9,
             "#4d9221"
            ],
            [
             1,
             "#276419"
            ]
           ],
           "sequential": [
            [
             0,
             "#0d0887"
            ],
            [
             0.1111111111111111,
             "#46039f"
            ],
            [
             0.2222222222222222,
             "#7201a8"
            ],
            [
             0.3333333333333333,
             "#9c179e"
            ],
            [
             0.4444444444444444,
             "#bd3786"
            ],
            [
             0.5555555555555556,
             "#d8576b"
            ],
            [
             0.6666666666666666,
             "#ed7953"
            ],
            [
             0.7777777777777778,
             "#fb9f3a"
            ],
            [
             0.8888888888888888,
             "#fdca26"
            ],
            [
             1,
             "#f0f921"
            ]
           ],
           "sequentialminus": [
            [
             0,
             "#0d0887"
            ],
            [
             0.1111111111111111,
             "#46039f"
            ],
            [
             0.2222222222222222,
             "#7201a8"
            ],
            [
             0.3333333333333333,
             "#9c179e"
            ],
            [
             0.4444444444444444,
             "#bd3786"
            ],
            [
             0.5555555555555556,
             "#d8576b"
            ],
            [
             0.6666666666666666,
             "#ed7953"
            ],
            [
             0.7777777777777778,
             "#fb9f3a"
            ],
            [
             0.8888888888888888,
             "#fdca26"
            ],
            [
             1,
             "#f0f921"
            ]
           ]
          },
          "colorway": [
           "#636efa",
           "#EF553B",
           "#00cc96",
           "#ab63fa",
           "#FFA15A",
           "#19d3f3",
           "#FF6692",
           "#B6E880",
           "#FF97FF",
           "#FECB52"
          ],
          "font": {
           "color": "#2a3f5f"
          },
          "geo": {
           "bgcolor": "white",
           "lakecolor": "white",
           "landcolor": "#E5ECF6",
           "showlakes": true,
           "showland": true,
           "subunitcolor": "white"
          },
          "hoverlabel": {
           "align": "left"
          },
          "hovermode": "closest",
          "mapbox": {
           "style": "light"
          },
          "paper_bgcolor": "white",
          "plot_bgcolor": "#E5ECF6",
          "polar": {
           "angularaxis": {
            "gridcolor": "white",
            "linecolor": "white",
            "ticks": ""
           },
           "bgcolor": "#E5ECF6",
           "radialaxis": {
            "gridcolor": "white",
            "linecolor": "white",
            "ticks": ""
           }
          },
          "scene": {
           "xaxis": {
            "backgroundcolor": "#E5ECF6",
            "gridcolor": "white",
            "gridwidth": 2,
            "linecolor": "white",
            "showbackground": true,
            "ticks": "",
            "zerolinecolor": "white"
           },
           "yaxis": {
            "backgroundcolor": "#E5ECF6",
            "gridcolor": "white",
            "gridwidth": 2,
            "linecolor": "white",
            "showbackground": true,
            "ticks": "",
            "zerolinecolor": "white"
           },
           "zaxis": {
            "backgroundcolor": "#E5ECF6",
            "gridcolor": "white",
            "gridwidth": 2,
            "linecolor": "white",
            "showbackground": true,
            "ticks": "",
            "zerolinecolor": "white"
           }
          },
          "shapedefaults": {
           "line": {
            "color": "#2a3f5f"
           }
          },
          "ternary": {
           "aaxis": {
            "gridcolor": "white",
            "linecolor": "white",
            "ticks": ""
           },
           "baxis": {
            "gridcolor": "white",
            "linecolor": "white",
            "ticks": ""
           },
           "bgcolor": "#E5ECF6",
           "caxis": {
            "gridcolor": "white",
            "linecolor": "white",
            "ticks": ""
           }
          },
          "title": {
           "x": 0.05
          },
          "xaxis": {
           "automargin": true,
           "gridcolor": "white",
           "linecolor": "white",
           "ticks": "",
           "title": {
            "standoff": 15
           },
           "zerolinecolor": "white",
           "zerolinewidth": 2
          },
          "yaxis": {
           "automargin": true,
           "gridcolor": "white",
           "linecolor": "white",
           "ticks": "",
           "title": {
            "standoff": 15
           },
           "zerolinecolor": "white",
           "zerolinewidth": 2
          }
         }
        }
       }
      },
      "text/html": [
       "<div>                            <div id=\"2e966b6a-5b89-4bdb-ae54-9a13d6a98cfc\" class=\"plotly-graph-div\" style=\"height:525px; width:100%;\"></div>            <script type=\"text/javascript\">                require([\"plotly\"], function(Plotly) {                    window.PLOTLYENV=window.PLOTLYENV || {};                                    if (document.getElementById(\"2e966b6a-5b89-4bdb-ae54-9a13d6a98cfc\")) {                    Plotly.newPlot(                        \"2e966b6a-5b89-4bdb-ae54-9a13d6a98cfc\",                        [{\"domain\":{\"x\":[0,1],\"y\":[0,1]},\"gauge\":{\"axis\":{\"range\":[null,100]},\"steps\":[{\"color\":\"lightgray\",\"range\":[0,30]},{\"color\":\"gray\",\"range\":[70,100]}]},\"mode\":\"gauge+number\",\"title\":{\"text\":\"Service\"},\"value\":25,\"type\":\"indicator\"}],                        {\"template\":{\"data\":{\"histogram2dcontour\":[{\"type\":\"histogram2dcontour\",\"colorbar\":{\"outlinewidth\":0,\"ticks\":\"\"},\"colorscale\":[[0.0,\"#0d0887\"],[0.1111111111111111,\"#46039f\"],[0.2222222222222222,\"#7201a8\"],[0.3333333333333333,\"#9c179e\"],[0.4444444444444444,\"#bd3786\"],[0.5555555555555556,\"#d8576b\"],[0.6666666666666666,\"#ed7953\"],[0.7777777777777778,\"#fb9f3a\"],[0.8888888888888888,\"#fdca26\"],[1.0,\"#f0f921\"]]}],\"choropleth\":[{\"type\":\"choropleth\",\"colorbar\":{\"outlinewidth\":0,\"ticks\":\"\"}}],\"histogram2d\":[{\"type\":\"histogram2d\",\"colorbar\":{\"outlinewidth\":0,\"ticks\":\"\"},\"colorscale\":[[0.0,\"#0d0887\"],[0.1111111111111111,\"#46039f\"],[0.2222222222222222,\"#7201a8\"],[0.3333333333333333,\"#9c179e\"],[0.4444444444444444,\"#bd3786\"],[0.5555555555555556,\"#d8576b\"],[0.6666666666666666,\"#ed7953\"],[0.7777777777777778,\"#fb9f3a\"],[0.8888888888888888,\"#fdca26\"],[1.0,\"#f0f921\"]]}],\"heatmap\":[{\"type\":\"heatmap\",\"colorbar\":{\"outlinewidth\":0,\"ticks\":\"\"},\"colorscale\":[[0.0,\"#0d0887\"],[0.1111111111111111,\"#46039f\"],[0.2222222222222222,\"#7201a8\"],[0.3333333333333333,\"#9c179e\"],[0.4444444444444444,\"#bd3786\"],[0.5555555555555556,\"#d8576b\"],[0.6666666666666666,\"#ed7953\"],[0.7777777777777778,\"#fb9f3a\"],[0.8888888888888888,\"#fdca26\"],[1.0,\"#f0f921\"]]}],\"heatmapgl\":[{\"type\":\"heatmapgl\",\"colorbar\":{\"outlinewidth\":0,\"ticks\":\"\"},\"colorscale\":[[0.0,\"#0d0887\"],[0.1111111111111111,\"#46039f\"],[0.2222222222222222,\"#7201a8\"],[0.3333333333333333,\"#9c179e\"],[0.4444444444444444,\"#bd3786\"],[0.5555555555555556,\"#d8576b\"],[0.6666666666666666,\"#ed7953\"],[0.7777777777777778,\"#fb9f3a\"],[0.8888888888888888,\"#fdca26\"],[1.0,\"#f0f921\"]]}],\"contourcarpet\":[{\"type\":\"contourcarpet\",\"colorbar\":{\"outlinewidth\":0,\"ticks\":\"\"}}],\"contour\":[{\"type\":\"contour\",\"colorbar\":{\"outlinewidth\":0,\"ticks\":\"\"},\"colorscale\":[[0.0,\"#0d0887\"],[0.1111111111111111,\"#46039f\"],[0.2222222222222222,\"#7201a8\"],[0.3333333333333333,\"#9c179e\"],[0.4444444444444444,\"#bd3786\"],[0.5555555555555556,\"#d8576b\"],[0.6666666666666666,\"#ed7953\"],[0.7777777777777778,\"#fb9f3a\"],[0.8888888888888888,\"#fdca26\"],[1.0,\"#f0f921\"]]}],\"surface\":[{\"type\":\"surface\",\"colorbar\":{\"outlinewidth\":0,\"ticks\":\"\"},\"colorscale\":[[0.0,\"#0d0887\"],[0.1111111111111111,\"#46039f\"],[0.2222222222222222,\"#7201a8\"],[0.3333333333333333,\"#9c179e\"],[0.4444444444444444,\"#bd3786\"],[0.5555555555555556,\"#d8576b\"],[0.6666666666666666,\"#ed7953\"],[0.7777777777777778,\"#fb9f3a\"],[0.8888888888888888,\"#fdca26\"],[1.0,\"#f0f921\"]]}],\"mesh3d\":[{\"type\":\"mesh3d\",\"colorbar\":{\"outlinewidth\":0,\"ticks\":\"\"}}],\"scatter\":[{\"fillpattern\":{\"fillmode\":\"overlay\",\"size\":10,\"solidity\":0.2},\"type\":\"scatter\"}],\"parcoords\":[{\"type\":\"parcoords\",\"line\":{\"colorbar\":{\"outlinewidth\":0,\"ticks\":\"\"}}}],\"scatterpolargl\":[{\"type\":\"scatterpolargl\",\"marker\":{\"colorbar\":{\"outlinewidth\":0,\"ticks\":\"\"}}}],\"bar\":[{\"error_x\":{\"color\":\"#2a3f5f\"},\"error_y\":{\"color\":\"#2a3f5f\"},\"marker\":{\"line\":{\"color\":\"#E5ECF6\",\"width\":0.5},\"pattern\":{\"fillmode\":\"overlay\",\"size\":10,\"solidity\":0.2}},\"type\":\"bar\"}],\"scattergeo\":[{\"type\":\"scattergeo\",\"marker\":{\"colorbar\":{\"outlinewidth\":0,\"ticks\":\"\"}}}],\"scatterpolar\":[{\"type\":\"scatterpolar\",\"marker\":{\"colorbar\":{\"outlinewidth\":0,\"ticks\":\"\"}}}],\"histogram\":[{\"marker\":{\"pattern\":{\"fillmode\":\"overlay\",\"size\":10,\"solidity\":0.2}},\"type\":\"histogram\"}],\"scattergl\":[{\"type\":\"scattergl\",\"marker\":{\"colorbar\":{\"outlinewidth\":0,\"ticks\":\"\"}}}],\"scatter3d\":[{\"type\":\"scatter3d\",\"line\":{\"colorbar\":{\"outlinewidth\":0,\"ticks\":\"\"}},\"marker\":{\"colorbar\":{\"outlinewidth\":0,\"ticks\":\"\"}}}],\"scattermapbox\":[{\"type\":\"scattermapbox\",\"marker\":{\"colorbar\":{\"outlinewidth\":0,\"ticks\":\"\"}}}],\"scatterternary\":[{\"type\":\"scatterternary\",\"marker\":{\"colorbar\":{\"outlinewidth\":0,\"ticks\":\"\"}}}],\"scattercarpet\":[{\"type\":\"scattercarpet\",\"marker\":{\"colorbar\":{\"outlinewidth\":0,\"ticks\":\"\"}}}],\"carpet\":[{\"aaxis\":{\"endlinecolor\":\"#2a3f5f\",\"gridcolor\":\"white\",\"linecolor\":\"white\",\"minorgridcolor\":\"white\",\"startlinecolor\":\"#2a3f5f\"},\"baxis\":{\"endlinecolor\":\"#2a3f5f\",\"gridcolor\":\"white\",\"linecolor\":\"white\",\"minorgridcolor\":\"white\",\"startlinecolor\":\"#2a3f5f\"},\"type\":\"carpet\"}],\"table\":[{\"cells\":{\"fill\":{\"color\":\"#EBF0F8\"},\"line\":{\"color\":\"white\"}},\"header\":{\"fill\":{\"color\":\"#C8D4E3\"},\"line\":{\"color\":\"white\"}},\"type\":\"table\"}],\"barpolar\":[{\"marker\":{\"line\":{\"color\":\"#E5ECF6\",\"width\":0.5},\"pattern\":{\"fillmode\":\"overlay\",\"size\":10,\"solidity\":0.2}},\"type\":\"barpolar\"}],\"pie\":[{\"automargin\":true,\"type\":\"pie\"}]},\"layout\":{\"autotypenumbers\":\"strict\",\"colorway\":[\"#636efa\",\"#EF553B\",\"#00cc96\",\"#ab63fa\",\"#FFA15A\",\"#19d3f3\",\"#FF6692\",\"#B6E880\",\"#FF97FF\",\"#FECB52\"],\"font\":{\"color\":\"#2a3f5f\"},\"hovermode\":\"closest\",\"hoverlabel\":{\"align\":\"left\"},\"paper_bgcolor\":\"white\",\"plot_bgcolor\":\"#E5ECF6\",\"polar\":{\"bgcolor\":\"#E5ECF6\",\"angularaxis\":{\"gridcolor\":\"white\",\"linecolor\":\"white\",\"ticks\":\"\"},\"radialaxis\":{\"gridcolor\":\"white\",\"linecolor\":\"white\",\"ticks\":\"\"}},\"ternary\":{\"bgcolor\":\"#E5ECF6\",\"aaxis\":{\"gridcolor\":\"white\",\"linecolor\":\"white\",\"ticks\":\"\"},\"baxis\":{\"gridcolor\":\"white\",\"linecolor\":\"white\",\"ticks\":\"\"},\"caxis\":{\"gridcolor\":\"white\",\"linecolor\":\"white\",\"ticks\":\"\"}},\"coloraxis\":{\"colorbar\":{\"outlinewidth\":0,\"ticks\":\"\"}},\"colorscale\":{\"sequential\":[[0.0,\"#0d0887\"],[0.1111111111111111,\"#46039f\"],[0.2222222222222222,\"#7201a8\"],[0.3333333333333333,\"#9c179e\"],[0.4444444444444444,\"#bd3786\"],[0.5555555555555556,\"#d8576b\"],[0.6666666666666666,\"#ed7953\"],[0.7777777777777778,\"#fb9f3a\"],[0.8888888888888888,\"#fdca26\"],[1.0,\"#f0f921\"]],\"sequentialminus\":[[0.0,\"#0d0887\"],[0.1111111111111111,\"#46039f\"],[0.2222222222222222,\"#7201a8\"],[0.3333333333333333,\"#9c179e\"],[0.4444444444444444,\"#bd3786\"],[0.5555555555555556,\"#d8576b\"],[0.6666666666666666,\"#ed7953\"],[0.7777777777777778,\"#fb9f3a\"],[0.8888888888888888,\"#fdca26\"],[1.0,\"#f0f921\"]],\"diverging\":[[0,\"#8e0152\"],[0.1,\"#c51b7d\"],[0.2,\"#de77ae\"],[0.3,\"#f1b6da\"],[0.4,\"#fde0ef\"],[0.5,\"#f7f7f7\"],[0.6,\"#e6f5d0\"],[0.7,\"#b8e186\"],[0.8,\"#7fbc41\"],[0.9,\"#4d9221\"],[1,\"#276419\"]]},\"xaxis\":{\"gridcolor\":\"white\",\"linecolor\":\"white\",\"ticks\":\"\",\"title\":{\"standoff\":15},\"zerolinecolor\":\"white\",\"automargin\":true,\"zerolinewidth\":2},\"yaxis\":{\"gridcolor\":\"white\",\"linecolor\":\"white\",\"ticks\":\"\",\"title\":{\"standoff\":15},\"zerolinecolor\":\"white\",\"automargin\":true,\"zerolinewidth\":2},\"scene\":{\"xaxis\":{\"backgroundcolor\":\"#E5ECF6\",\"gridcolor\":\"white\",\"linecolor\":\"white\",\"showbackground\":true,\"ticks\":\"\",\"zerolinecolor\":\"white\",\"gridwidth\":2},\"yaxis\":{\"backgroundcolor\":\"#E5ECF6\",\"gridcolor\":\"white\",\"linecolor\":\"white\",\"showbackground\":true,\"ticks\":\"\",\"zerolinecolor\":\"white\",\"gridwidth\":2},\"zaxis\":{\"backgroundcolor\":\"#E5ECF6\",\"gridcolor\":\"white\",\"linecolor\":\"white\",\"showbackground\":true,\"ticks\":\"\",\"zerolinecolor\":\"white\",\"gridwidth\":2}},\"shapedefaults\":{\"line\":{\"color\":\"#2a3f5f\"}},\"annotationdefaults\":{\"arrowcolor\":\"#2a3f5f\",\"arrowhead\":0,\"arrowwidth\":1},\"geo\":{\"bgcolor\":\"white\",\"landcolor\":\"#E5ECF6\",\"subunitcolor\":\"white\",\"showland\":true,\"showlakes\":true,\"lakecolor\":\"white\"},\"title\":{\"x\":0.05},\"mapbox\":{\"style\":\"light\"}}}},                        {\"responsive\": true}                    ).then(function(){\n",
       "                            \n",
       "var gd = document.getElementById('2e966b6a-5b89-4bdb-ae54-9a13d6a98cfc');\n",
       "var x = new MutationObserver(function (mutations, observer) {{\n",
       "        var display = window.getComputedStyle(gd).display;\n",
       "        if (!display || display === 'none') {{\n",
       "            console.log([gd, 'removed!']);\n",
       "            Plotly.purge(gd);\n",
       "            observer.disconnect();\n",
       "        }}\n",
       "}});\n",
       "\n",
       "// Listen for the removal of the full notebook cells\n",
       "var notebookContainer = gd.closest('#notebook-container');\n",
       "if (notebookContainer) {{\n",
       "    x.observe(notebookContainer, {childList: true});\n",
       "}}\n",
       "\n",
       "// Listen for the clearing of the current output cell\n",
       "var outputEl = gd.closest('.output');\n",
       "if (outputEl) {{\n",
       "    x.observe(outputEl, {childList: true});\n",
       "}}\n",
       "\n",
       "                        })                };                });            </script>        </div>"
      ]
     },
     "metadata": {},
     "output_type": "display_data"
    }
   ],
   "source": [
    "# gauge chart\n",
    "import plotly.graph_objects as go\n",
    "\n",
    "fig = go.Figure(go.Indicator(\n",
    "    domain = {'x': [0, 1], 'y': [0, 1]},\n",
    "    value = 25,\n",
    "    mode = \"gauge+number\", #+delta\n",
    "    title = {'text': \"Service\"},\n",
    "    #delta = {'reference': 60},\n",
    "    gauge = {'axis': {'range': [None, 100]},\n",
    "             'steps' : [\n",
    "                 {'range': [0, 30], 'color': \"lightgray\"},\n",
    "                 {'range': [70, 100], 'color': \"gray\"}]}))\n",
    "\n",
    "fig.show()"
   ]
  }
 ],
 "metadata": {
  "kernelspec": {
   "display_name": "Python 3 (ipykernel)",
   "language": "python",
   "name": "python3"
  },
  "language_info": {
   "codemirror_mode": {
    "name": "ipython",
    "version": 3
   },
   "file_extension": ".py",
   "mimetype": "text/x-python",
   "name": "python",
   "nbconvert_exporter": "python",
   "pygments_lexer": "ipython3",
<<<<<<< HEAD
   "version": "3.10.4"
=======
   "version": "3.9.12"
>>>>>>> 801e49e5723030ce3aca54c130fc7594b3055797
  }
 },
 "nbformat": 4,
 "nbformat_minor": 5
}
