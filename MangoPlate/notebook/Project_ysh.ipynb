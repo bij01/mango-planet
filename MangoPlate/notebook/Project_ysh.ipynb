{
 "cells": [
  {
   "cell_type": "code",
   "execution_count": 1,
   "id": "22ecbd23",
   "metadata": {},
   "outputs": [],
   "source": [
    "from urllib import request\n",
    "from selenium import webdriver\n",
    "from selenium.webdriver.common.keys import Keys\n",
    "from selenium.webdriver.common.by import By\n",
    "from pymongo import mongo_client"
   ]
  },
  {
   "cell_type": "code",
   "execution_count": 10,
   "id": "fdfac675",
   "metadata": {},
   "outputs": [
    {
     "name": "stderr",
     "output_type": "stream",
     "text": [
      "C:\\Users\\Kosmo\\AppData\\Local\\Temp\\ipykernel_6132\\3039946280.py:2: DeprecationWarning: executable_path has been deprecated, please pass in a Service object\n",
      "  driver = webdriver.Chrome(path)\n"
     ]
    }
   ],
   "source": [
    "path = \"c:/python/chromedriver.exe\"\n",
    "driver = webdriver.Chrome(path)\n",
    "driver.implicitly_wait(3)\n",
    "url = \"https://www.mangoplate.com/top_lists\"\n",
    "driver.get(url)"
   ]
  },
  {
   "cell_type": "code",
   "execution_count": null,
   "id": "b49e1f7c",
   "metadata": {},
   "outputs": [],
   "source": [
    "click_cnt = 0\n",
    "i = 0\n",
    "k = 0\n",
    "j = 1\n",
    "link_list = {}\n",
    "\n",
    "# 더보기 클릭 \n",
    "for click_cnt in range(16):\n",
    "    if click_cnt < 16 :\n",
    "        driver.find_element(By.CLASS_NAME,'btn-more').click()\n",
    "        click_cnt += 1\n",
    "    elif click_cnt>=16:\n",
    "        break"
   ]
  },
  {
   "cell_type": "code",
   "execution_count": 9,
   "id": "3887e0c1",
   "metadata": {
    "scrolled": true
   },
   "outputs": [],
   "source": [
    "# 더보기 클릭(끝까지)\n",
    "while driver.find_element(By.CLASS_NAME,\"btn-more\").is_displayed:\n",
    "    if driver.find_element(By.CLASS_NAME,\"btn-more\").is_displayed:\n",
    "        try:\n",
    "            more_click = driver.find_element(By.CLASS_NAME,\"btn-more\").click()\n",
    "        except:\n",
    "            break        "
   ]
  },
  {
   "cell_type": "code",
   "execution_count": 5,
   "id": "38fc58af",
   "metadata": {},
   "outputs": [],
   "source": [
    "href_li = 0\n",
    "hli_add= [] # 주소를 리스트에 담기 \n",
    "while True:\n",
    "    if href_li >= 300:\n",
    "        break\n",
    "    elif href_li < 300:\n",
    "        href_li +=1\n",
    "        hrefs = driver.find_elements(By.XPATH,'/html/body/main/article/section/div/ul/li['+str(href_li)+']/a')\n",
    "        for x in hrefs:\n",
    "            href = x.get_attribute('href')\n",
    "            hli_add.append(href)"
   ]
  },
  {
   "cell_type": "code",
   "execution_count": 6,
   "id": "d3dc9d65",
   "metadata": {},
   "outputs": [],
   "source": [
    "Titles_li = 0\n",
    "Tli_add = [] # 타이틀 리스트\n",
    "while True:\n",
    "    if Titles_li >= 300:\n",
    "        break\n",
    "    elif Titles_li < 300:\n",
    "        Titles_li +=1\n",
    "        Titles = driver.find_elements(By.XPATH,'/html/body/main/article/section/div/ul/li['+str(Titles_li)+']/a/figure/figcaption/div/span')\n",
    "        for x in Titles:\n",
    "            # print(x.text)\n",
    "            Tli_add.append(x.text)"
   ]
  },
  {
   "cell_type": "code",
   "execution_count": 8,
   "id": "c076b6b7",
   "metadata": {},
   "outputs": [],
   "source": [
    "while True:\n",
    "    if j <= 300:\n",
    "        link_list[Tli_add[i]] = (hli_add[k])\n",
    "        i+=1; k+=1; j+=1\n",
    "    else:\n",
    "        break"
   ]
  },
  {
   "cell_type": "code",
   "execution_count": 18,
   "id": "29fb9781",
   "metadata": {
    "scrolled": false
   },
   "outputs": [
    {
     "name": "stdout",
     "output_type": "stream",
     "text": [
      "https://www.mangoplate.com/top_lists/1815_incheon_airport\n"
     ]
    }
   ],
   "source": [
    "x = 0\n",
    "for x in range(300):\n",
    "    print(link_list['인천공항 맛집 베스트 7곳'])\n",
    "    break"
   ]
  },
  {
   "cell_type": "code",
   "execution_count": 38,
   "id": "241d16a5",
   "metadata": {},
   "outputs": [],
   "source": [
    "# mongo DB 생성 및 col생성\n",
    "from pymongo import mongo_client\n",
    "url = 'mongodb://localhost:27017'\n",
    "mg_client = mongo_client.MongoClient(url)\n",
    "mg_db = mg_client['Testmongo']\n",
    "mg_col = mg_db['list']"
   ]
  },
  {
   "cell_type": "code",
   "execution_count": 39,
   "id": "6e7b5f85",
   "metadata": {},
   "outputs": [],
   "source": [
    "# link_list 가공\n",
    "for key, value in link_list.items():\n",
    "    a = {key:value}\n",
    "    mg_col.insert_one(a)"
   ]
  },
  {
   "cell_type": "code",
   "execution_count": 40,
   "id": "33ae302a",
   "metadata": {},
   "outputs": [
    {
     "name": "stdout",
     "output_type": "stream",
     "text": [
      "{'_id': ObjectId('62da0189a1188f6595d8f914'), '수원 광교 맛집 베스트 30': 'https://www.mangoplate.com/top_lists/2833_suwongwanggyo'}\n",
      "{'_id': ObjectId('62da0189a1188f6595d8f915'), '펍 베스트 50곳': 'https://www.mangoplate.com/top_lists/916_pub'}\n",
      "{'_id': ObjectId('62da0189a1188f6595d8f916'), '인천공항 맛집 베스트 7곳': 'https://www.mangoplate.com/top_lists/1815_incheon_airport'}\n",
      "{'_id': ObjectId('62da0189a1188f6595d8f917'), '카이센동 맛집 베스트 25곳': 'https://www.mangoplate.com/top_lists/2820_kaisendon'}\n",
      "{'_id': ObjectId('62da0189a1188f6595d8f918'), '화성시 맛집 베스트 35곳': 'https://www.mangoplate.com/top_lists/2713_hwaseong'}\n",
      "{'_id': ObjectId('62da0189a1188f6595d8f919'), '오션뷰 맛집 베스트 60곳': 'https://www.mangoplate.com/top_lists/1964_ocean_view'}\n",
      "{'_id': ObjectId('62da0189a1188f6595d8f91a'), '경기도 평택 맛집 베스트 7곳': 'https://www.mangoplate.com/top_lists/2760_pyeongtaek'}\n",
      "{'_id': ObjectId('62da0189a1188f6595d8f91b'), '과일빙수 맛집 베스트 10곳': 'https://www.mangoplate.com/top_lists/3064_fruit_bingsu'}\n",
      "{'_id': ObjectId('62da0189a1188f6595d8f91c'), '부산떡볶이 맛집 베스트 10곳': 'https://www.mangoplate.com/top_lists/1574_busan_tteokbokki'}\n",
      "{'_id': ObjectId('62da0189a1188f6595d8f91d'), '찜닭 맛집 베스트 15곳': 'https://www.mangoplate.com/top_lists/759_jjimdak'}\n",
      "{'_id': ObjectId('62da0189a1188f6595d8f91e'), '삼계탕 맛집 베스트 15곳': 'https://www.mangoplate.com/top_lists/1145_samgyetang'}\n",
      "{'_id': ObjectId('62da0189a1188f6595d8f91f'), '이태원 루프탑 베스트 10곳': 'https://www.mangoplate.com/top_lists/919_itaewon_rooftop'}\n",
      "{'_id': ObjectId('62da0189a1188f6595d8f920'), '보양식 맛집 베스트 50곳': 'https://www.mangoplate.com/top_lists/1821_boyangsik'}\n",
      "{'_id': ObjectId('62da0189a1188f6595d8f921'), '안산 맛집 베스트 15곳': 'https://www.mangoplate.com/top_lists/2784_ansan'}\n",
      "{'_id': ObjectId('62da0189a1188f6595d8f922'), '착즙주스 맛집 베스트 7곳': 'https://www.mangoplate.com/top_lists/920_juice_squeezed'}\n",
      "{'_id': ObjectId('62da0189a1188f6595d8f923'), '뷰가 좋은 맛집&카페 베스트 60곳': 'https://www.mangoplate.com/top_lists/2701_goodview'}\n",
      "{'_id': ObjectId('62da0189a1188f6595d8f924'), '북촌 맛집 베스트 60곳': 'https://www.mangoplate.com/top_lists/2697_bukchon'}\n",
      "{'_id': ObjectId('62da0189a1188f6595d8f925'), '수육 맛집 베스트 25곳': 'https://www.mangoplate.com/top_lists/2862_suyuk'}\n",
      "{'_id': ObjectId('62da0189a1188f6595d8f926'), '압구정로데오 맛집 베스트 40곳': 'https://www.mangoplate.com/top_lists/620_apgujungrodeo'}\n",
      "{'_id': ObjectId('62da0189a1188f6595d8f927'), '07월 제철 과일 디저트 맛집 베스트 20곳': 'https://www.mangoplate.com/top_lists/3048_07seasonal_fruit_dessert'}\n",
      "{'_id': ObjectId('62da0189a1188f6595d8f928'), '양평 카페 베스트 7곳': 'https://www.mangoplate.com/top_lists/5SFY3WJ'}\n",
      "{'_id': ObjectId('62da0189a1188f6595d8f929'), '호텔 빙수 베스트 10곳': 'https://www.mangoplate.com/top_lists/NHL8COT'}\n",
      "{'_id': ObjectId('62da0189a1188f6595d8f92a'), '부산 카페 베스트 45곳': 'https://www.mangoplate.com/top_lists/Z4WLJLI'}\n",
      "{'_id': ObjectId('62da0189a1188f6595d8f92b'), '여수 맛집 베스트 35곳': 'https://www.mangoplate.com/top_lists/8SJPKUR'}\n",
      "{'_id': ObjectId('62da0189a1188f6595d8f92c'), '중국냉면 맛집 베스트 15곳': 'https://www.mangoplate.com/top_lists/T7JVFNC'}\n",
      "{'_id': ObjectId('62da0189a1188f6595d8f92d'), '부산 맛집 베스트 100곳': 'https://www.mangoplate.com/top_lists/PVUH7FL'}\n",
      "{'_id': ObjectId('62da0189a1188f6595d8f92e'), '합정역 맛집 베스트 70곳': 'https://www.mangoplate.com/top_lists/P1RXCPM'}\n",
      "{'_id': ObjectId('62da0189a1188f6595d8f92f'), '생면 파스타 맛집 베스트 30곳': 'https://www.mangoplate.com/top_lists/YYAOHJD'}\n",
      "{'_id': ObjectId('62da0189a1188f6595d8f930'), '부산 수제버거 맛집 베스트 5곳': 'https://www.mangoplate.com/top_lists/DED8_JL'}\n",
      "{'_id': ObjectId('62da0189a1188f6595d8f931'), '아포가토 맛집 베스트 10곳': 'https://www.mangoplate.com/top_lists/QILPGTQ'}\n",
      "{'_id': ObjectId('62da0189a1188f6595d8f932'), '강원도 원주 맛집 베스트 25곳': 'https://www.mangoplate.com/top_lists/YLDBVSK'}\n",
      "{'_id': ObjectId('62da0189a1188f6595d8f933'), '피스타치오 맛집 베스트 25곳': 'https://www.mangoplate.com/top_lists/DYG3DCZ'}\n",
      "{'_id': ObjectId('62da0189a1188f6595d8f934'), '광주 맛집 베스트 10곳': 'https://www.mangoplate.com/top_lists/9EORLWQ'}\n",
      "{'_id': ObjectId('62da0189a1188f6595d8f935'), '오리고기 맛집 베스트 30곳': 'https://www.mangoplate.com/top_lists/FUENFDY'}\n",
      "{'_id': ObjectId('62da0189a1188f6595d8f936'), '남해/진주 맛집 베스트 15곳': 'https://www.mangoplate.com/top_lists/B7NH8NB'}\n",
      "{'_id': ObjectId('62da0189a1188f6595d8f937'), '소금빵 맛집 베스트 15곳': 'https://www.mangoplate.com/top_lists/VXXLIGO'}\n",
      "{'_id': ObjectId('62da0189a1188f6595d8f938'), '상수동 맛집 베스트 55곳': 'https://www.mangoplate.com/top_lists/JSBFEBS'}\n",
      "{'_id': ObjectId('62da0189a1188f6595d8f939'), '서래마을 맛집 베스트 40곳': 'https://www.mangoplate.com/top_lists/UQ2HR8W'}\n",
      "{'_id': ObjectId('62da0189a1188f6595d8f93a'), '냉면 맛집 베스트 95곳': 'https://www.mangoplate.com/top_lists/F11FIPD'}\n",
      "{'_id': ObjectId('62da0189a1188f6595d8f93b'), '서촌 맛집 베스트 70곳': 'https://www.mangoplate.com/top_lists/QXSM5U7'}\n",
      "{'_id': ObjectId('62da0189a1188f6595d8f93c'), '녹차빙수 맛집 베스트 10곳': 'https://www.mangoplate.com/top_lists/-YRT9RS'}\n",
      "{'_id': ObjectId('62da0189a1188f6595d8f93d'), '부산푸드필름페스타 맛집 베스트 10': 'https://www.mangoplate.com/top_lists/3QQYMCJ'}\n",
      "{'_id': ObjectId('62da0189a1188f6595d8f93e'), '조개구이 맛집 베스트 10곳': 'https://www.mangoplate.com/top_lists/4HYKMYT'}\n",
      "{'_id': ObjectId('62da0189a1188f6595d8f93f'), '노원 맛집 베스트 45곳': 'https://www.mangoplate.com/top_lists/IUV9OYJ'}\n",
      "{'_id': ObjectId('62da0189a1188f6595d8f940'), '묵은지 맛집 베스트 7곳': 'https://www.mangoplate.com/top_lists/DIE-YL6'}\n",
      "{'_id': ObjectId('62da0189a1188f6595d8f941'), '삼청동 카페 베스트 5곳': 'https://www.mangoplate.com/top_lists/EQWP3OJ'}\n",
      "{'_id': ObjectId('62da0189a1188f6595d8f942'), '퀘사디아 맛집 베스트 20곳': 'https://www.mangoplate.com/top_lists/EIES1NI'}\n",
      "{'_id': ObjectId('62da0189a1188f6595d8f943'), '야장 맛집 베스트 5곳': 'https://www.mangoplate.com/top_lists/_DUA3AQ'}\n",
      "{'_id': ObjectId('62da0189a1188f6595d8f944'), '파니니 맛집 베스트 25곳': 'https://www.mangoplate.com/top_lists/CRMIJ-U'}\n",
      "{'_id': ObjectId('62da0189a1188f6595d8f945'), '참외 맛집 베스트 15곳': 'https://www.mangoplate.com/top_lists/MYQY3BH'}\n",
      "{'_id': ObjectId('62da0189a1188f6595d8f946'), '제주 서귀포 맛집 베스트 95곳': 'https://www.mangoplate.com/top_lists/DS82SO_'}\n",
      "{'_id': ObjectId('62da0189a1188f6595d8f947'), '냉우동 맛집 베스트 25곳': 'https://www.mangoplate.com/top_lists/XJESXEH'}\n",
      "{'_id': ObjectId('62da0189a1188f6595d8f948'), '부산 해운대구 맛집 베스트 50곳': 'https://www.mangoplate.com/top_lists/WNVOBRC'}\n",
      "{'_id': ObjectId('62da0189a1188f6595d8f949'), '밀크쉐이크 맛집 베스트 15곳': 'https://www.mangoplate.com/top_lists/XBZA4BL'}\n",
      "{'_id': ObjectId('62da0189a1188f6595d8f94a'), '강남 직장인 회식장소 추천 맛집 베스트 30곳': 'https://www.mangoplate.com/top_lists/TP0FZP8'}\n",
      "{'_id': ObjectId('62da0189a1188f6595d8f94b'), '똠얌꿍 맛집 베스트 10곳': 'https://www.mangoplate.com/top_lists/5USEV9Y'}\n",
      "{'_id': ObjectId('62da0189a1188f6595d8f94c'), '대구 카페 베스트 15곳': 'https://www.mangoplate.com/top_lists/EYWMXOD'}\n",
      "{'_id': ObjectId('62da0189a1188f6595d8f94d'), '사케바 베스트 25곳': 'https://www.mangoplate.com/top_lists/SOV_EQS'}\n",
      "{'_id': ObjectId('62da0189a1188f6595d8f94e'), '워터밤 서울 2022 맛집 베스트': 'https://www.mangoplate.com/top_lists/TDRGPIL'}\n",
      "{'_id': ObjectId('62da0189a1188f6595d8f94f'), '위스키바 베스트 45곳': 'https://www.mangoplate.com/top_lists/RW1FGW_'}\n",
      "{'_id': ObjectId('62da0189a1188f6595d8f950'), '부산 수영구 맛집 베스트 40곳': 'https://www.mangoplate.com/top_lists/EDI0KWR'}\n",
      "{'_id': ObjectId('62da0189a1188f6595d8f951'), '알리오올리오 맛집 베스트 10곳': 'https://www.mangoplate.com/top_lists/TI1DYLU'}\n",
      "{'_id': ObjectId('62da0189a1188f6595d8f952'), '우유빙수 맛집 베스트 15곳': 'https://www.mangoplate.com/top_lists/HUMPUQI'}\n",
      "{'_id': ObjectId('62da0189a1188f6595d8f953'), '제주 흑돼지 맛집 베스트 30곳': 'https://www.mangoplate.com/top_lists/C4E3T8P'}\n",
      "{'_id': ObjectId('62da0189a1188f6595d8f954'), '수제맥주 맛집 베스트 50곳': 'https://www.mangoplate.com/top_lists/BGSID3D'}\n",
      "{'_id': ObjectId('62da0189a1188f6595d8f955'), '을지로 맛집 베스트 100곳': 'https://www.mangoplate.com/top_lists/F3HICYP'}\n",
      "{'_id': ObjectId('62da0189a1188f6595d8f956'), '콩국수 맛집 베스트 30곳': 'https://www.mangoplate.com/top_lists/XXQRWK6'}\n",
      "{'_id': ObjectId('62da0189a1188f6595d8f957'), '제주 성산/우도 맛집 베스트 40곳': 'https://www.mangoplate.com/top_lists/ZG8GF_W'}\n",
      "{'_id': ObjectId('62da0189a1188f6595d8f958'), '까눌레 맛집 베스트 40곳': 'https://www.mangoplate.com/top_lists/_V68ZKZ'}\n",
      "{'_id': ObjectId('62da0189a1188f6595d8f959'), '루프탑 바 베스트 15곳': 'https://www.mangoplate.com/top_lists/BOGKRRQ'}\n",
      "{'_id': ObjectId('62da0189a1188f6595d8f95a'), '맥주 마시기 좋은 맛집 베스트 70곳': 'https://www.mangoplate.com/top_lists/LWIAGHS'}\n",
      "{'_id': ObjectId('62da0189a1188f6595d8f95b'), '부산 이탈리안 맛집 베스트 7곳': 'https://www.mangoplate.com/top_lists/LNOXEAD'}\n",
      "{'_id': ObjectId('62da0189a1188f6595d8f95c'), '야키토리 맛집 베스트 30곳': 'https://www.mangoplate.com/top_lists/NZ8OPLG'}\n",
      "{'_id': ObjectId('62da0189a1188f6595d8f95d'), '부산 남포동 맛집 베스트 15곳': 'https://www.mangoplate.com/top_lists/VDV7GNB'}\n",
      "{'_id': ObjectId('62da0189a1188f6595d8f95e'), '불닭 맛집 베스트 10곳': 'https://www.mangoplate.com/top_lists/UBN10XR'}\n",
      "{'_id': ObjectId('62da0189a1188f6595d8f95f'), '부산 영도 맛집 베스트 20곳': 'https://www.mangoplate.com/top_lists/P9RLZO8'}\n",
      "{'_id': ObjectId('62da0189a1188f6595d8f960'), '감자 맛집 베스트 15곳': 'https://www.mangoplate.com/top_lists/NT8JETL'}\n",
      "{'_id': ObjectId('62da0189a1188f6595d8f961'), '가평 맛집 베스트 10곳': 'https://www.mangoplate.com/top_lists/U0L00JO'}\n",
      "{'_id': ObjectId('62da0189a1188f6595d8f962'), '닭한마리 맛집 베스트 15곳': 'https://www.mangoplate.com/top_lists/WCGHVBF'}\n",
      "{'_id': ObjectId('62da0189a1188f6595d8f963'), '고속버스터미널 맛집 베스트 50곳': 'https://www.mangoplate.com/top_lists/Z6YZXAQ'}\n",
      "{'_id': ObjectId('62da0189a1188f6595d8f964'), '제주도 해산물 맛집 베스트 50곳': 'https://www.mangoplate.com/top_lists/4P0WKVW'}\n",
      "{'_id': ObjectId('62da0189a1188f6595d8f965'), '냉모밀 맛집 베스트 25곳': 'https://www.mangoplate.com/top_lists/MCHCMC2'}\n",
      "{'_id': ObjectId('62da0189a1188f6595d8f966'), '제주 제주시 맛집 베스트 50곳': 'https://www.mangoplate.com/top_lists/JZYMZC7'}\n",
      "{'_id': ObjectId('62da0189a1188f6595d8f967'), '제주도 카페 베스트 55곳': 'https://www.mangoplate.com/top_lists/G9PWLSA'}\n",
      "{'_id': ObjectId('62da0189a1188f6595d8f968'), '비빔냉면 맛집 베스트 25곳': 'https://www.mangoplate.com/top_lists/0S8TNI1'}\n",
      "{'_id': ObjectId('62da0189a1188f6595d8f969'), '올림픽공원 주변 맛집 베스트 30곳': 'https://www.mangoplate.com/top_lists/WV4BVQL'}\n",
      "{'_id': ObjectId('62da0189a1188f6595d8f96a'), '제주도 맛집 베스트 100곳': 'https://www.mangoplate.com/top_lists/X4BYING'}\n",
      "{'_id': ObjectId('62da0189a1188f6595d8f96b'), '목살 맛집 베스트 45곳': 'https://www.mangoplate.com/top_lists/METE8MR'}\n",
      "{'_id': ObjectId('62da0189a1188f6595d8f96c'), '잠실야구장 맛집 베스트 15곳': 'https://www.mangoplate.com/top_lists/KPUGICE'}\n",
      "{'_id': ObjectId('62da0189a1188f6595d8f96d'), '막걸리 맛집 베스트 50곳': 'https://www.mangoplate.com/top_lists/ICLXGBA'}\n",
      "{'_id': ObjectId('62da0189a1188f6595d8f96e'), '속초 카페 맛집 베스트 15곳': 'https://www.mangoplate.com/top_lists/TQLONWW'}\n",
      "{'_id': ObjectId('62da0189a1188f6595d8f96f'), '초당옥수수 맛집 베스트 7곳': 'https://www.mangoplate.com/top_lists/IJCJPAI'}\n",
      "{'_id': ObjectId('62da0189a1188f6595d8f970'), '한강공원 테이크아웃 맛집 베스트 15곳': 'https://www.mangoplate.com/top_lists/EOEIJO9'}\n",
      "{'_id': ObjectId('62da0189a1188f6595d8f971'), '06월 제철 횟감 맛집 베스트 10곳': 'https://www.mangoplate.com/top_lists/T327LEO'}\n",
      "{'_id': ObjectId('62da0189a1188f6595d8f972'), '강원도 양양 맛집 베스트 10곳': 'https://www.mangoplate.com/top_lists/OLT4MDA'}\n",
      "{'_id': ObjectId('62da0189a1188f6595d8f973'), '초계국수 맛집 베스트 5곳': 'https://www.mangoplate.com/top_lists/VJ4G_Q5'}\n",
      "{'_id': ObjectId('62da0189a1188f6595d8f974'), '속초 맛집 베스트 50곳': 'https://www.mangoplate.com/top_lists/R-XVQMY'}\n",
      "{'_id': ObjectId('62da0189a1188f6595d8f975'), '평양냉면 맛집 베스트 50곳': 'https://www.mangoplate.com/top_lists/VCP49RE'}\n",
      "{'_id': ObjectId('62da0189a1188f6595d8f976'), '선릉역 맛집 베스트 45곳': 'https://www.mangoplate.com/top_lists/M5FM7BA'}\n",
      "{'_id': ObjectId('62da0189a1188f6595d8f977'), '밀면 맛집 베스트 10곳': 'https://www.mangoplate.com/top_lists/WQBIFOR'}\n",
      "{'_id': ObjectId('62da0189a1188f6595d8f978'), '제주 국수 맛집 베스트 25곳': 'https://www.mangoplate.com/top_lists/U6VRKRB'}\n",
      "{'_id': ObjectId('62da0189a1188f6595d8f979'), '닭 요리 맛집 베스트 35곳': 'https://www.mangoplate.com/top_lists/O5MBR4C'}\n",
      "{'_id': ObjectId('62da0189a1188f6595d8f97a'), '제주 중문단지 맛집 베스트 15곳': 'https://www.mangoplate.com/top_lists/G8VOVFL'}\n",
      "{'_id': ObjectId('62da0189a1188f6595d8f97b'), '아이스크림 맛집 베스트 45곳': 'https://www.mangoplate.com/top_lists/NJV6ALE'}\n",
      "{'_id': ObjectId('62da0189a1188f6595d8f97c'), '크림커피 맛집 베스트 10곳': 'https://www.mangoplate.com/top_lists/DU9JNAJ'}\n",
      "{'_id': ObjectId('62da0189a1188f6595d8f97d'), '익선동 맛집 베스트 25곳': 'https://www.mangoplate.com/top_lists/-ROOLOP'}\n",
      "{'_id': ObjectId('62da0189a1188f6595d8f97e'), '서울숲 맛집 베스트 50곳': 'https://www.mangoplate.com/top_lists/L8FC5VS'}\n",
      "{'_id': ObjectId('62da0189a1188f6595d8f97f'), '전국 김밥 맛집 베스트 50곳': 'https://www.mangoplate.com/top_lists/0VXWQGX'}\n",
      "{'_id': ObjectId('62da0189a1188f6595d8f980'), '판교 맛집 베스트 45곳': 'https://www.mangoplate.com/top_lists/VFSB2HU'}\n",
      "{'_id': ObjectId('62da0189a1188f6595d8f981'), '무한리필 맛집 베스트 15곳': 'https://www.mangoplate.com/top_lists/CYD0KUH'}\n",
      "{'_id': ObjectId('62da0189a1188f6595d8f982'), '김포 맛집 베스트 20곳': 'https://www.mangoplate.com/top_lists/IJOAF-I'}\n",
      "{'_id': ObjectId('62da0189a1188f6595d8f983'), '오믈렛 맛집 베스트 20곳': 'https://www.mangoplate.com/top_lists/NJR6_4J'}\n",
      "{'_id': ObjectId('62da0189a1188f6595d8f984'), '성내동 맛집 베스트 35곳': 'https://www.mangoplate.com/top_lists/4T3O1UX'}\n",
      "{'_id': ObjectId('62da0189a1188f6595d8f985'), '장어 맛집 베스트 20곳': 'https://www.mangoplate.com/top_lists/UPMUF6J'}\n",
      "{'_id': ObjectId('62da0189a1188f6595d8f986'), '서울 재즈 페스티벌 맛집 베스트 15곳': 'https://www.mangoplate.com/top_lists/B7LWMAF'}\n",
      "{'_id': ObjectId('62da0189a1188f6595d8f987'), '딤섬 맛집 베스트 35곳': 'https://www.mangoplate.com/top_lists/XX_GHRA'}\n",
      "{'_id': ObjectId('62da0189a1188f6595d8f988'), '뚝섬유원지 맛집 베스트 5곳': 'https://www.mangoplate.com/top_lists/WPB_VRL'}\n",
      "{'_id': ObjectId('62da0189a1188f6595d8f989'), '돈가스 맛집 베스트 30곳': 'https://www.mangoplate.com/top_lists/BE1BUN4'}\n",
      "{'_id': ObjectId('62da0189a1188f6595d8f98a'), '담양 맛집 베스트 7곳': 'https://www.mangoplate.com/top_lists/RHBEWGO'}\n",
      "{'_id': ObjectId('62da0189a1188f6595d8f98b'), '피자 맛집 베스트 45곳': 'https://www.mangoplate.com/top_lists/WTPRWV3'}\n",
      "{'_id': ObjectId('62da0189a1188f6595d8f98c'), '전주 맛집 베스트 25곳': 'https://www.mangoplate.com/top_lists/_7D5DLV'}\n",
      "{'_id': ObjectId('62da0189a1188f6595d8f98d'), '곱창 맛집 베스트 45곳': 'https://www.mangoplate.com/top_lists/J16CGSL'}\n",
      "{'_id': ObjectId('62da0189a1188f6595d8f98e'), '여의도 맛집 베스트 55곳': 'https://www.mangoplate.com/top_lists/L2K0A__'}\n",
      "{'_id': ObjectId('62da0189a1188f6595d8f98f'), '한우 맛집 베스트 45곳': 'https://www.mangoplate.com/top_lists/B-X-QOJ'}\n",
      "{'_id': ObjectId('62da0189a1188f6595d8f990'), '보쌈 맛집 베스트 40곳': 'https://www.mangoplate.com/top_lists/RAD2TLN'}\n",
      "{'_id': ObjectId('62da0189a1188f6595d8f991'), '제주 휴애리 수국축제 맛집 베스트 10곳': 'https://www.mangoplate.com/top_lists/WJ4AISO'}\n",
      "{'_id': ObjectId('62da0189a1188f6595d8f992'), '스시 오마카세 베스트 50곳': 'https://www.mangoplate.com/top_lists/RGYOA2T'}\n",
      "{'_id': ObjectId('62da0189a1188f6595d8f993'), '이자카야 맛집 베스트 45곳': 'https://www.mangoplate.com/top_lists/BIHESSC'}\n",
      "{'_id': ObjectId('62da0189a1188f6595d8f994'), '가성비 데이트 맛집 베스트 25곳': 'https://www.mangoplate.com/top_lists/LTUSBVB'}\n",
      "{'_id': ObjectId('62da0189a1188f6595d8f995'), '앙버터 맛집 베스트 30곳': 'https://www.mangoplate.com/top_lists/_BXNWTZ'}\n",
      "{'_id': ObjectId('62da0189a1188f6595d8f996'), '루프탑 맛집 베스트 60곳': 'https://www.mangoplate.com/top_lists/BZTRJNQ'}\n",
      "{'_id': ObjectId('62da0189a1188f6595d8f997'), '백반 맛집 베스트 30곳': 'https://www.mangoplate.com/top_lists/-Q7JPCA'}\n",
      "{'_id': ObjectId('62da0189a1188f6595d8f998'), '상견례 하기 좋은 맛집 베스트 25곳': 'https://www.mangoplate.com/top_lists/9DIG1QC'}\n",
      "{'_id': ObjectId('62da0189a1188f6595d8f999'), '치즈케이크 맛집 베스트 35곳': 'https://www.mangoplate.com/top_lists/YMHID6P'}\n",
      "{'_id': ObjectId('62da0189a1188f6595d8f99a'), '이태원 맛집 베스트 65곳': 'https://www.mangoplate.com/top_lists/_GNNZVT'}\n",
      "{'_id': ObjectId('62da0189a1188f6595d8f99b'), '해장국 맛집 베스트 40곳': 'https://www.mangoplate.com/top_lists/TXALZDL'}\n",
      "{'_id': ObjectId('62da0189a1188f6595d8f99c'), '왕십리 맛집 베스트 35곳': 'https://www.mangoplate.com/top_lists/SAJY_AY'}\n",
      "{'_id': ObjectId('62da0189a1188f6595d8f99d'), '일본 라멘 맛집 베스트 45곳': 'https://www.mangoplate.com/top_lists/3ZNDAUF'}\n",
      "{'_id': ObjectId('62da0189a1188f6595d8f99e'), '멍게 맛집 베스트 10곳': 'https://www.mangoplate.com/top_lists/Q8YMWJ9'}\n",
      "{'_id': ObjectId('62da0189a1188f6595d8f99f'), '선물용 디저트 맛집 베스트 15곳': 'https://www.mangoplate.com/top_lists/CANSLUK'}\n",
      "{'_id': ObjectId('62da0189a1188f6595d8f9a0'), '애프터눈티 맛집 베스트 7곳': 'https://www.mangoplate.com/top_lists/_0W3HCB'}\n",
      "{'_id': ObjectId('62da0189a1188f6595d8f9a1'), '잠봉뵈르 맛집 베스트 15곳': 'https://www.mangoplate.com/top_lists/D3KMBHH'}\n",
      "{'_id': ObjectId('62da0189a1188f6595d8f9a2'), '과천 맛집 베스트 15곳': 'https://www.mangoplate.com/top_lists/-UNUVMS'}\n",
      "{'_id': ObjectId('62da0189a1188f6595d8f9a3'), '성게알 맛집 베스트 35곳': 'https://www.mangoplate.com/top_lists/5IUO9RZ'}\n",
      "{'_id': ObjectId('62da0189a1188f6595d8f9a4'), '분위기 좋은 강릉 카페 베스트 20곳': 'https://www.mangoplate.com/top_lists/Q7RVUQX'}\n",
      "{'_id': ObjectId('62da0189a1188f6595d8f9a5'), '반포 달빛무지개분수 맛집 베스트 10곳': 'https://www.mangoplate.com/top_lists/GT36G7K'}\n",
      "{'_id': ObjectId('62da0189a1188f6595d8f9a6'), '한정식 맛집 베스트 35곳': 'https://www.mangoplate.com/top_lists/TYHPZYZ'}\n",
      "{'_id': ObjectId('62da0189a1188f6595d8f9a7'), '랍스터 맛집 베스트 20곳': 'https://www.mangoplate.com/top_lists/JBDX70Y'}\n",
      "{'_id': ObjectId('62da0189a1188f6595d8f9a8'), '연남동 맛집 베스트 55곳': 'https://www.mangoplate.com/top_lists/ISC85EP'}\n",
      "{'_id': ObjectId('62da0189a1188f6595d8f9a9'), '빵집 베스트 50곳': 'https://www.mangoplate.com/top_lists/MSKXWHY'}\n",
      "{'_id': ObjectId('62da0189a1188f6595d8f9aa'), '강릉 맛집 베스트 45곳': 'https://www.mangoplate.com/top_lists/HLZSC9N'}\n",
      "{'_id': ObjectId('62da0189a1188f6595d8f9ab'), '종로 노포 맛집 베스트 15곳': 'https://www.mangoplate.com/top_lists/Z-KLXAG'}\n",
      "{'_id': ObjectId('62da0189a1188f6595d8f9ac'), '산채비빔밥 맛집 베스트 10곳': 'https://www.mangoplate.com/top_lists/IM9TWED'}\n",
      "{'_id': ObjectId('62da0189a1188f6595d8f9ad'), '부모님과 함께 가고싶은 맛집 베스트 30곳': 'https://www.mangoplate.com/top_lists/YN_U7YE'}\n",
      "{'_id': ObjectId('62da0189a1188f6595d8f9ae'), '가족 모임 맛집 베스트 45곳': 'https://www.mangoplate.com/top_lists/UCOUU-A'}\n",
      "{'_id': ObjectId('62da0189a1188f6595d8f9af'), '춘천 레고랜드 맛집 베스트 10곳': 'https://www.mangoplate.com/top_lists/T8BU3YU'}\n",
      "{'_id': ObjectId('62da0189a1188f6595d8f9b0'), '서울 장미축제 맛집 베스트 10곳': 'https://www.mangoplate.com/top_lists/BYLGJWM'}\n",
      "{'_id': ObjectId('62da0189a1188f6595d8f9b1'), '젤라또 맛집 베스트 35곳': 'https://www.mangoplate.com/top_lists/THMJHPY'}\n",
      "{'_id': ObjectId('62da0189a1188f6595d8f9b2'), '어린이대공원 맛집 베스트 35곳': 'https://www.mangoplate.com/top_lists/1YJYMEP'}\n",
      "{'_id': ObjectId('62da0189a1188f6595d8f9b3'), '아이랑 가기 좋은 맛집 총정리': 'https://www.mangoplate.com/top_lists/NP-AQQ4'}\n",
      "{'_id': ObjectId('62da0189a1188f6595d8f9b4'), '부산 연등축제 근처 맛집 베스트 10곳': 'https://www.mangoplate.com/top_lists/K6RN_EC'}\n",
      "{'_id': ObjectId('62da0189a1188f6595d8f9b5'), '연등회 맛집 베스트 30곳': 'https://www.mangoplate.com/top_lists/ZKCUPAG'}\n",
      "{'_id': ObjectId('62da0189a1188f6595d8f9b6'), '룸 있는 식당 맛집 베스트 45곳': 'https://www.mangoplate.com/top_lists/JZSRYUB'}\n",
      "{'_id': ObjectId('62da0189a1188f6595d8f9b7'), '오래된 한식당 맛집 베스트 60곳': 'https://www.mangoplate.com/top_lists/7SV0MV1'}\n",
      "{'_id': ObjectId('62da0189a1188f6595d8f9b8'), '가심비 맛집 베스트 20곳': 'https://www.mangoplate.com/top_lists/ED5J3BT'}\n",
      "{'_id': ObjectId('62da0189a1188f6595d8f9b9'), '상암동 맛집 베스트 10곳': 'https://www.mangoplate.com/top_lists/3UVNN6C'}\n",
      "{'_id': ObjectId('62da0189a1188f6595d8f9ba'), '망원동 카페 베스트 30곳': 'https://www.mangoplate.com/top_lists/SCEPYIG'}\n",
      "{'_id': ObjectId('62da0189a1188f6595d8f9bb'), '05월 제철 횟감 맛집 베스트 7곳': 'https://www.mangoplate.com/top_lists/C7QAPCW'}\n",
      "{'_id': ObjectId('62da0189a1188f6595d8f9bc'), '수지 맛집 베스트 35곳': 'https://www.mangoplate.com/top_lists/AQSCKCE'}\n",
      "{'_id': ObjectId('62da0189a1188f6595d8f9bd'), '멘보샤 맛집 베스트 15곳': 'https://www.mangoplate.com/top_lists/RNAY-OR'}\n",
      "{'_id': ObjectId('62da0189a1188f6595d8f9be'), '수원 행리단길 맛집 베스트 20곳': 'https://www.mangoplate.com/top_lists/D5X9SRU'}\n",
      "{'_id': ObjectId('62da0189a1188f6595d8f9bf'), '전라남도 한식 맛집 베스트 30곳': 'https://www.mangoplate.com/top_lists/WPJEBAK'}\n",
      "{'_id': ObjectId('62da0189a1188f6595d8f9c0'), '은평구 맛집 베스트 45곳': 'https://www.mangoplate.com/top_lists/T3EWXNT'}\n",
      "{'_id': ObjectId('62da0189a1188f6595d8f9c1'), '이태원 세계음식 맛집 베스트 25곳': 'https://www.mangoplate.com/top_lists/BYMAOGU'}\n",
      "{'_id': ObjectId('62da0189a1188f6595d8f9c2'), '타코 맛집 베스트 25곳': 'https://www.mangoplate.com/top_lists/VVCEZMW'}\n",
      "{'_id': ObjectId('62da0189a1188f6595d8f9c3'), '호텔 카페 맛집 베스트 10곳': 'https://www.mangoplate.com/top_lists/STYR_GG'}\n",
      "{'_id': ObjectId('62da0189a1188f6595d8f9c4'), '탕수육 맛집 베스트 55곳': 'https://www.mangoplate.com/top_lists/Q4TEU47'}\n",
      "{'_id': ObjectId('62da0189a1188f6595d8f9c5'), '방이동 맛집 베스트 30곳': 'https://www.mangoplate.com/top_lists/SR1RMLC'}\n",
      "{'_id': ObjectId('62da0189a1188f6595d8f9c6'), '봉골레 파스타 맛집 베스트 15곳': 'https://www.mangoplate.com/top_lists/UILE_SB'}\n",
      "{'_id': ObjectId('62da0189a1188f6595d8f9c7'), '녹사평 맛집 베스트 20곳': 'https://www.mangoplate.com/top_lists/R1DFO87'}\n",
      "{'_id': ObjectId('62da0189a1188f6595d8f9c8'), '참치 맛집 베스트 20곳': 'https://www.mangoplate.com/top_lists/2T-AABP'}\n",
      "{'_id': ObjectId('62da0189a1188f6595d8f9c9'), '테라스 맛집 베스트 60곳': 'https://www.mangoplate.com/top_lists/QXXXAVB'}\n",
      "{'_id': ObjectId('62da0189a1188f6595d8f9ca'), '부산 중구 맛집 베스트 20곳': 'https://www.mangoplate.com/top_lists/ZPFOFUE'}\n",
      "{'_id': ObjectId('62da0189a1188f6595d8f9cb'), '서울로7017 맛집 베스트 15곳': 'https://www.mangoplate.com/top_lists/HZJLNLV'}\n",
      "{'_id': ObjectId('62da0189a1188f6595d8f9cc'), '부리또 맛집 베스트 20곳': 'https://www.mangoplate.com/top_lists/SQ2JPDP'}\n",
      "{'_id': ObjectId('62da0189a1188f6595d8f9cd'), '건대 차이나타운 맛집 베스트 15곳': 'https://www.mangoplate.com/top_lists/TOJMY3C'}\n",
      "{'_id': ObjectId('62da0189a1188f6595d8f9ce'), '관악구 맛집 베스트 60곳': 'https://www.mangoplate.com/top_lists/PJLDJYT'}\n",
      "{'_id': ObjectId('62da0189a1188f6595d8f9cf'), '크로플 맛집 베스트 25곳': 'https://www.mangoplate.com/top_lists/T1XBN71'}\n",
      "{'_id': ObjectId('62da0189a1188f6595d8f9d0'), '봄 제철메뉴 맛집 베스트 10곳': 'https://www.mangoplate.com/top_lists/J--SKAA'}\n",
      "{'_id': ObjectId('62da0189a1188f6595d8f9d1'), '광장시장 맛집 베스트 15곳': 'https://www.mangoplate.com/top_lists/8UT7XE8'}\n",
      "{'_id': ObjectId('62da0189a1188f6595d8f9d2'), '슈크림 맛집 베스트 15곳': 'https://www.mangoplate.com/top_lists/FWEK_HR'}\n",
      "{'_id': ObjectId('62da0189a1188f6595d8f9d3'), '홍대 빵집 베스트 10곳': 'https://www.mangoplate.com/top_lists/EP5Y0K9'}\n",
      "{'_id': ObjectId('62da0189a1188f6595d8f9d4'), '이태원 브런치 맛집 베스트 10곳': 'https://www.mangoplate.com/top_lists/KH0Q5U4'}\n",
      "{'_id': ObjectId('62da0189a1188f6595d8f9d5'), '돌솥밥 맛집 베스트 25곳': 'https://www.mangoplate.com/top_lists/VTWKRAW'}\n",
      "{'_id': ObjectId('62da0189a1188f6595d8f9d6'), '가로수길 이탈리안 맛집 베스트 7곳': 'https://www.mangoplate.com/top_lists/VPIXZQI'}\n",
      "{'_id': ObjectId('62da0189a1188f6595d8f9d7'), '마들렌 맛집 베스트 15곳': 'https://www.mangoplate.com/top_lists/AJH_VOK'}\n",
      "{'_id': ObjectId('62da0189a1188f6595d8f9d8'), '목동 한식 맛집 베스트 7곳': 'https://www.mangoplate.com/top_lists/TYJSOPZ'}\n",
      "{'_id': ObjectId('62da0189a1188f6595d8f9d9'), '카푸치노 맛집 베스트 10곳': 'https://www.mangoplate.com/top_lists/LFZUSQJ'}\n",
      "{'_id': ObjectId('62da0189a1188f6595d8f9da'), '소격동 맛집 베스트 7곳': 'https://www.mangoplate.com/top_lists/_IQT_DH'}\n",
      "{'_id': ObjectId('62da0189a1188f6595d8f9db'), '짜장면 맛집 베스트 50곳': 'https://www.mangoplate.com/top_lists/JR6AO1K'}\n",
      "{'_id': ObjectId('62da0189a1188f6595d8f9dc'), '차돌박이 요리 맛집 베스트 5곳': 'https://www.mangoplate.com/top_lists/VGREQKE'}\n",
      "{'_id': ObjectId('62da0189a1188f6595d8f9dd'), '여수 벽화마을 맛집 베스트 10곳': 'https://www.mangoplate.com/top_lists/QAZXJAP'}\n",
      "{'_id': ObjectId('62da0189a1188f6595d8f9de'), '꼬치구이 맛집 베스트 25곳': 'https://www.mangoplate.com/top_lists/ICIWBPD'}\n",
      "{'_id': ObjectId('62da0189a1188f6595d8f9df'), '부산 롯데월드 근처 맛집 10곳': 'https://www.mangoplate.com/top_lists/2FCAWYS'}\n",
      "{'_id': ObjectId('62da0189a1188f6595d8f9e0'), '대전 카페 베스트 30곳': 'https://www.mangoplate.com/top_lists/3UMRDAL'}\n",
      "{'_id': ObjectId('62da0189a1188f6595d8f9e1'), '크림 파스타 맛집 베스트 35곳': 'https://www.mangoplate.com/top_lists/M_L65SI'}\n",
      "{'_id': ObjectId('62da0189a1188f6595d8f9e2'), '튀김 맛집 베스트 30곳': 'https://www.mangoplate.com/top_lists/HZN3JO6'}\n",
      "{'_id': ObjectId('62da0189a1188f6595d8f9e3'), '채식 맛집 베스트 25곳': 'https://www.mangoplate.com/top_lists/SQUM3TS'}\n",
      "{'_id': ObjectId('62da0189a1188f6595d8f9e4'), '내방역 맛집 베스트 10곳': 'https://www.mangoplate.com/top_lists/WVUP3OC'}\n",
      "{'_id': ObjectId('62da0189a1188f6595d8f9e5'), '비지찌개 맛집 베스트 7곳': 'https://www.mangoplate.com/top_lists/8GCJZOM'}\n",
      "{'_id': ObjectId('62da0189a1188f6595d8f9e6'), '노량진 맛집 베스트 20곳': 'https://www.mangoplate.com/top_lists/GI5R1_R'}\n",
      "{'_id': ObjectId('62da0189a1188f6595d8f9e7'), '벚꽃뷰 맛집 베스트 7곳': 'https://www.mangoplate.com/top_lists/KDODBMH'}\n",
      "{'_id': ObjectId('62da0189a1188f6595d8f9e8'), '들깨 요리 맛집 베스트 20곳': 'https://www.mangoplate.com/top_lists/BSZFLGF'}\n",
      "{'_id': ObjectId('62da0189a1188f6595d8f9e9'), '봄 제철 음식 맛집 베스트 10곳': 'https://www.mangoplate.com/top_lists/KGFX3JB'}\n",
      "{'_id': ObjectId('62da0189a1188f6595d8f9ea'), '연남동 중식 맛집 베스트 10곳': 'https://www.mangoplate.com/top_lists/MEXZUAX'}\n",
      "{'_id': ObjectId('62da0189a1188f6595d8f9eb'), '파운드케이크 맛집 베스트 15곳': 'https://www.mangoplate.com/top_lists/NO4-CKJ'}\n",
      "{'_id': ObjectId('62da0189a1188f6595d8f9ec'), '광진구 맛집 베스트 55곳': 'https://www.mangoplate.com/top_lists/D3A7ECY'}\n",
      "{'_id': ObjectId('62da0189a1188f6595d8f9ed'), '마파두부 맛집 베스트 15곳': 'https://www.mangoplate.com/top_lists/TM0VQ-V'}\n",
      "{'_id': ObjectId('62da0189a1188f6595d8f9ee'), '갈비탕 맛집 베스트 20곳': 'https://www.mangoplate.com/top_lists/RSIUEYX'}\n",
      "{'_id': ObjectId('62da0189a1188f6595d8f9ef'), '다이어트 맛집 베스트 45곳': 'https://www.mangoplate.com/top_lists/__GWLGW'}\n",
      "{'_id': ObjectId('62da0189a1188f6595d8f9f0'), '샌드위치 맛집 베스트 40곳': 'https://www.mangoplate.com/top_lists/KZ0EPEX'}\n",
      "{'_id': ObjectId('62da0189a1188f6595d8f9f1'), '테라스 있는 카페 베스트 70곳': 'https://www.mangoplate.com/top_lists/WAS4WN8'}\n",
      "{'_id': ObjectId('62da0189a1188f6595d8f9f2'), '대전 브런치 맛집 베스트 7곳': 'https://www.mangoplate.com/top_lists/HD3BRDS'}\n",
      "{'_id': ObjectId('62da0189a1188f6595d8f9f3'), '바비큐 맛집 베스트 20곳': 'https://www.mangoplate.com/top_lists/IAG90D8'}\n",
      "{'_id': ObjectId('62da0189a1188f6595d8f9f4'), '핫초코 맛집 베스트 15곳': 'https://www.mangoplate.com/top_lists/MOSWY4T'}\n",
      "{'_id': ObjectId('62da0189a1188f6595d8f9f5'), '후암동 맛집 베스트 15곳': 'https://www.mangoplate.com/top_lists/WSMIKK6'}\n",
      "{'_id': ObjectId('62da0189a1188f6595d8f9f6'), '이화여대 맛집 베스트 40곳': 'https://www.mangoplate.com/top_lists/-X43LU2'}\n",
      "{'_id': ObjectId('62da0189a1188f6595d8f9f7'), '플랜테리어 맛집 베스트 15곳': 'https://www.mangoplate.com/top_lists/DIIRV-L'}\n",
      "{'_id': ObjectId('62da0189a1188f6595d8f9f8'), '성북구 양식 맛집 베스트 20곳': 'https://www.mangoplate.com/top_lists/QZIOJ56'}\n",
      "{'_id': ObjectId('62da0189a1188f6595d8f9f9'), '숙명여대 맛집 베스트 25곳': 'https://www.mangoplate.com/top_lists/6OH1IZD'}\n",
      "{'_id': ObjectId('62da0189a1188f6595d8f9fa'), '육회비빔밥 맛집 베스트 25곳': 'https://www.mangoplate.com/top_lists/ZPQFRXL'}\n",
      "{'_id': ObjectId('62da0189a1188f6595d8f9fb'), '전라남도 맛집 베스트 50': 'https://www.mangoplate.com/top_lists/ZUSVPDK'}\n",
      "{'_id': ObjectId('62da0189a1188f6595d8f9fc'), '버섯전골 맛집 베스트 15곳': 'https://www.mangoplate.com/top_lists/BXOR4DM'}\n",
      "{'_id': ObjectId('62da0189a1188f6595d8f9fd'), '홍익대 맛집 베스트 60곳': 'https://www.mangoplate.com/top_lists/3TOPY-9'}\n",
      "{'_id': ObjectId('62da0189a1188f6595d8f9fe'), '우동 맛집 베스트 35곳': 'https://www.mangoplate.com/top_lists/WO4MUGT'}\n",
      "{'_id': ObjectId('62da0189a1188f6595d8f9ff'), '연세대 맛집 베스트 55곳': 'https://www.mangoplate.com/top_lists/UW2BQ4F'}\n",
      "{'_id': ObjectId('62da0189a1188f6595d8fa00'), '육개장 맛집 베스트 10곳': 'https://www.mangoplate.com/top_lists/U7K9D44'}\n",
      "{'_id': ObjectId('62da0189a1188f6595d8fa01'), '동국대 맛집 베스트 15곳': 'https://www.mangoplate.com/top_lists/OJZB2N8'}\n",
      "{'_id': ObjectId('62da0189a1188f6595d8fa02'), '피맥 맛집 베스트 45곳': 'https://www.mangoplate.com/top_lists/JW2ANLH'}\n",
      "{'_id': ObjectId('62da0189a1188f6595d8fa03'), '성동구 맛집 베스트 40곳': 'https://www.mangoplate.com/top_lists/_ID189T'}\n",
      "{'_id': ObjectId('62da0189a1188f6595d8fa04'), '반려견 동반 맛집 베스트 50곳': 'https://www.mangoplate.com/top_lists/MC4IEZU'}\n",
      "{'_id': ObjectId('62da0189a1188f6595d8fa05'), '플라워 카페 베스트 15곳': 'https://www.mangoplate.com/top_lists/CNXCITC'}\n",
      "{'_id': ObjectId('62da0189a1188f6595d8fa06'), '대구 중구 맛집 베스트 30곳': 'https://www.mangoplate.com/top_lists/5GNYUGC'}\n",
      "{'_id': ObjectId('62da0189a1188f6595d8fa07'), '리조또 맛집 베스트 35곳': 'https://www.mangoplate.com/top_lists/VN6HGCL'}\n",
      "{'_id': ObjectId('62da0189a1188f6595d8fa08'), '용산공원 주변 맛집 베스트 15곳': 'https://www.mangoplate.com/top_lists/_P7SIH3'}\n",
      "{'_id': ObjectId('62da0189a1188f6595d8fa09'), '휘낭시에 맛집 베스트 25곳': 'https://www.mangoplate.com/top_lists/AWTCDNU'}\n",
      "{'_id': ObjectId('62da0189a1188f6595d8fa0a'), '한양대 맛집 베스트 25곳': 'https://www.mangoplate.com/top_lists/BYAGNT8'}\n",
      "{'_id': ObjectId('62da0189a1188f6595d8fa0b'), '생선구이 맛집 베스트 30곳': 'https://www.mangoplate.com/top_lists/HHNDGOY'}\n",
      "{'_id': ObjectId('62da0189a1188f6595d8fa0c'), '경희대 맛집 베스트 30곳': 'https://www.mangoplate.com/top_lists/BWHFKIT'}\n",
      "{'_id': ObjectId('62da0189a1188f6595d8fa0d'), '된장찌개 맛집 베스트 10곳': 'https://www.mangoplate.com/top_lists/DW3V41T'}\n",
      "{'_id': ObjectId('62da0189a1188f6595d8fa0e'), '서울대 맛집 베스트 45곳': 'https://www.mangoplate.com/top_lists/LLX5IS2'}\n",
      "{'_id': ObjectId('62da0189a1188f6595d8fa0f'), '티라미수 맛집 베스트 45곳': 'https://www.mangoplate.com/top_lists/LMUMANJ'}\n",
      "{'_id': ObjectId('62da0189a1188f6595d8fa10'), '이탈리안 맛집 베스트 45곳': 'https://www.mangoplate.com/top_lists/Z6RIC_X'}\n",
      "{'_id': ObjectId('62da0189a1188f6595d8fa11'), '중앙대 맛집 베스트 20곳': 'https://www.mangoplate.com/top_lists/RQIW6WK'}\n",
      "{'_id': ObjectId('62da0189a1188f6595d8fa12'), '보리밥 맛집 베스트 7곳': 'https://www.mangoplate.com/top_lists/HZ3IOPJ'}\n",
      "{'_id': ObjectId('62da0189a1188f6595d8fa13'), '세종대 맛집 베스트 20곳': 'https://www.mangoplate.com/top_lists/CU_IVJB'}\n",
      "{'_id': ObjectId('62da0189a1188f6595d8fa14'), '문어숙회 맛집 베스트 7곳': 'https://www.mangoplate.com/top_lists/-XLHMLV'}\n",
      "{'_id': ObjectId('62da0189a1188f6595d8fa15'), '제주도 오션뷰 맛집 25곳': 'https://www.mangoplate.com/top_lists/7FIOFJ_'}\n",
      "{'_id': ObjectId('62da0189a1188f6595d8fa16'), '피쉬앤칩스 맛집 베스트 7곳': 'https://www.mangoplate.com/top_lists/XVMBN9S'}\n",
      "{'_id': ObjectId('62da0189a1188f6595d8fa17'), '성동구 카페 베스트 30곳': 'https://www.mangoplate.com/top_lists/ZZE0WWT'}\n",
      "{'_id': ObjectId('62da0189a1188f6595d8fa18'), '샤퀴테리 맛집 베스트 20곳': 'https://www.mangoplate.com/top_lists/FOY5MDY'}\n",
      "{'_id': ObjectId('62da0189a1188f6595d8fa19'), '예쁜 디저트 맛집 베스트 30곳': 'https://www.mangoplate.com/top_lists/TA5EKLZ'}\n",
      "{'_id': ObjectId('62da0189a1188f6595d8fa1a'), '석촌호수 벚꽃축제 맛집 베스트 45곳': 'https://www.mangoplate.com/top_lists/I_R8IWT'}\n",
      "{'_id': ObjectId('62da0189a1188f6595d8fa1b'), '주꾸미 맛집 베스트 20곳': 'https://www.mangoplate.com/top_lists/5FBFSRC'}\n",
      "{'_id': ObjectId('62da0189a1188f6595d8fa1c'), '파주 맛집 베스트 35곳': 'https://www.mangoplate.com/top_lists/OGWSOYY'}\n",
      "{'_id': ObjectId('62da0189a1188f6595d8fa1d'), '화이트와인 맛집 베스트 15곳': 'https://www.mangoplate.com/top_lists/WZNFGPK'}\n",
      "{'_id': ObjectId('62da0189a1188f6595d8fa1e'), '벚꽃 구경 후 가기 좋은 제주 맛집 베스트 20곳': 'https://www.mangoplate.com/top_lists/WUR8EML'}\n",
      "{'_id': ObjectId('62da0189a1188f6595d8fa1f'), '숙대 맛집 베스트 30곳': 'https://www.mangoplate.com/top_lists/FK5ASUG'}\n",
      "{'_id': ObjectId('62da0189a1188f6595d8fa20'), '오픈 샌드위치 맛집 베스트 10곳': 'https://www.mangoplate.com/top_lists/VW1IZVM'}\n",
      "{'_id': ObjectId('62da0189a1188f6595d8fa21'), '경기도 양평 맛집 베스트 20곳': 'https://www.mangoplate.com/top_lists/WUN1B70'}\n",
      "{'_id': ObjectId('62da0189a1188f6595d8fa22'), '마카롱 맛집 베스트 50곳': 'https://www.mangoplate.com/top_lists/5X5MKAR'}\n",
      "{'_id': ObjectId('62da0189a1188f6595d8fa23'), '일산 맛집 베스트 40곳': 'https://www.mangoplate.com/top_lists/PNY33TF'}\n",
      "{'_id': ObjectId('62da0189a1188f6595d8fa24'), '성균관대 맛집 베스트 30곳': 'https://www.mangoplate.com/top_lists/CEMXR5H'}\n",
      "{'_id': ObjectId('62da0189a1188f6595d8fa25'), '신사동 중식 맛집 베스트10곳': 'https://www.mangoplate.com/top_lists/QQOVM6W'}\n",
      "{'_id': ObjectId('62da0189a1188f6595d8fa26'), '삼겹살 맛집 베스트 50곳': 'https://www.mangoplate.com/top_lists/3LKPM7A'}\n",
      "{'_id': ObjectId('62da0189a1188f6595d8fa27'), '해산물 덮밥 맛집 베스트 30곳': 'https://www.mangoplate.com/top_lists/LERVVFC'}\n",
      "{'_id': ObjectId('62da0189a1188f6595d8fa28'), '여의도 카페 맛집 베스트 15곳': 'https://www.mangoplate.com/top_lists/BCL1J2J'}\n",
      "{'_id': ObjectId('62da0189a1188f6595d8fa29'), '여의도 벚꽃축제 맛집 베스트 40곳': 'https://www.mangoplate.com/top_lists/8H0XZ9X'}\n",
      "{'_id': ObjectId('62da0189a1188f6595d8fa2a'), '도곡동 맛집 베스트 20곳': 'https://www.mangoplate.com/top_lists/XMGSQTT'}\n",
      "{'_id': ObjectId('62da0189a1188f6595d8fa2b'), '청국장 맛집 베스트 7곳': 'https://www.mangoplate.com/top_lists/G83U8HF'}\n",
      "{'_id': ObjectId('62da0189a1188f6595d8fa2c'), '경기도 고양시 맛집 베스트 60곳': 'https://www.mangoplate.com/top_lists/MJN7O26'}\n",
      "{'_id': ObjectId('62da0189a1188f6595d8fa2d'), '부산시 부산진구 맛집 베스트 30곳': 'https://www.mangoplate.com/top_lists/FCXZW1S'}\n",
      "{'_id': ObjectId('62da0189a1188f6595d8fa2e'), '물만두 맛집 베스트 7곳': 'https://www.mangoplate.com/top_lists/XJOVWOO'}\n",
      "{'_id': ObjectId('62da0189a1188f6595d8fa2f'), '삼성중앙역 맛집 베스트 30곳': 'https://www.mangoplate.com/top_lists/KQYSEIN'}\n",
      "{'_id': ObjectId('62da0189a1188f6595d8fa30'), '복어 맛집 베스트 7곳': 'https://www.mangoplate.com/top_lists/HWXELHE'}\n",
      "{'_id': ObjectId('62da0189a1188f6595d8fa31'), '개포/수서/일원 맛집 베스트 7곳': 'https://www.mangoplate.com/top_lists/JM5HKGF'}\n",
      "{'_id': ObjectId('62da0189a1188f6595d8fa32'), '미트볼 맛집 베스트 10곳': 'https://www.mangoplate.com/top_lists/L2O6JGV'}\n",
      "{'_id': ObjectId('62da0189a1188f6595d8fa33'), '북촌 한식 맛집 베스트 20곳': 'https://www.mangoplate.com/top_lists/EW8H8UD'}\n",
      "{'_id': ObjectId('62da0189a1188f6595d8fa34'), '교자 맛집 베스트 25곳': 'https://www.mangoplate.com/top_lists/-8MNPMN'}\n",
      "{'_id': ObjectId('62da0189a1188f6595d8fa35'), '이태원 디저트 맛집 베스트 10곳': 'https://www.mangoplate.com/top_lists/CK68XIY'}\n",
      "{'_id': ObjectId('62da0189a1188f6595d8fa36'), '꼼장어 맛집 베스트 7곳': 'https://www.mangoplate.com/top_lists/FUNHRL3'}\n",
      "{'_id': ObjectId('62da0189a1188f6595d8fa37'), '남영역 맛집 베스트 30곳': 'https://www.mangoplate.com/top_lists/L27A26A'}\n",
      "{'_id': ObjectId('62da0189a1188f6595d8fa38'), '인생샷 카페 베스트 20곳': 'https://www.mangoplate.com/top_lists/OS3WLJV'}\n",
      "{'_id': ObjectId('62da0189a1188f6595d8fa39'), '통인동 맛집 베스트 20곳': 'https://www.mangoplate.com/top_lists/V7UHV5N'}\n",
      "{'_id': ObjectId('62da0189a1188f6595d8fa3a'), '함박 스테이크 맛집 베스트 15곳': 'https://www.mangoplate.com/top_lists/LSUT9CW'}\n",
      "{'_id': ObjectId('62da0189a1188f6595d8fa3b'), '가로수길 디저트 맛집 베스트 20곳': 'https://www.mangoplate.com/top_lists/4WUQWBH'}\n",
      "{'_id': ObjectId('62da0189a1188f6595d8fa3c'), '닭똥집 맛집 베스트 15곳': 'https://www.mangoplate.com/top_lists/SW8-QKG'}\n",
      "{'_id': ObjectId('62da0189a1188f6595d8fa3d'), '청담동 브런치 맛집 베스트 5곳': 'https://www.mangoplate.com/top_lists/1A0DFJ7'}\n",
      "{'_id': ObjectId('62da0189a1188f6595d8fa3e'), '브라우니 맛집 베스트 10곳': 'https://www.mangoplate.com/top_lists/KVUKKZF'}\n",
      "{'_id': ObjectId('62da0189a1188f6595d8fa3f'), '당산역 맛집 베스트 15곳': 'https://www.mangoplate.com/top_lists/HGMSRXI'}\n"
     ]
    }
   ],
   "source": [
    "for data in mg_col.find():\n",
    "    print(data)"
   ]
  },
  {
   "cell_type": "code",
   "execution_count": 48,
   "id": "33c40fd5",
   "metadata": {},
   "outputs": [
    {
     "ename": "SyntaxError",
     "evalue": "invalid syntax (4066958950.py, line 1)",
     "output_type": "error",
     "traceback": [
      "\u001b[1;36m  Input \u001b[1;32mIn [48]\u001b[1;36m\u001b[0m\n\u001b[1;33m    mongoexport --db Testmongo --port 27017 --collection list --type=csv --out ./Test.csv\u001b[0m\n\u001b[1;37m                     ^\u001b[0m\n\u001b[1;31mSyntaxError\u001b[0m\u001b[1;31m:\u001b[0m invalid syntax\n"
     ]
    }
   ],
   "source": [
    "# mongo DB -> CSV 출력\n",
    "# 각 이름이 존재해야 함\n",
    "import pymongo\n",
    "import os\n",
    "import re\n",
    "import time\n",
    "import csv\n",
    "\n",
    "# MongoDB Connection Config \n",
    "#host = 'localhost'\n",
    "#port = 27017\n",
    "#username = ''\n",
    "#password = ''\n",
    "database = 'Testmongo'\n",
    "\n",
    "#print('접속 경로 :: ', 'mongodb://%s:%s@%s:%d/%s' % (username, password, host, port, database))\n",
    "#conn = pymongo.MongoClient('mongodb://%s:%s@%s:%d/%s' % (username, password, host, port, database))\n",
    "conn = pymongo.MongoClient('mongodb://localhost:27017')\n",
    "print('MongoClient 접속 완료')\n",
    "\n",
    "# db 객체 할당받기\n",
    "db = conn.get_database(database)\n",
    "#print('db 객체 할당 완료')\n",
    "\n",
    "# collection 객체 할당받기\n",
    "coll = 'address'\n",
    "collection = db.get_collection(coll)\n",
    "\n",
    "path = 'C:/Users/Kosmo/Desktop/Test'\n",
    "file_name = 'Test.csv'\n",
    "\n",
    "i = 0\n",
    "posts = list(collection.find())\n",
    "\n",
    "with open(os.path.join(path, file_name), 'w', newline='', encoding='utf-8-sig') as output:\n",
    "    csvout = csv.DictWriter(output,['_id', 'name','addr'])\n",
    "    csvout.writeheader()\n",
    "    for post in posts:\n",
    "        wr = csv.writer(output)\n",
    "        wr.writerow([ post['_id'],post['name'],post['addr'] ])\n",
    "        # 진행률을 출력하기 위한 부분\n",
    "        i += 1\n",
    "        if i % 100:\n",
    "            print(\"{} finished\".format(i))\n",
    "\n",
    "print('[{}] End!!!'.format(coll))"
   ]
  },
  {
   "cell_type": "code",
   "execution_count": 25,
   "id": "145dd734",
   "metadata": {
    "scrolled": true
   },
   "outputs": [],
   "source": [
    "import matplotlib.pyplot as plt\n",
    "# x 축: 지역명, y축: 지역별 식당 갯수\n"
   ]
  },
  {
   "cell_type": "code",
   "execution_count": 52,
   "id": "548c1049",
   "metadata": {},
   "outputs": [
    {
     "data": {
      "image/png": "[encoded data removed]",
      "text/plain": [
       "<Figure size 432x288 with 1 Axes>"
      ]
     },
     "metadata": {},
     "output_type": "display_data"
    }
   ],
   "source": [
    "import matplotlib.pyplot as plt\n",
    "plt.rcParams['font.family'] = 'Hancom MalangMalang'\n",
    "plt.rc('font', size=18)\n",
    "plt.rc('')\n",
    "\n",
    "colors = [\"#DF0C0C\",\"#E023D6\",\"#3840F2\"]\n",
    "aaa = [27,35,25]\n",
    "ratio = (aaa[0],aaa[1],aaa[2])\n",
    "labels = ['맛있다', '괜찮다', '별로']\n",
    "explode = [0, 0.10, 0.07]\n",
    "\n",
    "_, _, autotexts = plt.pie(ratio, labels=labels, autopct='%.1f%%', startangle=260, counterclock=False, shadow=True, explode=explode, colors=colors)\n",
    "for autotext in autotexts:\n",
    "    autotext.set_color('white')\n",
    "    autotext.set_fontsize('16')\n",
    "plt.show()"
   ]
  },
  {
   "cell_type": "code",
   "execution_count": 88,
   "id": "8509379c",
   "metadata": {},
   "outputs": [
    {
     "data": {
      "image/png": "[encoded data removed]",
      "text/plain": [
       "<Figure size 432x288 with 1 Axes>"
      ]
     },
     "metadata": {},
     "output_type": "display_data"
    }
   ],
   "source": [
    "import matplotlib.pyplot as plt\n",
    "path=\"C:/Users/Kosmo/Desktop/Test/\"\n",
    "plt.rcParams['font.family'] = 'Hancom MalangMalang'\n",
    "plt.rc('font', size=18)\n",
    "\n",
    "\n",
    "ratio = [34, 32, 16]\n",
    "labels = ['맛있다', '괜찮다', '별로']\n",
    "colors = ['#ff9999', '#ffc000', '#8fd9b6']\n",
    "wedgeprops={'width': 0.7, 'edgecolor': 'w', 'linewidth': 4}\n",
    "explode = [0, 0.10, 0.07]\n",
    "\n",
    "_,_, autotexts = plt.pie(ratio, labels=labels, autopct='%.1f%%',shadow=True, startangle=260, counterclock=False, colors=colors, wedgeprops=wedgeprops, explode=explode)\n",
    "for autotext in autotexts:\n",
    "    autotext.set_color('blue')\n",
    "    autotext.set_fontsize('16')\n",
    "\n",
    "plt.savefig(path+\"test.png\",format='png',dpi=300, facecolor=\"white\")\n",
    "#plt.show()"
   ]
  },
  {
   "cell_type": "code",
   "execution_count": 56,
   "id": "3edad7bf",
   "metadata": {},
   "outputs": [
    {
     "name": "stdout",
     "output_type": "stream",
     "text": [
      "DejaVu Sans Mono.ttf\n",
      "DejaVu Serif Display.ttf\n",
      "cmex10.ttf\n",
      "DejaVu Serif.ttf\n",
      "STIXSizeThreeSym.ttf\n",
      "cmss10.ttf\n",
      "DejaVu Sans.ttf\n",
      "STIXNonUnicode.ttf\n",
      "STIXNonUnicode.ttf\n",
      "cmsy10.ttf\n",
      "DejaVu Sans.ttf\n",
      "STIXGeneral.ttf\n",
      "cmr10.ttf\n",
      "DejaVu Serif.ttf\n",
      "STIXSizeFiveSym.ttf\n",
      "STIXNonUnicode.ttf\n",
      "STIXSizeOneSym.ttf\n",
      "DejaVu Sans Mono.ttf\n",
      "STIXGeneral.ttf\n",
      "DejaVu Sans Display.ttf\n",
      "DejaVu Sans Mono.ttf\n",
      "STIXSizeOneSym.ttf\n",
      "DejaVu Serif.ttf\n",
      "cmtt10.ttf\n",
      "STIXSizeFourSym.ttf\n",
      "STIXSizeTwoSym.ttf\n",
      "STIXNonUnicode.ttf\n",
      "DejaVu Sans Mono.ttf\n",
      "DejaVu Sans.ttf\n",
      "DejaVu Sans.ttf\n",
      "STIXSizeFourSym.ttf\n",
      "DejaVu Serif.ttf\n",
      "STIXSizeTwoSym.ttf\n",
      "STIXGeneral.ttf\n",
      "cmb10.ttf\n",
      "STIXGeneral.ttf\n",
      "cmmi10.ttf\n",
      "STIXSizeThreeSym.ttf\n",
      "Microsoft YaHei.ttf\n",
      "Bodoni MT.ttf\n",
      "Trebuchet MS.ttf\n",
      "Gill Sans Ultra Bold.ttf\n",
      "SimSun-ExtB.ttf\n",
      "Garamond.ttf\n",
      "Sitka Small.ttf\n",
      "Bodoni MT.ttf\n",
      "Courier New.ttf\n",
      "Monotype Corsiva.ttf\n",
      "Viner Hand ITC.ttf\n",
      "HYGungSo-Bold.ttf\n",
      "Ami R.ttf\n",
      "Franklin Gothic Demi.ttf\n",
      "Vladimir Script.ttf\n",
      "Rockwell Extra Bold.ttf\n",
      "Tw Cen MT Condensed Extra Bold.ttf\n",
      "Bell MT.ttf\n",
      "Mongolian Baiti.ttf\n",
      "Eras Demi ITC.ttf\n",
      "HyhwpEQ.ttf\n",
      "Dubai.ttf\n",
      "Microsoft Tai Le.ttf\n",
      "Han Santteut Dotum.ttf\n",
      "Corbel.ttf\n",
      "Microsoft Tai Le.ttf\n",
      "Bookman Old Style.ttf\n",
      "Broadway.ttf\n",
      "Segoe Script.ttf\n",
      "Ebrima.ttf\n",
      "Consolas.ttf\n",
      "Black Han Sans.ttf\n",
      "Cambria.ttf\n",
      "HCR Dotum Ext.ttf\n",
      "Verdana.ttf\n",
      "Gill Sans MT Condensed.ttf\n",
      "Candara.ttf\n",
      "Bauhaus 93.ttf\n",
      "Playbill.ttf\n",
      "Calibri.ttf\n",
      "MoeumT R.ttf\n",
      "Bookman Old Style.ttf\n",
      "Bookman Old Style.ttf\n",
      "Courier New.ttf\n",
      "Tw Cen MT.ttf\n",
      "Garamond.ttf\n",
      "Calibri.ttf\n",
      "Hancom Gothic.ttf\n",
      "Book Antiqua.ttf\n",
      "Bodoni MT.ttf\n",
      "Microsoft Yi Baiti.ttf\n",
      "Segoe UI Historic.ttf\n",
      "Bodoni MT.ttf\n",
      "Perpetua Titling MT.ttf\n",
      "Arial.ttf\n",
      "Segoe UI.ttf\n",
      "Vivaldi.ttf\n",
      "Palatino Linotype.ttf\n",
      "MS Reference Specialty.ttf\n",
      "HCR Batang ExtB.ttf\n",
      "BM JUA_TTF.ttf\n",
      "Malgun Gothic.ttf\n",
      "Showcard Gothic.ttf\n",
      "HCR Dotum.ttf\n",
      "HYSinMyeongJo-Medium.ttf\n",
      "Comic Sans MS.ttf\n",
      "Script MT Bold.ttf\n",
      "Lucida Bright.ttf\n",
      "Segoe MDL2 Assets.ttf\n",
      "Juice ITC.ttf\n",
      "Goudy Old Style.ttf\n",
      "Candara.ttf\n",
      "Forte.ttf\n",
      "Batang.ttf\n",
      "Dubai.ttf\n",
      "Constantia.ttf\n",
      "Eras Light ITC.ttf\n",
      "Castellar.ttf\n",
      "Niagara Solid.ttf\n",
      "Lucida Sans.ttf\n",
      "Agency FB.ttf\n",
      "Perpetua Titling MT.ttf\n",
      "Leelawadee.ttf\n",
      "Calibri.ttf\n",
      "Dubai.ttf\n",
      "Lucida Fax.ttf\n",
      "Lucida Console.ttf\n",
      "Arial.ttf\n",
      "Georgia.ttf\n",
      "Gabriola.ttf\n",
      "Goudy Old Style.ttf\n",
      "Lucida Bright.ttf\n",
      "Segoe UI.ttf\n",
      "Arial.ttf\n",
      "Tw Cen MT Condensed.ttf\n",
      "Microsoft New Tai Lue.ttf\n",
      "HYMyeongJo-Extra.ttf\n",
      "Franklin Gothic Book.ttf\n",
      "Segoe UI.ttf\n",
      "Lucida Sans.ttf\n",
      "Comic Sans MS.ttf\n",
      "New Gulim.ttf\n",
      "Marlett.ttf\n",
      "Magic R.ttf\n",
      "Leelawadee UI.ttf\n",
      "Segoe UI.ttf\n",
      "Tw Cen MT.ttf\n",
      "Onyx.ttf\n",
      "Segoe UI.ttf\n",
      "Franklin Gothic Demi.ttf\n",
      "Microsoft YaHei.ttf\n",
      "Stencil.ttf\n",
      "Comic Sans MS.ttf\n",
      "MS Reference Sans Serif.ttf\n",
      "Blackadder ITC.ttf\n",
      "Headline R.ttf\n",
      "Yu Gothic.ttf\n",
      "Corbel.ttf\n",
      "French Script MT.ttf\n",
      "Gill Sans MT Ext Condensed Bold.ttf\n",
      "Century Schoolbook.ttf\n",
      "Brush Script MT.ttf\n",
      "Franklin Gothic Medium Cond.ttf\n",
      "Trebuchet MS.ttf\n",
      "Yu Gothic.ttf\n",
      "Microsoft JhengHei.ttf\n",
      "Maiandra GD.ttf\n",
      "HCR Dotum.ttf\n",
      "Verdana.ttf\n",
      "Californian FB.ttf\n",
      "Century.ttf\n",
      "Leelawadee UI.ttf\n",
      "Harlow Solid Italic.ttf\n",
      "Myanmar Text.ttf\n",
      "Franklin Gothic Demi Cond.ttf\n",
      "MS Gothic.ttf\n",
      "Nirmala UI.ttf\n",
      "Elephant.ttf\n",
      "Dubai.ttf\n",
      "Lucida Sans Typewriter.ttf\n",
      "Edwardian Script ITC.ttf\n",
      "HYPost-Medium.ttf\n",
      "Algerian.ttf\n",
      "Franklin Gothic Heavy.ttf\n",
      "Sitka Small.ttf\n",
      "Yet R.ttf\n",
      "Arial.ttf\n",
      "Webdings.ttf\n",
      "Bookshelf Symbol 7.ttf\n",
      "Gill Sans MT.ttf\n",
      "Segoe UI Emoji.ttf\n",
      "Bodoni MT.ttf\n",
      "Tw Cen MT Condensed.ttf\n",
      "Century Gothic.ttf\n",
      "Perpetua.ttf\n",
      "Arial.ttf\n",
      "Palatino Linotype.ttf\n",
      "Century Schoolbook.ttf\n",
      "Bodoni MT.ttf\n",
      "Microsoft PhagsPa.ttf\n",
      "Baskerville Old Face.ttf\n",
      "Palatino Linotype.ttf\n",
      "Pyidaungsu Numbers.ttf\n",
      "Calisto MT.ttf\n",
      "Myanmar Text.ttf\n",
      "Bodoni MT.ttf\n",
      "TeamViewer15.ttf\n",
      "Gill Sans MT.ttf\n",
      "Century Schoolbook.ttf\n",
      "Nirmala UI.ttf\n",
      "HoloLens MDL2 Assets.ttf\n",
      "Perpetua.ttf\n",
      "Bahnschrift.ttf\n",
      "Constantia.ttf\n",
      "Wide Latin.ttf\n",
      "Impact.ttf\n",
      "Trebuchet MS.ttf\n",
      "Cambria.ttf\n",
      "Berlin Sans FB Demi.ttf\n",
      "NewJumja.ttf\n",
      "Times New Roman.ttf\n",
      "Palatino Linotype.ttf\n",
      "Eras Bold ITC.ttf\n",
      "Rockwell Condensed.ttf\n",
      "Constantia.ttf\n",
      "Bernard MT Condensed.ttf\n",
      "Footlight MT Light.ttf\n",
      "Imprint MT Shadow.ttf\n",
      "Bell MT.ttf\n",
      "Harrington.ttf\n",
      "Matura MT Script Capitals.ttf\n",
      "Perpetua.ttf\n",
      "Calisto MT.ttf\n",
      "MV Boli.ttf\n",
      "Lucida Fax.ttf\n",
      "Leelawadee UI.ttf\n",
      "Agency FB.ttf\n",
      "Niagara Engraved.ttf\n",
      "Century Gothic.ttf\n",
      "HCR Batang Ext.ttf\n",
      "Informal Roman.ttf\n",
      "Segoe UI.ttf\n",
      "Pyidaungsu.ttf\n",
      "Times New Roman.ttf\n",
      "Bodoni MT.ttf\n",
      "Corbel.ttf\n",
      "Segoe UI.ttf\n",
      "Microsoft JhengHei.ttf\n",
      "Papyrus.ttf\n",
      "Parchment.ttf\n",
      "Yu Gothic.ttf\n",
      "Bodoni MT.ttf\n",
      "Book Antiqua.ttf\n",
      "HYHeadLine-Medium.ttf\n",
      "Colonna MT.ttf\n",
      "Segoe UI.ttf\n",
      "Malgun Gothic.ttf\n",
      "HCR Batang ExtB.ttf\n",
      "Rockwell.ttf\n",
      "Mistral.ttf\n",
      "Century Gothic.ttf\n",
      "Lucida Sans.ttf\n",
      "Ebrima.ttf\n",
      "Franklin Gothic Heavy.ttf\n",
      "OCR A Extended.ttf\n",
      "Book Antiqua.ttf\n",
      "Elephant.ttf\n",
      "Arial.ttf\n",
      "Sylfaen.ttf\n",
      "MT Extra.ttf\n",
      "Phetsarath OT.ttf\n",
      "Microsoft PhagsPa.ttf\n",
      "Modern No. 20.ttf\n",
      "Bradley Hand ITC.ttf\n",
      "Lucida Sans Typewriter.ttf\n",
      "Calibri.ttf\n",
      "HYGothic-Extra.ttf\n",
      "Candara.ttf\n",
      "Constantia.ttf\n",
      "HCR Batang.ttf\n",
      "Cooper Black.ttf\n",
      "Franklin Gothic Book.ttf\n",
      "Lucida Bright.ttf\n",
      "Gill Sans Ultra Bold Condensed.ttf\n",
      "Ravie.ttf\n",
      "Segoe Script.ttf\n",
      "Segoe UI.ttf\n",
      "Georgia.ttf\n",
      "Georgia.ttf\n",
      "Kunstler Script.ttf\n",
      "Freestyle Script.ttf\n",
      "Goudy Old Style.ttf\n",
      "Berlin Sans FB.ttf\n",
      "Berlin Sans FB.ttf\n",
      "Wingdings 3.ttf\n",
      "Gigi.ttf\n",
      "Bookman Old Style.ttf\n",
      "HYShortSamul-Medium.ttf\n",
      "Magneto.ttf\n",
      "Verdana.ttf\n",
      "Consolas.ttf\n",
      "Hancom Gothic.ttf\n",
      "Malgun Gothic.ttf\n",
      "Nirmala UI.ttf\n",
      "High Tower Text.ttf\n",
      "Century Schoolbook.ttf\n",
      "Haan Wing2.ttf\n",
      "Verdana.ttf\n",
      "Kristen ITC.ttf\n",
      "Ink Free.ttf\n",
      "Felix Titling.ttf\n",
      "Segoe UI.ttf\n",
      "Book Antiqua.ttf\n",
      "Leelawadee.ttf\n",
      "Gadugi.ttf\n",
      "Segoe UI.ttf\n",
      "Calibri.ttf\n",
      "Lucida Sans Typewriter.ttf\n",
      "Tw Cen MT.ttf\n",
      "Microsoft YaHei.ttf\n",
      "MS Outlook.ttf\n",
      "Sitka Small.ttf\n",
      "Centaur.ttf\n",
      "Californian FB.ttf\n",
      "Corbel.ttf\n",
      "Comic Sans MS.ttf\n",
      "Corbel.ttf\n",
      "Consolas.ttf\n",
      "Chiller.ttf\n",
      "Old English Text MT.ttf\n",
      "Calisto MT.ttf\n",
      "Tempus Sans ITC.ttf\n",
      "HancomEQN.ttf\n",
      "Arial.ttf\n",
      "Lucida Sans Typewriter.ttf\n",
      "Wingdings.ttf\n",
      "Segoe UI.ttf\n",
      "HYPMokGak-Bold.ttf\n",
      "Tw Cen MT.ttf\n",
      "Goudy Stout.ttf\n",
      "Copperplate Gothic Bold.ttf\n",
      "Courier New.ttf\n",
      "Lucida Handwriting.ttf\n",
      "Bell MT.ttf\n",
      "Segoe UI Symbol.ttf\n",
      "Poor Richard.ttf\n",
      "Cambria.ttf\n",
      "Rockwell Condensed.ttf\n",
      "Pyunji R.ttf\n",
      "Cambria.ttf\n",
      "Times New Roman.ttf\n",
      "Microsoft Sans Serif.ttf\n",
      "Trebuchet MS.ttf\n",
      "Bodoni MT.ttf\n",
      "Californian FB.ttf\n",
      "Pristina.ttf\n",
      "Microsoft Uighur.ttf\n",
      "Times New Roman.ttf\n",
      "Han Santteut Dotum.ttf\n",
      "Rockwell.ttf\n",
      "Franklin Gothic Medium.ttf\n",
      "SimSun.ttf\n",
      "Georgia.ttf\n",
      "Curlz MT.ttf\n",
      "Lucida Fax.ttf\n",
      "Microsoft Himalaya.ttf\n",
      "Century Gothic.ttf\n",
      "Candara.ttf\n",
      "Eras Medium ITC.ttf\n",
      "Perpetua.ttf\n",
      "Gadugi.ttf\n",
      "Consolas.ttf\n",
      "Segoe Print.ttf\n",
      "Hancom MalangMalang.ttf\n",
      "KBIZgo R.ttf\n",
      "Microsoft JhengHei.ttf\n",
      "Candara.ttf\n",
      "Microsoft Uighur.ttf\n",
      "Copperplate Gothic Light.ttf\n",
      "Gill Sans MT.ttf\n",
      "Yu Gothic.ttf\n",
      "Garamond.ttf\n",
      "Segoe Print.ttf\n",
      "Corbel.ttf\n",
      "Pyidaungsu.ttf\n",
      "Wingdings 2.ttf\n",
      "Hancom Hoonminjeongeum_V.ttf\n",
      "Lucida Sans Unicode.ttf\n",
      "Lucida Sans.ttf\n",
      "Haettenschweiler.ttf\n",
      "Arial Rounded MT Bold.ttf\n",
      "Rockwell.ttf\n",
      "Engravers MT.ttf\n",
      "Snap ITC.ttf\n",
      "Palace Script MT.ttf\n",
      "Calibri.ttf\n",
      "Rage Italic.ttf\n",
      "Gill Sans MT.ttf\n",
      "Microsoft New Tai Lue.ttf\n",
      "Hancom MalangMalang.ttf\n",
      "Bodoni MT.ttf\n",
      "Javanese Text.ttf\n",
      "Jokerman.ttf\n",
      "Franklin Gothic Medium.ttf\n",
      "Courier New.ttf\n",
      "Arial.ttf\n",
      "Lucida Fax.ttf\n",
      "MingLiU-ExtB.ttf\n",
      "Lucida Bright.ttf\n",
      "Calisto MT.ttf\n",
      "Tahoma.ttf\n",
      "HYPost-Light.ttf\n",
      "Symbol.ttf\n",
      "Tahoma.ttf\n",
      "Gulim.ttf\n",
      "HYGraphic-Medium.ttf\n",
      "Gloucester MT Extra Condensed.ttf\n",
      "Candara.ttf\n",
      "Lucida Calligraphy.ttf\n",
      "HYGothic-Medium.ttf\n",
      "Rockwell.ttf\n",
      "Britannic Bold.ttf\n",
      "Arial.ttf\n",
      "HCR Batang.ttf\n",
      "Sitka Small.ttf\n",
      "High Tower Text.ttf\n"
     ]
    }
   ],
   "source": [
    "# 폰트 찾기 \n",
    "import matplotlib.font_manager as fom\n",
    "font_list = [font.name for font in fom.fontManager.ttflist]\n",
    "for f in font_list:\n",
    "    print(f\"{f}.ttf\")"
   ]
  },
  {
   "cell_type": "code",
   "execution_count": 28,
   "id": "60ec9e54",
   "metadata": {
    "scrolled": false
   },
   "outputs": [
    {
     "data": {
      "application/vnd.plotly.v1+json": {
       "config": {
        "plotlyServerURL": "https://plot.ly"
       },
       "data": [
        {
         "domain": {
          "x": [
           0,
           1
          ],
          "y": [
           0,
           1
          ]
         },
         "gauge": {
          "axis": {
           "range": [
            null,
            100
           ]
          },
          "steps": [
           {
            "color": "lightgray",
            "range": [
             0,
             30
            ]
           },
           {
            "color": "gray",
            "range": [
             70,
             100
            ]
           }
          ]
         },
         "mode": "gauge+number",
         "title": {
          "text": "Service"
         },
         "type": "indicator",
         "value": 25
        }
       ],
       "layout": {
        "template": {
         "data": {
          "bar": [
           {
            "error_x": {
             "color": "#2a3f5f"
            },
            "error_y": {
             "color": "#2a3f5f"
            },
            "marker": {
             "line": {
              "color": "#E5ECF6",
              "width": 0.5
             },
             "pattern": {
              "fillmode": "overlay",
              "size": 10,
              "solidity": 0.2
             }
            },
            "type": "bar"
           }
          ],
          "barpolar": [
           {
            "marker": {
             "line": {
              "color": "#E5ECF6",
              "width": 0.5
             },
             "pattern": {
              "fillmode": "overlay",
              "size": 10,
              "solidity": 0.2
             }
            },
            "type": "barpolar"
           }
          ],
          "carpet": [
           {
            "aaxis": {
             "endlinecolor": "#2a3f5f",
             "gridcolor": "white",
             "linecolor": "white",
             "minorgridcolor": "white",
             "startlinecolor": "#2a3f5f"
            },
            "baxis": {
             "endlinecolor": "#2a3f5f",
             "gridcolor": "white",
             "linecolor": "white",
             "minorgridcolor": "white",
             "startlinecolor": "#2a3f5f"
            },
            "type": "carpet"
           }
          ],
          "choropleth": [
           {
            "colorbar": {
             "outlinewidth": 0,
             "ticks": ""
            },
            "type": "choropleth"
           }
          ],
          "contour": [
           {
            "colorbar": {
             "outlinewidth": 0,
             "ticks": ""
            },
            "colorscale": [
             [
              0,
              "#0d0887"
             ],
             [
              0.1111111111111111,
              "#46039f"
             ],
             [
              0.2222222222222222,
              "#7201a8"
             ],
             [
              0.3333333333333333,
              "#9c179e"
             ],
             [
              0.4444444444444444,
              "#bd3786"
             ],
             [
              0.5555555555555556,
              "#d8576b"
             ],
             [
              0.6666666666666666,
              "#ed7953"
             ],
             [
              0.7777777777777778,
              "#fb9f3a"
             ],
             [
              0.8888888888888888,
              "#fdca26"
             ],
             [
              1,
              "#f0f921"
             ]
            ],
            "type": "contour"
           }
          ],
          "contourcarpet": [
           {
            "colorbar": {
             "outlinewidth": 0,
             "ticks": ""
            },
            "type": "contourcarpet"
           }
          ],
          "heatmap": [
           {
            "colorbar": {
             "outlinewidth": 0,
             "ticks": ""
            },
            "colorscale": [
             [
              0,
              "#0d0887"
             ],
             [
              0.1111111111111111,
              "#46039f"
             ],
             [
              0.2222222222222222,
              "#7201a8"
             ],
             [
              0.3333333333333333,
              "#9c179e"
             ],
             [
              0.4444444444444444,
              "#bd3786"
             ],
             [
              0.5555555555555556,
              "#d8576b"
             ],
             [
              0.6666666666666666,
              "#ed7953"
             ],
             [
              0.7777777777777778,
              "#fb9f3a"
             ],
             [
              0.8888888888888888,
              "#fdca26"
             ],
             [
              1,
              "#f0f921"
             ]
            ],
            "type": "heatmap"
           }
          ],
          "heatmapgl": [
           {
            "colorbar": {
             "outlinewidth": 0,
             "ticks": ""
            },
            "colorscale": [
             [
              0,
              "#0d0887"
             ],
             [
              0.1111111111111111,
              "#46039f"
             ],
             [
              0.2222222222222222,
              "#7201a8"
             ],
             [
              0.3333333333333333,
              "#9c179e"
             ],
             [
              0.4444444444444444,
              "#bd3786"
             ],
             [
              0.5555555555555556,
              "#d8576b"
             ],
             [
              0.6666666666666666,
              "#ed7953"
             ],
             [
              0.7777777777777778,
              "#fb9f3a"
             ],
             [
              0.8888888888888888,
              "#fdca26"
             ],
             [
              1,
              "#f0f921"
             ]
            ],
            "type": "heatmapgl"
           }
          ],
          "histogram": [
           {
            "marker": {
             "pattern": {
              "fillmode": "overlay",
              "size": 10,
              "solidity": 0.2
             }
            },
            "type": "histogram"
           }
          ],
          "histogram2d": [
           {
            "colorbar": {
             "outlinewidth": 0,
             "ticks": ""
            },
            "colorscale": [
             [
              0,
              "#0d0887"
             ],
             [
              0.1111111111111111,
              "#46039f"
             ],
             [
              0.2222222222222222,
              "#7201a8"
             ],
             [
              0.3333333333333333,
              "#9c179e"
             ],
             [
              0.4444444444444444,
              "#bd3786"
             ],
             [
              0.5555555555555556,
              "#d8576b"
             ],
             [
              0.6666666666666666,
              "#ed7953"
             ],
             [
              0.7777777777777778,
              "#fb9f3a"
             ],
             [
              0.8888888888888888,
              "#fdca26"
             ],
             [
              1,
              "#f0f921"
             ]
            ],
            "type": "histogram2d"
           }
          ],
          "histogram2dcontour": [
           {
            "colorbar": {
             "outlinewidth": 0,
             "ticks": ""
            },
            "colorscale": [
             [
              0,
              "#0d0887"
             ],
             [
              0.1111111111111111,
              "#46039f"
             ],
             [
              0.2222222222222222,
              "#7201a8"
             ],
             [
              0.3333333333333333,
              "#9c179e"
             ],
             [
              0.4444444444444444,
              "#bd3786"
             ],
             [
              0.5555555555555556,
              "#d8576b"
             ],
             [
              0.6666666666666666,
              "#ed7953"
             ],
             [
              0.7777777777777778,
              "#fb9f3a"
             ],
             [
              0.8888888888888888,
              "#fdca26"
             ],
             [
              1,
              "#f0f921"
             ]
            ],
            "type": "histogram2dcontour"
           }
          ],
          "mesh3d": [
           {
            "colorbar": {
             "outlinewidth": 0,
             "ticks": ""
            },
            "type": "mesh3d"
           }
          ],
          "parcoords": [
           {
            "line": {
             "colorbar": {
              "outlinewidth": 0,
              "ticks": ""
             }
            },
            "type": "parcoords"
           }
          ],
          "pie": [
           {
            "automargin": true,
            "type": "pie"
           }
          ],
          "scatter": [
           {
            "fillpattern": {
             "fillmode": "overlay",
             "size": 10,
             "solidity": 0.2
            },
            "type": "scatter"
           }
          ],
          "scatter3d": [
           {
            "line": {
             "colorbar": {
              "outlinewidth": 0,
              "ticks": ""
             }
            },
            "marker": {
             "colorbar": {
              "outlinewidth": 0,
              "ticks": ""
             }
            },
            "type": "scatter3d"
           }
          ],
          "scattercarpet": [
           {
            "marker": {
             "colorbar": {
              "outlinewidth": 0,
              "ticks": ""
             }
            },
            "type": "scattercarpet"
           }
          ],
          "scattergeo": [
           {
            "marker": {
             "colorbar": {
              "outlinewidth": 0,
              "ticks": ""
             }
            },
            "type": "scattergeo"
           }
          ],
          "scattergl": [
           {
            "marker": {
             "colorbar": {
              "outlinewidth": 0,
              "ticks": ""
             }
            },
            "type": "scattergl"
           }
          ],
          "scattermapbox": [
           {
            "marker": {
             "colorbar": {
              "outlinewidth": 0,
              "ticks": ""
             }
            },
            "type": "scattermapbox"
           }
          ],
          "scatterpolar": [
           {
            "marker": {
             "colorbar": {
              "outlinewidth": 0,
              "ticks": ""
             }
            },
            "type": "scatterpolar"
           }
          ],
          "scatterpolargl": [
           {
            "marker": {
             "colorbar": {
              "outlinewidth": 0,
              "ticks": ""
             }
            },
            "type": "scatterpolargl"
           }
          ],
          "scatterternary": [
           {
            "marker": {
             "colorbar": {
              "outlinewidth": 0,
              "ticks": ""
             }
            },
            "type": "scatterternary"
           }
          ],
          "surface": [
           {
            "colorbar": {
             "outlinewidth": 0,
             "ticks": ""
            },
            "colorscale": [
             [
              0,
              "#0d0887"
             ],
             [
              0.1111111111111111,
              "#46039f"
             ],
             [
              0.2222222222222222,
              "#7201a8"
             ],
             [
              0.3333333333333333,
              "#9c179e"
             ],
             [
              0.4444444444444444,
              "#bd3786"
             ],
             [
              0.5555555555555556,
              "#d8576b"
             ],
             [
              0.6666666666666666,
              "#ed7953"
             ],
             [
              0.7777777777777778,
              "#fb9f3a"
             ],
             [
              0.8888888888888888,
              "#fdca26"
             ],
             [
              1,
              "#f0f921"
             ]
            ],
            "type": "surface"
           }
          ],
          "table": [
           {
            "cells": {
             "fill": {
              "color": "#EBF0F8"
             },
             "line": {
              "color": "white"
             }
            },
            "header": {
             "fill": {
              "color": "#C8D4E3"
             },
             "line": {
              "color": "white"
             }
            },
            "type": "table"
           }
          ]
         },
         "layout": {
          "annotationdefaults": {
           "arrowcolor": "#2a3f5f",
           "arrowhead": 0,
           "arrowwidth": 1
          },
          "autotypenumbers": "strict",
          "coloraxis": {
           "colorbar": {
            "outlinewidth": 0,
            "ticks": ""
           }
          },
          "colorscale": {
           "diverging": [
            [
             0,
             "#8e0152"
            ],
            [
             0.1,
             "#c51b7d"
            ],
            [
             0.2,
             "#de77ae"
            ],
            [
             0.3,
             "#f1b6da"
            ],
            [
             0.4,
             "#fde0ef"
            ],
            [
             0.5,
             "#f7f7f7"
            ],
            [
             0.6,
             "#e6f5d0"
            ],
            [
             0.7,
             "#b8e186"
            ],
            [
             0.8,
             "#7fbc41"
            ],
            [
             0.9,
             "#4d9221"
            ],
            [
             1,
             "#276419"
            ]
           ],
           "sequential": [
            [
             0,
             "#0d0887"
            ],
            [
             0.1111111111111111,
             "#46039f"
            ],
            [
             0.2222222222222222,
             "#7201a8"
            ],
            [
             0.3333333333333333,
             "#9c179e"
            ],
            [
             0.4444444444444444,
             "#bd3786"
            ],
            [
             0.5555555555555556,
             "#d8576b"
            ],
            [
             0.6666666666666666,
             "#ed7953"
            ],
            [
             0.7777777777777778,
             "#fb9f3a"
            ],
            [
             0.8888888888888888,
             "#fdca26"
            ],
            [
             1,
             "#f0f921"
            ]
           ],
           "sequentialminus": [
            [
             0,
             "#0d0887"
            ],
            [
             0.1111111111111111,
             "#46039f"
            ],
            [
             0.2222222222222222,
             "#7201a8"
            ],
            [
             0.3333333333333333,
             "#9c179e"
            ],
            [
             0.4444444444444444,
             "#bd3786"
            ],
            [
             0.5555555555555556,
             "#d8576b"
            ],
            [
             0.6666666666666666,
             "#ed7953"
            ],
            [
             0.7777777777777778,
             "#fb9f3a"
            ],
            [
             0.8888888888888888,
             "#fdca26"
            ],
            [
             1,
             "#f0f921"
            ]
           ]
          },
          "colorway": [
           "#636efa",
           "#EF553B",
           "#00cc96",
           "#ab63fa",
           "#FFA15A",
           "#19d3f3",
           "#FF6692",
           "#B6E880",
           "#FF97FF",
           "#FECB52"
          ],
          "font": {
           "color": "#2a3f5f"
          },
          "geo": {
           "bgcolor": "white",
           "lakecolor": "white",
           "landcolor": "#E5ECF6",
           "showlakes": true,
           "showland": true,
           "subunitcolor": "white"
          },
          "hoverlabel": {
           "align": "left"
          },
          "hovermode": "closest",
          "mapbox": {
           "style": "light"
          },
          "paper_bgcolor": "white",
          "plot_bgcolor": "#E5ECF6",
          "polar": {
           "angularaxis": {
            "gridcolor": "white",
            "linecolor": "white",
            "ticks": ""
           },
           "bgcolor": "#E5ECF6",
           "radialaxis": {
            "gridcolor": "white",
            "linecolor": "white",
            "ticks": ""
           }
          },
          "scene": {
           "xaxis": {
            "backgroundcolor": "#E5ECF6",
            "gridcolor": "white",
            "gridwidth": 2,
            "linecolor": "white",
            "showbackground": true,
            "ticks": "",
            "zerolinecolor": "white"
           },
           "yaxis": {
            "backgroundcolor": "#E5ECF6",
            "gridcolor": "white",
            "gridwidth": 2,
            "linecolor": "white",
            "showbackground": true,
            "ticks": "",
            "zerolinecolor": "white"
           },
           "zaxis": {
            "backgroundcolor": "#E5ECF6",
            "gridcolor": "white",
            "gridwidth": 2,
            "linecolor": "white",
            "showbackground": true,
            "ticks": "",
            "zerolinecolor": "white"
           }
          },
          "shapedefaults": {
           "line": {
            "color": "#2a3f5f"
           }
          },
          "ternary": {
           "aaxis": {
            "gridcolor": "white",
            "linecolor": "white",
            "ticks": ""
           },
           "baxis": {
            "gridcolor": "white",
            "linecolor": "white",
            "ticks": ""
           },
           "bgcolor": "#E5ECF6",
           "caxis": {
            "gridcolor": "white",
            "linecolor": "white",
            "ticks": ""
           }
          },
          "title": {
           "x": 0.05
          },
          "xaxis": {
           "automargin": true,
           "gridcolor": "white",
           "linecolor": "white",
           "ticks": "",
           "title": {
            "standoff": 15
           },
           "zerolinecolor": "white",
           "zerolinewidth": 2
          },
          "yaxis": {
           "automargin": true,
           "gridcolor": "white",
           "linecolor": "white",
           "ticks": "",
           "title": {
            "standoff": 15
           },
           "zerolinecolor": "white",
           "zerolinewidth": 2
          }
         }
        }
       }
      },
      "text/html": [
       "<div>                            <div id=\"2e966b6a-5b89-4bdb-ae54-9a13d6a98cfc\" class=\"plotly-graph-div\" style=\"height:525px; width:100%;\"></div>            <script type=\"text/javascript\">                require([\"plotly\"], function(Plotly) {                    window.PLOTLYENV=window.PLOTLYENV || {};                                    if (document.getElementById(\"2e966b6a-5b89-4bdb-ae54-9a13d6a98cfc\")) {                    Plotly.newPlot(                        \"2e966b6a-5b89-4bdb-ae54-9a13d6a98cfc\",                        [{\"domain\":{\"x\":[0,1],\"y\":[0,1]},\"gauge\":{\"axis\":{\"range\":[null,100]},\"steps\":[{\"color\":\"lightgray\",\"range\":[0,30]},{\"color\":\"gray\",\"range\":[70,100]}]},\"mode\":\"gauge+number\",\"title\":{\"text\":\"Service\"},\"value\":25,\"type\":\"indicator\"}],                        {\"template\":{\"data\":{\"histogram2dcontour\":[{\"type\":\"histogram2dcontour\",\"colorbar\":{\"outlinewidth\":0,\"ticks\":\"\"},\"colorscale\":[[0.0,\"#0d0887\"],[0.1111111111111111,\"#46039f\"],[0.2222222222222222,\"#7201a8\"],[0.3333333333333333,\"#9c179e\"],[0.4444444444444444,\"#bd3786\"],[0.5555555555555556,\"#d8576b\"],[0.6666666666666666,\"#ed7953\"],[0.7777777777777778,\"#fb9f3a\"],[0.8888888888888888,\"#fdca26\"],[1.0,\"#f0f921\"]]}],\"choropleth\":[{\"type\":\"choropleth\",\"colorbar\":{\"outlinewidth\":0,\"ticks\":\"\"}}],\"histogram2d\":[{\"type\":\"histogram2d\",\"colorbar\":{\"outlinewidth\":0,\"ticks\":\"\"},\"colorscale\":[[0.0,\"#0d0887\"],[0.1111111111111111,\"#46039f\"],[0.2222222222222222,\"#7201a8\"],[0.3333333333333333,\"#9c179e\"],[0.4444444444444444,\"#bd3786\"],[0.5555555555555556,\"#d8576b\"],[0.6666666666666666,\"#ed7953\"],[0.7777777777777778,\"#fb9f3a\"],[0.8888888888888888,\"#fdca26\"],[1.0,\"#f0f921\"]]}],\"heatmap\":[{\"type\":\"heatmap\",\"colorbar\":{\"outlinewidth\":0,\"ticks\":\"\"},\"colorscale\":[[0.0,\"#0d0887\"],[0.1111111111111111,\"#46039f\"],[0.2222222222222222,\"#7201a8\"],[0.3333333333333333,\"#9c179e\"],[0.4444444444444444,\"#bd3786\"],[0.5555555555555556,\"#d8576b\"],[0.6666666666666666,\"#ed7953\"],[0.7777777777777778,\"#fb9f3a\"],[0.8888888888888888,\"#fdca26\"],[1.0,\"#f0f921\"]]}],\"heatmapgl\":[{\"type\":\"heatmapgl\",\"colorbar\":{\"outlinewidth\":0,\"ticks\":\"\"},\"colorscale\":[[0.0,\"#0d0887\"],[0.1111111111111111,\"#46039f\"],[0.2222222222222222,\"#7201a8\"],[0.3333333333333333,\"#9c179e\"],[0.4444444444444444,\"#bd3786\"],[0.5555555555555556,\"#d8576b\"],[0.6666666666666666,\"#ed7953\"],[0.7777777777777778,\"#fb9f3a\"],[0.8888888888888888,\"#fdca26\"],[1.0,\"#f0f921\"]]}],\"contourcarpet\":[{\"type\":\"contourcarpet\",\"colorbar\":{\"outlinewidth\":0,\"ticks\":\"\"}}],\"contour\":[{\"type\":\"contour\",\"colorbar\":{\"outlinewidth\":0,\"ticks\":\"\"},\"colorscale\":[[0.0,\"#0d0887\"],[0.1111111111111111,\"#46039f\"],[0.2222222222222222,\"#7201a8\"],[0.3333333333333333,\"#9c179e\"],[0.4444444444444444,\"#bd3786\"],[0.5555555555555556,\"#d8576b\"],[0.6666666666666666,\"#ed7953\"],[0.7777777777777778,\"#fb9f3a\"],[0.8888888888888888,\"#fdca26\"],[1.0,\"#f0f921\"]]}],\"surface\":[{\"type\":\"surface\",\"colorbar\":{\"outlinewidth\":0,\"ticks\":\"\"},\"colorscale\":[[0.0,\"#0d0887\"],[0.1111111111111111,\"#46039f\"],[0.2222222222222222,\"#7201a8\"],[0.3333333333333333,\"#9c179e\"],[0.4444444444444444,\"#bd3786\"],[0.5555555555555556,\"#d8576b\"],[0.6666666666666666,\"#ed7953\"],[0.7777777777777778,\"#fb9f3a\"],[0.8888888888888888,\"#fdca26\"],[1.0,\"#f0f921\"]]}],\"mesh3d\":[{\"type\":\"mesh3d\",\"colorbar\":{\"outlinewidth\":0,\"ticks\":\"\"}}],\"scatter\":[{\"fillpattern\":{\"fillmode\":\"overlay\",\"size\":10,\"solidity\":0.2},\"type\":\"scatter\"}],\"parcoords\":[{\"type\":\"parcoords\",\"line\":{\"colorbar\":{\"outlinewidth\":0,\"ticks\":\"\"}}}],\"scatterpolargl\":[{\"type\":\"scatterpolargl\",\"marker\":{\"colorbar\":{\"outlinewidth\":0,\"ticks\":\"\"}}}],\"bar\":[{\"error_x\":{\"color\":\"#2a3f5f\"},\"error_y\":{\"color\":\"#2a3f5f\"},\"marker\":{\"line\":{\"color\":\"#E5ECF6\",\"width\":0.5},\"pattern\":{\"fillmode\":\"overlay\",\"size\":10,\"solidity\":0.2}},\"type\":\"bar\"}],\"scattergeo\":[{\"type\":\"scattergeo\",\"marker\":{\"colorbar\":{\"outlinewidth\":0,\"ticks\":\"\"}}}],\"scatterpolar\":[{\"type\":\"scatterpolar\",\"marker\":{\"colorbar\":{\"outlinewidth\":0,\"ticks\":\"\"}}}],\"histogram\":[{\"marker\":{\"pattern\":{\"fillmode\":\"overlay\",\"size\":10,\"solidity\":0.2}},\"type\":\"histogram\"}],\"scattergl\":[{\"type\":\"scattergl\",\"marker\":{\"colorbar\":{\"outlinewidth\":0,\"ticks\":\"\"}}}],\"scatter3d\":[{\"type\":\"scatter3d\",\"line\":{\"colorbar\":{\"outlinewidth\":0,\"ticks\":\"\"}},\"marker\":{\"colorbar\":{\"outlinewidth\":0,\"ticks\":\"\"}}}],\"scattermapbox\":[{\"type\":\"scattermapbox\",\"marker\":{\"colorbar\":{\"outlinewidth\":0,\"ticks\":\"\"}}}],\"scatterternary\":[{\"type\":\"scatterternary\",\"marker\":{\"colorbar\":{\"outlinewidth\":0,\"ticks\":\"\"}}}],\"scattercarpet\":[{\"type\":\"scattercarpet\",\"marker\":{\"colorbar\":{\"outlinewidth\":0,\"ticks\":\"\"}}}],\"carpet\":[{\"aaxis\":{\"endlinecolor\":\"#2a3f5f\",\"gridcolor\":\"white\",\"linecolor\":\"white\",\"minorgridcolor\":\"white\",\"startlinecolor\":\"#2a3f5f\"},\"baxis\":{\"endlinecolor\":\"#2a3f5f\",\"gridcolor\":\"white\",\"linecolor\":\"white\",\"minorgridcolor\":\"white\",\"startlinecolor\":\"#2a3f5f\"},\"type\":\"carpet\"}],\"table\":[{\"cells\":{\"fill\":{\"color\":\"#EBF0F8\"},\"line\":{\"color\":\"white\"}},\"header\":{\"fill\":{\"color\":\"#C8D4E3\"},\"line\":{\"color\":\"white\"}},\"type\":\"table\"}],\"barpolar\":[{\"marker\":{\"line\":{\"color\":\"#E5ECF6\",\"width\":0.5},\"pattern\":{\"fillmode\":\"overlay\",\"size\":10,\"solidity\":0.2}},\"type\":\"barpolar\"}],\"pie\":[{\"automargin\":true,\"type\":\"pie\"}]},\"layout\":{\"autotypenumbers\":\"strict\",\"colorway\":[\"#636efa\",\"#EF553B\",\"#00cc96\",\"#ab63fa\",\"#FFA15A\",\"#19d3f3\",\"#FF6692\",\"#B6E880\",\"#FF97FF\",\"#FECB52\"],\"font\":{\"color\":\"#2a3f5f\"},\"hovermode\":\"closest\",\"hoverlabel\":{\"align\":\"left\"},\"paper_bgcolor\":\"white\",\"plot_bgcolor\":\"#E5ECF6\",\"polar\":{\"bgcolor\":\"#E5ECF6\",\"angularaxis\":{\"gridcolor\":\"white\",\"linecolor\":\"white\",\"ticks\":\"\"},\"radialaxis\":{\"gridcolor\":\"white\",\"linecolor\":\"white\",\"ticks\":\"\"}},\"ternary\":{\"bgcolor\":\"#E5ECF6\",\"aaxis\":{\"gridcolor\":\"white\",\"linecolor\":\"white\",\"ticks\":\"\"},\"baxis\":{\"gridcolor\":\"white\",\"linecolor\":\"white\",\"ticks\":\"\"},\"caxis\":{\"gridcolor\":\"white\",\"linecolor\":\"white\",\"ticks\":\"\"}},\"coloraxis\":{\"colorbar\":{\"outlinewidth\":0,\"ticks\":\"\"}},\"colorscale\":{\"sequential\":[[0.0,\"#0d0887\"],[0.1111111111111111,\"#46039f\"],[0.2222222222222222,\"#7201a8\"],[0.3333333333333333,\"#9c179e\"],[0.4444444444444444,\"#bd3786\"],[0.5555555555555556,\"#d8576b\"],[0.6666666666666666,\"#ed7953\"],[0.7777777777777778,\"#fb9f3a\"],[0.8888888888888888,\"#fdca26\"],[1.0,\"#f0f921\"]],\"sequentialminus\":[[0.0,\"#0d0887\"],[0.1111111111111111,\"#46039f\"],[0.2222222222222222,\"#7201a8\"],[0.3333333333333333,\"#9c179e\"],[0.4444444444444444,\"#bd3786\"],[0.5555555555555556,\"#d8576b\"],[0.6666666666666666,\"#ed7953\"],[0.7777777777777778,\"#fb9f3a\"],[0.8888888888888888,\"#fdca26\"],[1.0,\"#f0f921\"]],\"diverging\":[[0,\"#8e0152\"],[0.1,\"#c51b7d\"],[0.2,\"#de77ae\"],[0.3,\"#f1b6da\"],[0.4,\"#fde0ef\"],[0.5,\"#f7f7f7\"],[0.6,\"#e6f5d0\"],[0.7,\"#b8e186\"],[0.8,\"#7fbc41\"],[0.9,\"#4d9221\"],[1,\"#276419\"]]},\"xaxis\":{\"gridcolor\":\"white\",\"linecolor\":\"white\",\"ticks\":\"\",\"title\":{\"standoff\":15},\"zerolinecolor\":\"white\",\"automargin\":true,\"zerolinewidth\":2},\"yaxis\":{\"gridcolor\":\"white\",\"linecolor\":\"white\",\"ticks\":\"\",\"title\":{\"standoff\":15},\"zerolinecolor\":\"white\",\"automargin\":true,\"zerolinewidth\":2},\"scene\":{\"xaxis\":{\"backgroundcolor\":\"#E5ECF6\",\"gridcolor\":\"white\",\"linecolor\":\"white\",\"showbackground\":true,\"ticks\":\"\",\"zerolinecolor\":\"white\",\"gridwidth\":2},\"yaxis\":{\"backgroundcolor\":\"#E5ECF6\",\"gridcolor\":\"white\",\"linecolor\":\"white\",\"showbackground\":true,\"ticks\":\"\",\"zerolinecolor\":\"white\",\"gridwidth\":2},\"zaxis\":{\"backgroundcolor\":\"#E5ECF6\",\"gridcolor\":\"white\",\"linecolor\":\"white\",\"showbackground\":true,\"ticks\":\"\",\"zerolinecolor\":\"white\",\"gridwidth\":2}},\"shapedefaults\":{\"line\":{\"color\":\"#2a3f5f\"}},\"annotationdefaults\":{\"arrowcolor\":\"#2a3f5f\",\"arrowhead\":0,\"arrowwidth\":1},\"geo\":{\"bgcolor\":\"white\",\"landcolor\":\"#E5ECF6\",\"subunitcolor\":\"white\",\"showland\":true,\"showlakes\":true,\"lakecolor\":\"white\"},\"title\":{\"x\":0.05},\"mapbox\":{\"style\":\"light\"}}}},                        {\"responsive\": true}                    ).then(function(){\n",
       "                            \n",
       "var gd = document.getElementById('2e966b6a-5b89-4bdb-ae54-9a13d6a98cfc');\n",
       "var x = new MutationObserver(function (mutations, observer) {{\n",
       "        var display = window.getComputedStyle(gd).display;\n",
       "        if (!display || display === 'none') {{\n",
       "            console.log([gd, 'removed!']);\n",
       "            Plotly.purge(gd);\n",
       "            observer.disconnect();\n",
       "        }}\n",
       "}});\n",
       "\n",
       "// Listen for the removal of the full notebook cells\n",
       "var notebookContainer = gd.closest('#notebook-container');\n",
       "if (notebookContainer) {{\n",
       "    x.observe(notebookContainer, {childList: true});\n",
       "}}\n",
       "\n",
       "// Listen for the clearing of the current output cell\n",
       "var outputEl = gd.closest('.output');\n",
       "if (outputEl) {{\n",
       "    x.observe(outputEl, {childList: true});\n",
       "}}\n",
       "\n",
       "                        })                };                });            </script>        </div>"
      ]
     },
     "metadata": {},
     "output_type": "display_data"
    }
   ],
   "source": [
    "# gauge chart\n",
    "import plotly.graph_objects as go\n",
    "\n",
    "fig = go.Figure(go.Indicator(\n",
    "    domain = {'x': [0, 1], 'y': [0, 1]},\n",
    "    value = 25,\n",
    "    mode = \"gauge+number\", #+delta\n",
    "    title = {'text': \"Service\"},\n",
    "    #delta = {'reference': 60},\n",
    "    gauge = {'axis': {'range': [None, 100]},\n",
    "             'steps' : [\n",
    "                 {'range': [0, 30], 'color': \"lightgray\"},\n",
    "                 {'range': [70, 100], 'color': \"gray\"}]}))\n",
    "\n",
    "fig.show()"
   ]
  }
 ],
 "metadata": {
  "kernelspec": {
   "display_name": "Python 3 (ipykernel)",
   "language": "python",
   "name": "python3"
  },
  "language_info": {
   "codemirror_mode": {
    "name": "ipython",
    "version": 3
   },
   "file_extension": ".py",
   "mimetype": "text/x-python",
   "name": "python",
   "nbconvert_exporter": "python",
   "pygments_lexer": "ipython3",
   "version": "3.9.6"
  }
 },
 "nbformat": 4,
 "nbformat_minor": 5
}
