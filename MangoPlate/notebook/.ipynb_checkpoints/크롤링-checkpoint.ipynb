{
 "cells": [
  {
   "cell_type": "code",
   "execution_count": 1,
   "id": "8d7a752d",
   "metadata": {
    "scrolled": true
   },
   "outputs": [],
   "source": [
    "import time\n",
    "\n",
    "from pymongo import mongo_client\n",
    "from selenium import webdriver\n",
    "from selenium.webdriver.common.by import By\n",
    "from selenium.webdriver.common.keys import Keys"
   ]
  },
  {
   "cell_type": "code",
   "execution_count": 2,
   "id": "f65de5c5",
   "metadata": {
    "scrolled": true
   },
   "outputs": [
    {
     "name": "stderr",
     "output_type": "stream",
     "text": [
      "C:\\Users\\Kosmo\\AppData\\Local\\Temp\\ipykernel_8256\\2641487657.py:2: DeprecationWarning: executable_path has been deprecated, please pass in a Service object\n",
      "  driver = webdriver.Chrome(path)\n"
     ]
    }
   ],
   "source": [
    "path = \"d:/bij/python/chromedriver.exe\"\n",
    "driver = webdriver.Chrome(path)"
   ]
  },
  {
   "cell_type": "code",
   "execution_count": 3,
   "id": "1950857f",
   "metadata": {},
   "outputs": [],
   "source": [
    "driver.get(\"https://www.google.co.kr/imghp?hl=ko&ogbl\")"
   ]
  },
  {
   "cell_type": "code",
   "execution_count": 4,
   "id": "7842fd0d",
   "metadata": {},
   "outputs": [
    {
     "name": "stderr",
     "output_type": "stream",
     "text": [
      "C:\\Users\\Kosmo\\AppData\\Local\\Temp\\ipykernel_13028\\161193515.py:2: DeprecationWarning: executable_path has been deprecated, please pass in a Service object\n",
      "  driver = webdriver.Chrome(path)\n"
     ]
    }
   ],
   "source": [
    "path = \"d:/bij/python/chromedriver.exe\"\n",
    "driver = webdriver.Chrome(path)\n",
    "url = \"https://www.google.co.kr/imghp?hl=ko&ogbl\"\n",
    "driver.get(url)"
   ]
  },
  {
   "cell_type": "code",
   "execution_count": 4,
   "id": "426f7c72",
   "metadata": {},
   "outputs": [],
   "source": [
    "# 검색어 입력\n",
    "search = driver.find_element(\"name\", \"q\")\n",
    "search.send_keys(\"iu\")\n",
    "search.send_keys(Keys.RETURN)"
   ]
  },
  {
   "cell_type": "code",
   "execution_count": 5,
   "id": "34453eb6",
   "metadata": {},
   "outputs": [],
   "source": [
    "# 이미지 찾기\n",
    "imgs = driver.find_elements(By.CLASS_NAME, 'rg_i.Q4LuWd')"
   ]
  },
  {
   "cell_type": "code",
   "execution_count": 6,
   "id": "e422eaa4",
   "metadata": {
    "scrolled": true
   },
   "outputs": [
    {
     "name": "stdout",
     "output_type": "stream",
     "text": [
      "<selenium.webdriver.remote.webelement.WebElement (session=\"b4cf473a18634a89f8aceb5c1eab1f84\", element=\"9e68a065-d91c-4e94-898e-96d6a6254ecf\")>\n"
     ]
    }
   ],
   "source": [
    "print(imgs[0])"
   ]
  },
  {
   "cell_type": "code",
   "execution_count": null,
   "id": "a2d37a3a",
   "metadata": {},
   "outputs": [],
   "source": [
    "# 이미지 다운로드\n",
    "for x in range(0, len(imgs)):\n",
    "    # 개별 이미지 클릭\n",
    "    img = imgs[x]\n",
    "    img.click()\n",
    "    time.sleep(3)\n",
    "\n",
    "    # 이미지 URL 찾기\n",
    "    try:\n",
    "        big_img = driver.find_element(By.CLASS_NAME, \"n3VNCb.KAlRDb\")\n",
    "        img_url = big_img.get_attribute(\"src\")\n",
    "        img_name = \"iu\" + str(x)\n",
    "        request.urlretrieve(img_url, \"d:/bij/python/download/\" + img_name + \".png\")\n",
    "    except:\n",
    "        pass"
   ]
  },
  {
   "cell_type": "code",
   "execution_count": 104,
   "id": "2a710f27",
   "metadata": {},
   "outputs": [],
   "source": [
    "last_height = driver.execute_script(\"return document.body.scrollHeight\")"
   ]
  },
  {
   "cell_type": "code",
   "execution_count": 105,
   "id": "4c49e3c9",
   "metadata": {},
   "outputs": [],
   "source": [
    "driver.execute_script(\"window.scrollTo(0, document.body.scrollHeight);\")"
   ]
  },
  {
   "cell_type": "code",
   "execution_count": 6,
   "id": "9950d453",
   "metadata": {},
   "outputs": [],
   "source": [
    "SCROLL_PAUSE_SEC = 1\n",
    "\n",
    "# 스크롤 높이 가져옴\n",
    "last_height = driver.execute_script(\"return document.body.scrollHeight\")\n",
    "\n",
    "while True:\n",
    "    # 끝까지 스크롤 다운\n",
    "    driver.execute_script(\"window.scrollTo(0, document.body.scrollHeight);\")\n",
    "\n",
    "    # 1초 대기\n",
    "    time.sleep(SCROLL_PAUSE_SEC)\n",
    "\n",
    "    # 스크롤 다운 후 스크롤 높이 다시 가져옴\n",
    "    new_height = driver.execute_script(\"return document.body.scrollHeight\")\n",
    "    if new_height == last_height:\n",
    "        break\n",
    "    last_height = new_height"
   ]
  },
  {
   "cell_type": "code",
   "execution_count": 6,
   "id": "d253e8a4",
   "metadata": {},
   "outputs": [],
   "source": [
    "more = driver.find_element(By.CSS_SELECTOR, '#islmp > div > div > div > div.gBPM8 > div.qvfT1 > div.YstHxe > input')"
   ]
  },
  {
   "cell_type": "code",
   "execution_count": 7,
   "id": "69051b02",
   "metadata": {
    "collapsed": true
   },
   "outputs": [
    {
     "ename": "ElementNotInteractableException",
     "evalue": "Message: element not interactable\n  (Session info: chrome=103.0.5060.134)\nStacktrace:\nBacktrace:\n\tOrdinal0 [0x00496463+2188387]\n\tOrdinal0 [0x0042E461+1762401]\n\tOrdinal0 [0x00343C40+801856]\n\tOrdinal0 [0x00372873+993395]\n\tOrdinal0 [0x00368613+951827]\n\tOrdinal0 [0x0038C7DC+1099740]\n\tOrdinal0 [0x00367FF4+950260]\n\tOrdinal0 [0x0038C9F4+1100276]\n\tOrdinal0 [0x0039CC22+1166370]\n\tOrdinal0 [0x0038C5F6+1099254]\n\tOrdinal0 [0x00366BE0+945120]\n\tOrdinal0 [0x00367AD6+948950]\n\tGetHandleVerifier [0x007371F2+2712546]\n\tGetHandleVerifier [0x0072886D+2652765]\n\tGetHandleVerifier [0x0052002A+520730]\n\tGetHandleVerifier [0x0051EE06+516086]\n\tOrdinal0 [0x0043468B+1787531]\n\tOrdinal0 [0x00438E88+1805960]\n\tOrdinal0 [0x00438F75+1806197]\n\tOrdinal0 [0x00441DF1+1842673]\n\tBaseThreadInitThunk [0x7703FA29+25]\n\tRtlGetAppContainerNamedObjectPath [0x776A7A9E+286]\n\tRtlGetAppContainerNamedObjectPath [0x776A7A6E+238]\n",
     "output_type": "error",
     "traceback": [
      "\u001b[1;31m---------------------------------------------------------------------------\u001b[0m",
      "\u001b[1;31mElementNotInteractableException\u001b[0m           Traceback (most recent call last)",
      "Input \u001b[1;32mIn [7]\u001b[0m, in \u001b[0;36m<cell line: 1>\u001b[1;34m()\u001b[0m\n\u001b[1;32m----> 1\u001b[0m \u001b[43mmore\u001b[49m\u001b[38;5;241;43m.\u001b[39;49m\u001b[43mclick\u001b[49m\u001b[43m(\u001b[49m\u001b[43m)\u001b[49m\n",
      "File \u001b[1;32mD:\\BIJ\\anaconda3\\envs\\env_pyadvanced\\lib\\site-packages\\selenium\\webdriver\\remote\\webelement.py:88\u001b[0m, in \u001b[0;36mWebElement.click\u001b[1;34m(self)\u001b[0m\n\u001b[0;32m     86\u001b[0m \u001b[38;5;28;01mdef\u001b[39;00m \u001b[38;5;21mclick\u001b[39m(\u001b[38;5;28mself\u001b[39m) \u001b[38;5;241m-\u001b[39m\u001b[38;5;241m>\u001b[39m \u001b[38;5;28;01mNone\u001b[39;00m:\n\u001b[0;32m     87\u001b[0m     \u001b[38;5;124;03m\"\"\"Clicks the element.\"\"\"\u001b[39;00m\n\u001b[1;32m---> 88\u001b[0m     \u001b[38;5;28;43mself\u001b[39;49m\u001b[38;5;241;43m.\u001b[39;49m\u001b[43m_execute\u001b[49m\u001b[43m(\u001b[49m\u001b[43mCommand\u001b[49m\u001b[38;5;241;43m.\u001b[39;49m\u001b[43mCLICK_ELEMENT\u001b[49m\u001b[43m)\u001b[49m\n",
      "File \u001b[1;32mD:\\BIJ\\anaconda3\\envs\\env_pyadvanced\\lib\\site-packages\\selenium\\webdriver\\remote\\webelement.py:396\u001b[0m, in \u001b[0;36mWebElement._execute\u001b[1;34m(self, command, params)\u001b[0m\n\u001b[0;32m    394\u001b[0m     params \u001b[38;5;241m=\u001b[39m {}\n\u001b[0;32m    395\u001b[0m params[\u001b[38;5;124m'\u001b[39m\u001b[38;5;124mid\u001b[39m\u001b[38;5;124m'\u001b[39m] \u001b[38;5;241m=\u001b[39m \u001b[38;5;28mself\u001b[39m\u001b[38;5;241m.\u001b[39m_id\n\u001b[1;32m--> 396\u001b[0m \u001b[38;5;28;01mreturn\u001b[39;00m \u001b[38;5;28;43mself\u001b[39;49m\u001b[38;5;241;43m.\u001b[39;49m\u001b[43m_parent\u001b[49m\u001b[38;5;241;43m.\u001b[39;49m\u001b[43mexecute\u001b[49m\u001b[43m(\u001b[49m\u001b[43mcommand\u001b[49m\u001b[43m,\u001b[49m\u001b[43m \u001b[49m\u001b[43mparams\u001b[49m\u001b[43m)\u001b[49m\n",
      "File \u001b[1;32mD:\\BIJ\\anaconda3\\envs\\env_pyadvanced\\lib\\site-packages\\selenium\\webdriver\\remote\\webdriver.py:435\u001b[0m, in \u001b[0;36mWebDriver.execute\u001b[1;34m(self, driver_command, params)\u001b[0m\n\u001b[0;32m    433\u001b[0m response \u001b[38;5;241m=\u001b[39m \u001b[38;5;28mself\u001b[39m\u001b[38;5;241m.\u001b[39mcommand_executor\u001b[38;5;241m.\u001b[39mexecute(driver_command, params)\n\u001b[0;32m    434\u001b[0m \u001b[38;5;28;01mif\u001b[39;00m response:\n\u001b[1;32m--> 435\u001b[0m     \u001b[38;5;28;43mself\u001b[39;49m\u001b[38;5;241;43m.\u001b[39;49m\u001b[43merror_handler\u001b[49m\u001b[38;5;241;43m.\u001b[39;49m\u001b[43mcheck_response\u001b[49m\u001b[43m(\u001b[49m\u001b[43mresponse\u001b[49m\u001b[43m)\u001b[49m\n\u001b[0;32m    436\u001b[0m     response[\u001b[38;5;124m'\u001b[39m\u001b[38;5;124mvalue\u001b[39m\u001b[38;5;124m'\u001b[39m] \u001b[38;5;241m=\u001b[39m \u001b[38;5;28mself\u001b[39m\u001b[38;5;241m.\u001b[39m_unwrap_value(\n\u001b[0;32m    437\u001b[0m         response\u001b[38;5;241m.\u001b[39mget(\u001b[38;5;124m'\u001b[39m\u001b[38;5;124mvalue\u001b[39m\u001b[38;5;124m'\u001b[39m, \u001b[38;5;28;01mNone\u001b[39;00m))\n\u001b[0;32m    438\u001b[0m     \u001b[38;5;28;01mreturn\u001b[39;00m response\n",
      "File \u001b[1;32mD:\\BIJ\\anaconda3\\envs\\env_pyadvanced\\lib\\site-packages\\selenium\\webdriver\\remote\\errorhandler.py:247\u001b[0m, in \u001b[0;36mErrorHandler.check_response\u001b[1;34m(self, response)\u001b[0m\n\u001b[0;32m    245\u001b[0m         alert_text \u001b[38;5;241m=\u001b[39m value[\u001b[38;5;124m'\u001b[39m\u001b[38;5;124malert\u001b[39m\u001b[38;5;124m'\u001b[39m]\u001b[38;5;241m.\u001b[39mget(\u001b[38;5;124m'\u001b[39m\u001b[38;5;124mtext\u001b[39m\u001b[38;5;124m'\u001b[39m)\n\u001b[0;32m    246\u001b[0m     \u001b[38;5;28;01mraise\u001b[39;00m exception_class(message, screen, stacktrace, alert_text)  \u001b[38;5;66;03m# type: ignore[call-arg]  # mypy is not smart enough here\u001b[39;00m\n\u001b[1;32m--> 247\u001b[0m \u001b[38;5;28;01mraise\u001b[39;00m exception_class(message, screen, stacktrace)\n",
      "\u001b[1;31mElementNotInteractableException\u001b[0m: Message: element not interactable\n  (Session info: chrome=103.0.5060.134)\nStacktrace:\nBacktrace:\n\tOrdinal0 [0x00496463+2188387]\n\tOrdinal0 [0x0042E461+1762401]\n\tOrdinal0 [0x00343C40+801856]\n\tOrdinal0 [0x00372873+993395]\n\tOrdinal0 [0x00368613+951827]\n\tOrdinal0 [0x0038C7DC+1099740]\n\tOrdinal0 [0x00367FF4+950260]\n\tOrdinal0 [0x0038C9F4+1100276]\n\tOrdinal0 [0x0039CC22+1166370]\n\tOrdinal0 [0x0038C5F6+1099254]\n\tOrdinal0 [0x00366BE0+945120]\n\tOrdinal0 [0x00367AD6+948950]\n\tGetHandleVerifier [0x007371F2+2712546]\n\tGetHandleVerifier [0x0072886D+2652765]\n\tGetHandleVerifier [0x0052002A+520730]\n\tGetHandleVerifier [0x0051EE06+516086]\n\tOrdinal0 [0x0043468B+1787531]\n\tOrdinal0 [0x00438E88+1805960]\n\tOrdinal0 [0x00438F75+1806197]\n\tOrdinal0 [0x00441DF1+1842673]\n\tBaseThreadInitThunk [0x7703FA29+25]\n\tRtlGetAppContainerNamedObjectPath [0x776A7A9E+286]\n\tRtlGetAppContainerNamedObjectPath [0x776A7A6E+238]\n"
     ]
    }
   ],
   "source": [
    "more.click()"
   ]
  },
  {
   "cell_type": "code",
   "execution_count": 28,
   "id": "807c2a1f",
   "metadata": {},
   "outputs": [],
   "source": [
    "end = driver.find_element(By.CSS_SELECTOR, '#islmp > div > div > div > div.gBPM8 > div.qvfT1 > div.DwpMZe > div.K25wae > div.OuJzKb.Yu2Dnd > div')"
   ]
  },
  {
   "cell_type": "code",
   "execution_count": 35,
   "id": "1beb16f3",
   "metadata": {
    "scrolled": true
   },
   "outputs": [
    {
     "name": "stdout",
     "output_type": "stream",
     "text": [
      "더 이상 표시할 콘텐츠가 없습니다.\n"
     ]
    }
   ],
   "source": [
    "print(end.text)"
   ]
  },
  {
   "cell_type": "code",
   "execution_count": null,
   "id": "ea36b992",
   "metadata": {},
   "outputs": [],
   "source": [
    "driver.find_elements()"
   ]
  }
 ],
 "metadata": {
  "kernelspec": {
   "display_name": "Python 3 (ipykernel)",
   "language": "python",
   "name": "python3"
  },
  "language_info": {
   "codemirror_mode": {
    "name": "ipython",
    "version": 3
   },
   "file_extension": ".py",
   "mimetype": "text/x-python",
   "name": "python",
   "nbconvert_exporter": "python",
   "pygments_lexer": "ipython3",
   "version": "3.10.4"
  }
 },
 "nbformat": 4,
 "nbformat_minor": 5
}
