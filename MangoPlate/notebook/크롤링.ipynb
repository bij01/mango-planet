{
 "cells": [
  {
   "cell_type": "code",
<<<<<<< HEAD
   "execution_count": 117,
=======
   "execution_count": 9,
>>>>>>> 57d61a74f78a71ba527e85251271093799ba68a9
   "id": "8d7a752d",
   "metadata": {
    "scrolled": true
   },
   "outputs": [],
   "source": [
    "import time\n",
    "\n",
    "from pymongo import mongo_client\n",
    "from selenium import webdriver\n",
    "from selenium.webdriver.common.by import By\n",
    "from selenium.webdriver.common.keys import Keys"
   ]
  },
  {
   "cell_type": "code",
<<<<<<< HEAD
   "execution_count": 118,
=======
   "execution_count": 10,
>>>>>>> 57d61a74f78a71ba527e85251271093799ba68a9
   "id": "f65de5c5",
   "metadata": {
    "scrolled": false
   },
   "outputs": [
    {
     "name": "stderr",
     "output_type": "stream",
     "text": [
      "C:\\Users\\User\\AppData\\Local\\Temp\\ipykernel_13408\\3530119859.py:2: DeprecationWarning: executable_path has been deprecated, please pass in a Service object\n",
      "  driver = webdriver.Chrome(path)\n"
     ]
    }
   ],
   "source": [
    "path = \"c:/python/chromedriver.exe\"\n",
    "driver = webdriver.Chrome(path)"
   ]
  },
  {
   "cell_type": "code",
<<<<<<< HEAD
   "execution_count": 119,
   "id": "1950857f",
=======
   "execution_count": 19,
   "id": "d4691971",
>>>>>>> 57d61a74f78a71ba527e85251271093799ba68a9
   "metadata": {},
   "outputs": [],
   "source": [
    "driver.get(\"https://www.mangoplate.com/restaurants/23yYn1YCt-HR\")"
   ]
  },
  {
   "cell_type": "code",
<<<<<<< HEAD
   "execution_count": 120,
   "id": "7842fd0d",
   "metadata": {
    "scrolled": true
   },
   "outputs": [
    {
     "name": "stderr",
     "output_type": "stream",
     "text": [
      "C:\\Users\\Kosmo\\AppData\\Local\\Temp\\ipykernel_4348\\161193515.py:2: DeprecationWarning: executable_path has been deprecated, please pass in a Service object\n",
      "  driver = webdriver.Chrome(path)\n"
     ]
    }
   ],
   "source": [
    "path = \"d:/bij/python/chromedriver.exe\"\n",
    "driver = webdriver.Chrome(path)\n",
    "url = \"https://www.google.co.kr/imghp?hl=ko&ogbl\"\n",
    "driver.get(url)"
   ]
  },
  {
   "cell_type": "code",
   "execution_count": 4,
   "id": "426f7c72",
=======
   "execution_count": 20,
   "id": "40c0061b",
>>>>>>> 57d61a74f78a71ba527e85251271093799ba68a9
   "metadata": {},
   "outputs": [],
   "source": [
    "name = driver.find_element(By.CLASS_NAME, \"restaurant_name\").text\n",
    "# print(restaurantname)\n",
    "\n",
    "# 전체(1), 맛있다(2), 괜찮다(3), 별로(4)\n",
    "def css_url(num):\n",
    "    selector = f\"body > main > article > div.column-wrapper > div.column-contents > div \" \\\n",
    "          f\"> section.RestaurantReviewList > header > ul > li:nth-child({num}) > button\"\n",
    "    return selector\n",
    "\n",
    "review_count = []\n",
    "# 리뷰 카운트(전체, 맛있다, 괜찮다, 별로)\n",
    "counts = driver.find_elements(By.CLASS_NAME, 'RestaurantReviewList__ReviewCount')\n",
    "for count in counts:\n",
    "    review_count.append(count.text)"
   ]
  },
  {
   "cell_type": "code",
   "execution_count": 21,
   "id": "ff347a29",
   "metadata": {},
   "outputs": [],
   "source": [
    "# 리뷰 카운트 리턴\n",
    "def count_review(num):\n",
    "    if review_count[int(num)-1] == 0:\n",
    "        return 0\n",
    "    else:\n",
    "        # 댓글 세부창 클릭\n",
    "        driver.find_element(By.CSS_SELECTOR, css_url(num)).send_keys(Keys.ENTER)\n",
    "        oldcount, newcount = -1, 0\n",
    "        # 더보기 클릭\n",
    "        while True:\n",
    "            try:\n",
    "                # 더보기 버튼 클릭 전 리뷰 갯수와 클릭 후 리뷰 갯수를 비교하여 두 값이 동일할 경우 버튼 클릭을 멈춤\n",
    "                if oldcount == newcount:\n",
    "                    break\n",
    "                else:\n",
    "                    reviews = driver.find_elements(By.CLASS_NAME, \"RestaurantReviewItem__ReviewText\")\n",
    "                    oldcount = len(reviews)\n",
    "                    btn = driver.find_element(By.CLASS_NAME, \"RestaurantReviewList__MoreReviewButton\")\n",
    "                    driver.execute_script(\"arguments[0].click();\", btn)\n",
    "                    time.sleep(1)\n",
    "                    reviews = driver.find_elements(By.CLASS_NAME, \"RestaurantReviewItem__ReviewText\")\n",
    "                    newcount = len(reviews)\n",
    "            except:\n",
    "                break\n",
    "        return newcount"
   ]
  },
  {
   "cell_type": "code",
   "execution_count": 54,
   "id": "0aeb43e2",
   "metadata": {},
   "outputs": [],
   "source": [
    "# 댓글 세부창 클릭\n",
    "driver.find_element(By.CSS_SELECTOR, css_url(\"2\")).send_keys(Keys.ENTER)\n",
    "oldcount, newcount = -1, 0\n",
    "# 더보기 클릭\n",
    "while True:\n",
    "    try:\n",
    "        # 더보기 버튼 클릭 전 리뷰 갯수와 클릭 후 리뷰 갯수를 비교하여 두 값이 동일할 경우 버튼 클릭을 멈춤\n",
    "        if oldcount == newcount:\n",
    "            break\n",
    "        else:\n",
    "            reviews = driver.find_elements(By.CLASS_NAME, \"RestaurantReviewItem__ReviewText\")\n",
    "            oldcount = len(reviews)\n",
    "            btn = driver.find_element(By.CLASS_NAME, \"RestaurantReviewList__MoreReviewButton\")\n",
    "            driver.execute_script(\"arguments[0].click();\", btn)\n",
    "            time.sleep(1)\n",
    "            reviews = driver.find_elements(By.CLASS_NAME, \"RestaurantReviewItem__ReviewText\")\n",
    "            newcount = len(reviews)\n",
    "    except:\n",
    "        break"
   ]
  },
  {
   "cell_type": "code",
<<<<<<< HEAD
   "execution_count": 105,
   "id": "20591c50",
   "metadata": {},
   "outputs": [],
   "source": [
    "evaluation = \"6,900\""
   ]
  },
  {
   "cell_type": "code",
   "execution_count": 106,
   "id": "c23bf975",
   "metadata": {
    "scrolled": true
   },
   "outputs": [
    {
     "data": {
      "text/plain": [
       "'6900'"
      ]
     },
     "execution_count": 106,
     "metadata": {},
     "output_type": "execute_result"
    }
   ],
   "source": [
    "evaluation.replace(\",\", \"\")"
   ]
  },
  {
   "cell_type": "code",
   "execution_count": 79,
   "id": "9bc7ff03",
   "metadata": {},
   "outputs": [],
   "source": [
    "# 식당 데이터 수집"
   ]
  },
  {
   "cell_type": "code",
   "execution_count": 106,
   "id": "ebb718fb",
   "metadata": {},
   "outputs": [],
   "source": [
    "driver.get(\"https://www.mangoplate.com/restaurants/xov_RaVGvV46\")"
   ]
  },
  {
   "cell_type": "code",
   "execution_count": 107,
   "id": "f696a93b",
   "metadata": {},
   "outputs": [],
   "source": [
    "title = driver.find_element(By.CSS_SELECTOR, '.restaurant_name')"
   ]
  },
  {
   "cell_type": "code",
   "execution_count": 108,
   "id": "6013810a",
   "metadata": {},
   "outputs": [],
   "source": [
    "try:\n",
    "    star_review = driver.find_element(By.XPATH,\n",
    "                                           '/html/body/main/article/div[1]/div[1]/div/section[1]/header/div[1]/span/strong')\n",
    "    star = star_review.text\n",
    "except:\n",
    "    star = 0.0"
   ]
  },
  {
   "cell_type": "code",
   "execution_count": 109,
   "id": "bebbe6f4",
   "metadata": {},
   "outputs": [],
   "source": [
    "evaluation = driver.find_element(By.CSS_SELECTOR, '.cnt.favorite')"
   ]
  },
  {
   "cell_type": "code",
   "execution_count": 110,
   "id": "98a9e691",
   "metadata": {},
   "outputs": [],
   "source": [
    "info = driver.find_element(By.XPATH,\n",
    "                                    '/html/body/main/article/div[1]/div[1]/div/section[1]/table/tbody/tr[1]/td')"
   ]
  },
  {
   "cell_type": "code",
   "execution_count": 111,
   "id": "cea78e9a",
   "metadata": {},
   "outputs": [],
   "source": [
    "index = info.text.index('지')"
   ]
  },
  {
   "cell_type": "code",
   "execution_count": 112,
   "id": "32109d06",
   "metadata": {},
   "outputs": [],
   "source": [
    "telephone_number = driver.find_element(By.XPATH,\n",
    "                                                '/html/body/main/article/div[1]/div[1]/div/section[1]/table/tbody/tr[2]/td')"
   ]
  },
  {
   "cell_type": "code",
   "execution_count": 113,
   "id": "88342ebd",
   "metadata": {},
   "outputs": [],
   "source": [
    "price_range = driver.find_element(By.XPATH,\n",
    "                                           '/html/body/main/article/div[1]/div[1]/div/section[1]/table/tbody/tr[4]/td')"
   ]
  },
  {
   "cell_type": "code",
   "execution_count": 114,
   "id": "68399643",
   "metadata": {},
   "outputs": [],
   "source": [
    "try:\n",
    "    time.sleep(1)\n",
    "    menu = driver.find_element(By.CLASS_NAME, 'menu_td')\n",
    "    menulist = menu.find_elements(By.CLASS_NAME, \"Restaurant_Menu\")\n",
    "    lista = []\n",
    "    for x in menulist:\n",
    "        # print(x.text)\n",
    "        lista.append(x.text)\n",
    "    pricelist = menu.find_elements(By.CLASS_NAME, \"Restaurant_MenuPrice\")\n",
    "    # print(len(menulist))\n",
    "\n",
    "    listb = []\n",
    "    for y in pricelist:\n",
    "        a = y.text.replace(',', '')\n",
    "        b = a.replace('원', '')\n",
    "        listb.append(b)\n",
    "    menudic = {}\n",
    "    for x in range(0, len(lista)):\n",
    "        k = lista[x]\n",
    "        v = listb[x]\n",
    "        menudic[k] = v\n",
    "    menu_dict = {\"name\": title.text, \"menu\": menudic}\n",
    "    # print(menu_dict)\n",
    "except:\n",
    "    menu_dict = {\"name\": title.text, \"menu\": {}}\n",
    "try:\n",
    "    info_list = [star, evaluation.text.replace(\",\", \"\"), info.text[0:index - 1],\n",
    "                 telephone_number.text,\n",
    "                 str(price_range.text)]\n",
    "    info_dict = {\"name\": title.text, \"info\": info_list}\n",
    "except:\n",
    "    info_dict = {\"name\": title.text, \"info\": []}"
   ]
  },
  {
   "cell_type": "code",
   "execution_count": 115,
   "id": "f4540225",
   "metadata": {
    "scrolled": true
   },
=======
   "execution_count": 42,
   "id": "ad6fdeac",
   "metadata": {},
>>>>>>> 57d61a74f78a71ba527e85251271093799ba68a9
   "outputs": [
    {
     "name": "stdout",
     "output_type": "stream",
     "text": [
<<<<<<< HEAD
      "{'name': '한길포장마차', 'menu': {'해산물모듬': '25000', '꼼장어': '15000', '새우전': '15000', '아나고': '18000', '닭발': '15000'}}\n"
=======
      "0\n"
>>>>>>> 57d61a74f78a71ba527e85251271093799ba68a9
     ]
    }
   ],
   "source": [
    "print(newcount)"
   ]
  },
  {
   "cell_type": "code",
<<<<<<< HEAD
   "execution_count": 116,
   "id": "631b3f38",
   "metadata": {
    "scrolled": false
   },
=======
   "execution_count": 50,
   "id": "cd0d2b02",
   "metadata": {},
   "outputs": [],
   "source": [
    "reviews = driver.find_elements(By.CLASS_NAME, \"RestaurantReviewItem__ReviewText\")\n",
    "oldcount = len(reviews)"
   ]
  },
  {
   "cell_type": "code",
   "execution_count": 51,
   "id": "a94c1f44",
   "metadata": {},
>>>>>>> 57d61a74f78a71ba527e85251271093799ba68a9
   "outputs": [
    {
     "name": "stdout",
     "output_type": "stream",
     "text": [
<<<<<<< HEAD
      "{'name': '한길포장마차', 'info': ['4.3', '578', '서울특별시 용산구 이촌로75길 16-9', '02-796-6162', '만원-2만원']}\n"
=======
      "0\n"
>>>>>>> 57d61a74f78a71ba527e85251271093799ba68a9
     ]
    }
   ],
   "source": [
    "print(oldcount)"
   ]
  },
  {
   "cell_type": "code",
   "execution_count": 22,
   "id": "116ff00c",
   "metadata": {},
   "outputs": [
    {
     "name": "stdout",
     "output_type": "stream",
     "text": [
      "0\n"
     ]
    }
   ],
   "source": [
    "total = count_review(\"1\")\n",
    "print(total)"
   ]
  },
  {
   "cell_type": "code",
   "execution_count": 121,
   "id": "918f55df",
   "metadata": {},
   "outputs": [],
   "source": [
    "# 리뷰크롤러"
   ]
  },
  {
   "cell_type": "code",
   "execution_count": 122,
   "id": "1a2860e9",
   "metadata": {},
   "outputs": [],
   "source": [
    "driver.get(\"https://www.mangoplate.com/restaurants/woOChljkSNyQ\")"
   ]
  },
  {
   "cell_type": "code",
   "execution_count": 126,
   "id": "7bb404b7",
   "metadata": {},
   "outputs": [],
   "source": [
    "driver.find_element(By.CSS_SELECTOR, \"body > main > article > div.column-wrapper > div.column-contents > div > section.RestaurantReviewList > header > ul > li:nth-child(3) > button\").send_keys(Keys.ENTER)"
   ]
  },
  {
   "cell_type": "code",
   "execution_count": 127,
   "id": "9fe221d6",
   "metadata": {},
   "outputs": [
    {
     "name": "stdout",
     "output_type": "stream",
     "text": [
      "<selenium.webdriver.remote.webelement.WebElement (session=\"24e965155b3eb18d733b3df1dc6f50db\", element=\"e6db42f9-e936-4a5e-b6f6-a56557f09907\")>\n"
     ]
    }
   ],
   "source": [
    "print(driver.find_element(By.CSS_SELECTOR, \"body > main > article > div.column-wrapper > div.column-contents > div > section.RestaurantReviewList > header > ul > li:nth-child(3) > button\"))"
   ]
  },
  {
   "cell_type": "code",
   "execution_count": null,
   "id": "de08e2c9",
   "metadata": {},
   "outputs": [],
   "source": []
  }
 ],
 "metadata": {
  "kernelspec": {
   "display_name": "Python 3 (ipykernel)",
   "language": "python",
   "name": "python3"
  },
  "language_info": {
   "codemirror_mode": {
    "name": "ipython",
    "version": 3
   },
   "file_extension": ".py",
   "mimetype": "text/x-python",
   "name": "python",
   "nbconvert_exporter": "python",
   "pygments_lexer": "ipython3",
   "version": "3.10.4"
  }
 },
 "nbformat": 4,
 "nbformat_minor": 5
}
