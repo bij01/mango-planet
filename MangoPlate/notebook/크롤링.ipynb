{
 "cells": [
  {
   "cell_type": "code",
   "execution_count": 9,
   "id": "8d7a752d",
   "metadata": {
    "scrolled": true
   },
   "outputs": [],
   "source": [
    "import time\n",
    "\n",
    "from pymongo import mongo_client\n",
    "from selenium import webdriver\n",
    "from selenium.webdriver.common.by import By\n",
    "from selenium.webdriver.common.keys import Keys"
   ]
  },
  {
   "cell_type": "code",
   "execution_count": 10,
   "id": "f65de5c5",
   "metadata": {
    "scrolled": false
   },
   "outputs": [
    {
     "name": "stderr",
     "output_type": "stream",
     "text": [
      "C:\\Users\\User\\AppData\\Local\\Temp\\ipykernel_13408\\3530119859.py:2: DeprecationWarning: executable_path has been deprecated, please pass in a Service object\n",
      "  driver = webdriver.Chrome(path)\n"
     ]
    }
   ],
   "source": [
    "path = \"c:/python/chromedriver.exe\"\n",
    "driver = webdriver.Chrome(path)"
   ]
  },
  {
   "cell_type": "code",
   "execution_count": 19,
   "id": "d4691971",
   "metadata": {},
   "outputs": [],
   "source": [
    "driver.get(\"https://www.mangoplate.com/restaurants/23yYn1YCt-HR\")"
   ]
  },
  {
   "cell_type": "code",
   "execution_count": 20,
   "id": "40c0061b",
   "metadata": {},
   "outputs": [],
   "source": [
    "name = driver.find_element(By.CLASS_NAME, \"restaurant_name\").text\n",
    "# print(restaurantname)\n",
    "\n",
    "# 전체(1), 맛있다(2), 괜찮다(3), 별로(4)\n",
    "def css_url(num):\n",
    "    selector = f\"body > main > article > div.column-wrapper > div.column-contents > div \" \\\n",
    "          f\"> section.RestaurantReviewList > header > ul > li:nth-child({num}) > button\"\n",
    "    return selector\n",
    "\n",
    "review_count = []\n",
    "# 리뷰 카운트(전체, 맛있다, 괜찮다, 별로)\n",
    "counts = driver.find_elements(By.CLASS_NAME, 'RestaurantReviewList__ReviewCount')\n",
    "for count in counts:\n",
    "    review_count.append(count.text)"
   ]
  },
  {
   "cell_type": "code",
   "execution_count": 21,
   "id": "ff347a29",
   "metadata": {},
   "outputs": [],
   "source": [
    "# 리뷰 카운트 리턴\n",
    "def count_review(num):\n",
    "    if review_count[int(num)-1] == 0:\n",
    "        return 0\n",
    "    else:\n",
    "        # 댓글 세부창 클릭\n",
    "        driver.find_element(By.CSS_SELECTOR, css_url(num)).send_keys(Keys.ENTER)\n",
    "        oldcount, newcount = -1, 0\n",
    "        # 더보기 클릭\n",
    "        while True:\n",
    "            try:\n",
    "                # 더보기 버튼 클릭 전 리뷰 갯수와 클릭 후 리뷰 갯수를 비교하여 두 값이 동일할 경우 버튼 클릭을 멈춤\n",
    "                if oldcount == newcount:\n",
    "                    break\n",
    "                else:\n",
    "                    reviews = driver.find_elements(By.CLASS_NAME, \"RestaurantReviewItem__ReviewText\")\n",
    "                    oldcount = len(reviews)\n",
    "                    btn = driver.find_element(By.CLASS_NAME, \"RestaurantReviewList__MoreReviewButton\")\n",
    "                    driver.execute_script(\"arguments[0].click();\", btn)\n",
    "                    time.sleep(1)\n",
    "                    reviews = driver.find_elements(By.CLASS_NAME, \"RestaurantReviewItem__ReviewText\")\n",
    "                    newcount = len(reviews)\n",
    "            except:\n",
    "                break\n",
    "        return newcount"
   ]
  },
  {
   "cell_type": "code",
   "execution_count": 54,
   "id": "0aeb43e2",
   "metadata": {},
   "outputs": [],
   "source": [
    "# 댓글 세부창 클릭\n",
    "driver.find_element(By.CSS_SELECTOR, css_url(\"2\")).send_keys(Keys.ENTER)\n",
    "oldcount, newcount = -1, 0\n",
    "# 더보기 클릭\n",
    "while True:\n",
    "    try:\n",
    "        # 더보기 버튼 클릭 전 리뷰 갯수와 클릭 후 리뷰 갯수를 비교하여 두 값이 동일할 경우 버튼 클릭을 멈춤\n",
    "        if oldcount == newcount:\n",
    "            break\n",
    "        else:\n",
    "            reviews = driver.find_elements(By.CLASS_NAME, \"RestaurantReviewItem__ReviewText\")\n",
    "            oldcount = len(reviews)\n",
    "            btn = driver.find_element(By.CLASS_NAME, \"RestaurantReviewList__MoreReviewButton\")\n",
    "            driver.execute_script(\"arguments[0].click();\", btn)\n",
    "            time.sleep(1)\n",
    "            reviews = driver.find_elements(By.CLASS_NAME, \"RestaurantReviewItem__ReviewText\")\n",
    "            newcount = len(reviews)\n",
    "    except:\n",
    "        break"
   ]
  },
  {
   "cell_type": "code",
   "execution_count": 42,
   "id": "ad6fdeac",
   "metadata": {},
   "outputs": [
    {
     "name": "stdout",
     "output_type": "stream",
     "text": [
      "0\n"
     ]
    }
   ],
   "source": [
    "print(newcount)"
   ]
  },
  {
   "cell_type": "code",
   "execution_count": 50,
   "id": "cd0d2b02",
   "metadata": {},
   "outputs": [],
   "source": [
    "reviews = driver.find_elements(By.CLASS_NAME, \"RestaurantReviewItem__ReviewText\")\n",
    "oldcount = len(reviews)"
   ]
  },
  {
   "cell_type": "code",
   "execution_count": 51,
   "id": "a94c1f44",
   "metadata": {},
   "outputs": [
    {
     "name": "stdout",
     "output_type": "stream",
     "text": [
      "0\n"
     ]
    }
   ],
   "source": [
    "print(oldcount)"
   ]
  },
  {
   "cell_type": "code",
   "execution_count": 22,
   "id": "116ff00c",
   "metadata": {},
   "outputs": [
    {
     "name": "stdout",
     "output_type": "stream",
     "text": [
      "0\n"
     ]
    }
   ],
   "source": [
    "total = count_review(\"1\")\n",
    "print(total)"
   ]
  }
 ],
 "metadata": {
  "kernelspec": {
   "display_name": "Python 3 (ipykernel)",
   "language": "python",
   "name": "python3"
  },
  "language_info": {
   "codemirror_mode": {
    "name": "ipython",
    "version": 3
   },
   "file_extension": ".py",
   "mimetype": "text/x-python",
   "name": "python",
   "nbconvert_exporter": "python",
   "pygments_lexer": "ipython3",
   "version": "3.10.4"
  }
 },
 "nbformat": 4,
 "nbformat_minor": 5
}
