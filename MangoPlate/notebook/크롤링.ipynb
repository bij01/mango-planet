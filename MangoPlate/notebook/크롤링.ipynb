{
 "cells": [
  {
   "cell_type": "code",
   "execution_count": 1,
   "id": "8d7a752d",
   "metadata": {
    "scrolled": true
   },
   "outputs": [],
   "source": [
    "import time\n",
    "\n",
    "from pymongo import mongo_client\n",
    "from selenium import webdriver\n",
    "from selenium.webdriver.common.by import By\n",
    "from selenium.webdriver.common.keys import Keys"
   ]
  },
  {
   "cell_type": "code",
   "execution_count": 3,
   "id": "f65de5c5",
   "metadata": {
    "scrolled": false
   },
   "outputs": [
    {
     "name": "stderr",
     "output_type": "stream",
     "text": [
      "C:\\Users\\User\\AppData\\Local\\Temp\\ipykernel_13408\\3530119859.py:2: DeprecationWarning: executable_path has been deprecated, please pass in a Service object\n",
      "  driver = webdriver.Chrome(path)\n"
     ]
    }
   ],
   "source": [
    "path = \"c:/python/chromedriver.exe\"\n",
    "driver = webdriver.Chrome(path)"
   ]
  },
  {
   "cell_type": "code",
   "execution_count": 4,
   "id": "d4691971",
   "metadata": {},
   "outputs": [],
   "source": [
    "driver.get(\"https://www.mangoplate.com/restaurants/a4y2VmPnMi\")"
   ]
  },
  {
   "cell_type": "code",
   "execution_count": 7,
   "id": "8c7ccc8a",
   "metadata": {},
   "outputs": [],
   "source": [
    "# 리뷰 카운트\n",
    "counts = driver.find_elements(By.CLASS_NAME, 'RestaurantReviewList__ReviewCount')"
   ]
  },
  {
   "cell_type": "code",
   "execution_count": 8,
   "id": "f14aed79",
   "metadata": {},
   "outputs": [
    {
     "name": "stdout",
     "output_type": "stream",
     "text": [
      "9\n",
      "8\n",
      "1\n",
      "0\n"
     ]
    }
   ],
   "source": [
    "for count in counts:\n",
    "    print(count.text)"
   ]
  }
 ],
 "metadata": {
  "kernelspec": {
   "display_name": "Python 3 (ipykernel)",
   "language": "python",
   "name": "python3"
  },
  "language_info": {
   "codemirror_mode": {
    "name": "ipython",
    "version": 3
   },
   "file_extension": ".py",
   "mimetype": "text/x-python",
   "name": "python",
   "nbconvert_exporter": "python",
   "pygments_lexer": "ipython3",
   "version": "3.10.4"
  }
 },
 "nbformat": 4,
 "nbformat_minor": 5
}
