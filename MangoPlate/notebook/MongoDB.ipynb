{
 "cells": [
  {
   "cell_type": "code",
   "execution_count": 3,
   "id": "103eb8df",
   "metadata": {
    "scrolled": true
   },
   "outputs": [],
   "source": [
    "from pymongo import mongo_client\n",
    "from matplotlib import pyplot as plt\n",
    "import pandas as pd\n",
    "import numpy as np\n",
    "import re"
   ]
  },
  {
   "cell_type": "code",
   "execution_count": 4,
   "id": "da37ac61",
   "metadata": {
    "scrolled": true
   },
   "outputs": [],
   "source": [
    "url = 'mongodb://192.168.0.138:27017'\n",
    "mgclient = mongo_client.MongoClient(url)"
   ]
  },
  {
   "cell_type": "code",
   "execution_count": 5,
   "id": "b53cd9d4",
   "metadata": {},
   "outputs": [],
   "source": [
    "db = mgclient[\"restaurants\"]\n",
    "col1 = db[\"link_list\"]\n",
    "col2 = db[\"res_list\"]\n",
    "col3 = db[\"info_list\"]\n",
    "col4 = db[\"menu_list\"]\n",
    "col5 = db[\"review_info_list\"]\n",
    "col6 = db[\"review_list\"]"
   ]
  },
  {
   "cell_type": "code",
   "execution_count": 6,
   "id": "3445a590",
   "metadata": {},
   "outputs": [],
   "source": [
    "def return_name_list():\n",
    "    # 데이터 체크 및 리스트화\n",
    "    name = []\n",
    "    name_len = []\n",
    "    for data in col2.find():\n",
    "        for k, v in data.items():\n",
    "            if k == \"name\":\n",
    "                name.append(v)\n",
    "                name_len.append(len(v))\n",
    "            \n",
    "    # 리스트 초기화\n",
    "    namelist = []\n",
    "    \n",
    "    # 영어제외 12글자 이상 식당 이름 리스트화\n",
    "    reg = re.compile(r'[a-zA-Z]')\n",
    "    for x in range(0, len(name)):\n",
    "        if name_len[x] >= 12:\n",
    "            if reg.findall(name[x]):\n",
    "                pass\n",
    "            else:\n",
    "                if name[x].find(\"휴업중\") != -1:\n",
    "                    pass\n",
    "                else:\n",
    "                    namelist.append(str(len(name[x]))+\",\"+name[x])\n",
    "    # 내림차순 정렬\n",
    "    namelist.sort(reverse=True)\n",
    "    \n",
    "    # 오름차순 정렬\n",
    "    namelist2 = []\n",
    "    # 이름, 길이 리스트 추가\n",
    "    for x in range(0, 5):\n",
    "        namelist2.append(namelist[x])\n",
    "        \n",
    "    namelist2.sort()\n",
    "    # 이름, 길이 리스트 초기화\n",
    "    nlist = []\n",
    "    lenlist = []\n",
    "    for x in range(0, 5):\n",
    "        nlist.append(namelist2[x].split(\",\")[1])\n",
    "        lenlist.append(int(namelist2[x].split(\",\")[0]))\n",
    "    return nlist, lenlist"
   ]
  },
  {
   "cell_type": "code",
   "execution_count": 7,
   "id": "3f4ba2fb",
   "metadata": {
    "scrolled": true
   },
   "outputs": [],
   "source": [
    "nlist, lenlist = return_name_list()"
   ]
  },
  {
   "cell_type": "code",
   "execution_count": 8,
   "id": "ba13ac8a",
   "metadata": {
    "scrolled": true
   },
   "outputs": [
    {
     "name": "stdout",
     "output_type": "stream",
     "text": [
      "['대관령메밀막국수자연샤브샤브', '한라산아래첫마을영농조합법인', '비플레이트 바이 브라운브레드', '부부요리단1탄 제주흑돼지갑오징어', '플레이그라운드 브루어리 탭룸 송도']\n",
      "[14, 14, 15, 17, 18]\n"
     ]
    }
   ],
   "source": [
    "print(nlist)\n",
    "print(lenlist)"
   ]
  },
  {
   "cell_type": "code",
   "execution_count": 9,
   "id": "ab24e23d",
   "metadata": {},
   "outputs": [],
   "source": [
    "from matplotlib import rc\n",
    "from matplotlib import font_manager\n",
    "\n",
    "f_path = \"C:/windows/Fonts/malgun.ttf\"\n",
    "font_manager.FontProperties(fname=f_path).get_name()\n",
    "rc('font', family='Malgun Gothic', size=10)"
   ]
  },
  {
   "cell_type": "code",
   "execution_count": 10,
   "id": "ce41e853",
   "metadata": {},
   "outputs": [],
   "source": [
    "y = np.arange(5)"
   ]
  },
  {
   "cell_type": "code",
   "execution_count": 11,
   "id": "a10d599c",
   "metadata": {},
   "outputs": [],
   "source": [
    "xlist = [0, 5, 10, 15, 20]"
   ]
  },
  {
   "cell_type": "code",
   "execution_count": 20,
   "id": "7adda83f",
   "metadata": {},
   "outputs": [],
   "source": [
    "colors = ['red', 'orange', 'purple', 'blue', 'green']"
   ]
  },
  {
   "cell_type": "code",
   "execution_count": 21,
   "id": "7e20c6ec",
   "metadata": {
    "scrolled": true
   },
   "outputs": [
    {
     "data": {
      "image/png": "[encoded data removed]",
      "text/plain": [
       "<Figure size 432x288 with 1 Axes>"
      ]
     },
     "metadata": {
      "needs_background": "light"
     },
     "output_type": "display_data"
    }
   ],
   "source": [
    "plt.yticks(y, nlist)\n",
    "plt.xticks(xlist)\n",
    "plt.barh(y, lenlist, height=0.6, color=colors, edgecolor='black')\n",
    "plt.title(\"식당 이름 길이\")\n",
    "plt.tight_layout()\n",
    "plt.savefig('resname.png', dpi=300, facecolor=\"#FFFFFF\")"
   ]
  },
  {
   "cell_type": "code",
   "execution_count": 129,
   "id": "e4b9b24a",
   "metadata": {},
   "outputs": [],
   "source": [
    "plt.show()"
   ]
  },
  {
   "cell_type": "code",
   "execution_count": 136,
   "id": "4ddcee2d",
   "metadata": {},
   "outputs": [
    {
     "data": {
      "text/plain": [
       "<Figure size 432x288 with 0 Axes>"
      ]
     },
     "metadata": {},
     "output_type": "display_data"
    }
   ],
   "source": []
  }
 ],
 "metadata": {
  "kernelspec": {
   "display_name": "Python 3 (ipykernel)",
   "language": "python",
   "name": "python3"
  },
  "language_info": {
   "codemirror_mode": {
    "name": "ipython",
    "version": 3
   },
   "file_extension": ".py",
   "mimetype": "text/x-python",
   "name": "python",
   "nbconvert_exporter": "python",
   "pygments_lexer": "ipython3",
   "version": "3.9.6"
  }
 },
 "nbformat": 4,
 "nbformat_minor": 5
}
