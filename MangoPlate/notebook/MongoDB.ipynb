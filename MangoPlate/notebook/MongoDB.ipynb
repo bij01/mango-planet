{
 "cells": [
  {
   "cell_type": "code",
<<<<<<< HEAD
   "execution_count": 1,
=======
   "execution_count": 3,
>>>>>>> 57d61a74f78a71ba527e85251271093799ba68a9
   "id": "103eb8df",
   "metadata": {
    "scrolled": true
   },
   "outputs": [],
   "source": [
    "from pymongo import mongo_client\n",
    "from matplotlib import pyplot as plt\n",
    "import pandas as pd\n",
    "import numpy as np\n",
    "import re"
   ]
  },
  {
   "cell_type": "code",
<<<<<<< HEAD
   "execution_count": 2,
=======
   "execution_count": 4,
>>>>>>> 57d61a74f78a71ba527e85251271093799ba68a9
   "id": "da37ac61",
   "metadata": {
    "scrolled": true
   },
   "outputs": [],
   "source": [
    "url = 'mongodb://192.168.0.138:27017'\n",
    "mgclient = mongo_client.MongoClient(url)"
   ]
  },
  {
   "cell_type": "code",
<<<<<<< HEAD
   "execution_count": 3,
=======
   "execution_count": 5,
>>>>>>> 57d61a74f78a71ba527e85251271093799ba68a9
   "id": "b53cd9d4",
   "metadata": {},
   "outputs": [],
   "source": [
    "db = mgclient[\"restaurants\"]\n",
    "col1 = db[\"link_list\"]\n",
    "col2 = db[\"res_list\"]\n",
    "col3 = db[\"info_list\"]\n",
    "col4 = db[\"menu_list\"]\n",
    "col5 = db[\"review_info_list\"]\n",
    "col6 = db[\"review_list\"]"
   ]
  },
  {
   "cell_type": "code",
<<<<<<< HEAD
   "execution_count": 91,
=======
   "execution_count": 6,
>>>>>>> 57d61a74f78a71ba527e85251271093799ba68a9
   "id": "3445a590",
   "metadata": {},
   "outputs": [],
   "source": [
    "def return_name_list():\n",
    "    # 데이터 체크 및 리스트화\n",
    "    name = []\n",
    "    name_len = []\n",
    "    for data in col2.find():\n",
    "        for k, v in data.items():\n",
    "            if k == \"name\":\n",
    "                name.append(v)\n",
    "                name_len.append(len(v))\n",
    "            \n",
    "    # 리스트 초기화\n",
    "    namelist = []\n",
    "    \n",
    "    # 영어제외 12글자 이상 식당 이름 리스트화\n",
    "    reg = re.compile(r'[a-zA-Z]')\n",
    "    for x in range(0, len(name)):\n",
    "        if name_len[x] >= 12:\n",
    "            if reg.findall(name[x]):\n",
    "                pass\n",
    "            else:\n",
    "                if name[x].find(\"휴업중\") != -1:\n",
    "                    pass\n",
    "                else:\n",
    "                    namelist.append(str(len(name[x]))+\",\"+name[x])\n",
    "    # 내림차순 정렬\n",
    "    namelist.sort(reverse=True)\n",
    "    \n",
    "    # 오름차순 정렬\n",
    "    namelist2 = []\n",
    "    # 이름, 길이 리스트 추가\n",
    "    for x in range(0, 5):\n",
    "        namelist2.append(namelist[x])\n",
    "        \n",
    "    namelist2.sort()\n",
    "    # 이름, 길이 리스트 초기화\n",
    "    nlist = []\n",
    "    lenlist = []\n",
    "    for x in range(0, 5):\n",
    "        nlist.append(namelist2[x].split(\",\")[1])\n",
    "        lenlist.append(int(namelist2[x].split(\",\")[0]))\n",
    "    return nlist, lenlist"
   ]
  },
  {
   "cell_type": "code",
<<<<<<< HEAD
   "execution_count": 92,
=======
   "execution_count": 7,
>>>>>>> 57d61a74f78a71ba527e85251271093799ba68a9
   "id": "3f4ba2fb",
   "metadata": {
    "scrolled": true
   },
   "outputs": [],
   "source": [
    "nlist, lenlist = return_name_list()"
   ]
  },
  {
   "cell_type": "code",
<<<<<<< HEAD
   "execution_count": 93,
=======
   "execution_count": 8,
>>>>>>> 57d61a74f78a71ba527e85251271093799ba68a9
   "id": "ba13ac8a",
   "metadata": {
    "scrolled": true
   },
   "outputs": [
    {
     "name": "stdout",
     "output_type": "stream",
     "text": [
      "['대관령메밀막국수자연샤브샤브', '한라산아래첫마을영농조합법인', '비플레이트 바이 브라운브레드', '부부요리단1탄 제주흑돼지갑오징어', '플레이그라운드 브루어리 탭룸 송도']\n",
      "[14, 14, 15, 17, 18]\n"
     ]
    }
   ],
   "source": [
    "print(nlist)\n",
    "print(lenlist)"
   ]
  },
  {
   "cell_type": "code",
<<<<<<< HEAD
   "execution_count": 94,
=======
   "execution_count": 9,
>>>>>>> 57d61a74f78a71ba527e85251271093799ba68a9
   "id": "ab24e23d",
   "metadata": {},
   "outputs": [],
   "source": [
    "from matplotlib import rc\n",
    "from matplotlib import font_manager\n",
    "\n",
    "f_path = \"C:/windows/Fonts/malgun.ttf\"\n",
    "font_manager.FontProperties(fname=f_path).get_name()\n",
    "rc('font', family='Malgun Gothic', size=10)"
   ]
  },
  {
   "cell_type": "code",
<<<<<<< HEAD
   "execution_count": 95,
=======
   "execution_count": 10,
>>>>>>> 57d61a74f78a71ba527e85251271093799ba68a9
   "id": "ce41e853",
   "metadata": {},
   "outputs": [],
   "source": [
    "y = np.arange(5)"
   ]
  },
  {
   "cell_type": "code",
<<<<<<< HEAD
   "execution_count": 118,
=======
   "execution_count": 11,
>>>>>>> 57d61a74f78a71ba527e85251271093799ba68a9
   "id": "a10d599c",
   "metadata": {},
   "outputs": [],
   "source": [
    "xlist = [0, 5, 10, 15, 20]"
   ]
  },
  {
   "cell_type": "code",
<<<<<<< HEAD
   "execution_count": 146,
=======
   "execution_count": 20,
   "id": "7adda83f",
   "metadata": {},
   "outputs": [],
   "source": [
    "colors = ['red', 'orange', 'purple', 'blue', 'green']"
   ]
  },
  {
   "cell_type": "code",
   "execution_count": 21,
>>>>>>> 57d61a74f78a71ba527e85251271093799ba68a9
   "id": "7e20c6ec",
   "metadata": {
    "scrolled": true
   },
   "outputs": [
    {
     "data": {
<<<<<<< HEAD
      "image/png": "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\n",
=======
      "image/png": "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\n",
>>>>>>> 57d61a74f78a71ba527e85251271093799ba68a9
      "text/plain": [
       "<Figure size 432x288 with 1 Axes>"
      ]
     },
     "metadata": {
      "needs_background": "light"
     },
     "output_type": "display_data"
    }
   ],
   "source": [
    "plt.yticks(y, nlist)\n",
    "plt.xticks(xlist)\n",
<<<<<<< HEAD
    "plt.barh(y, lenlist, height=0.6)\n",
=======
    "plt.barh(y, lenlist, height=0.6, color=colors, edgecolor='black')\n",
>>>>>>> 57d61a74f78a71ba527e85251271093799ba68a9
    "plt.title(\"식당 이름 길이\")\n",
    "plt.tight_layout()\n",
    "plt.savefig('resname.png', dpi=300, facecolor=\"#FFFFFF\")"
   ]
  },
  {
   "cell_type": "code",
   "execution_count": 129,
   "id": "e4b9b24a",
   "metadata": {},
   "outputs": [],
   "source": [
    "plt.show()"
   ]
  },
  {
   "cell_type": "code",
   "execution_count": 136,
   "id": "4ddcee2d",
   "metadata": {},
   "outputs": [
    {
     "data": {
      "text/plain": [
       "<Figure size 432x288 with 0 Axes>"
      ]
     },
     "metadata": {},
     "output_type": "display_data"
    }
   ],
   "source": []
  }
 ],
 "metadata": {
  "kernelspec": {
   "display_name": "Python 3 (ipykernel)",
   "language": "python",
   "name": "python3"
  },
  "language_info": {
   "codemirror_mode": {
    "name": "ipython",
    "version": 3
   },
   "file_extension": ".py",
   "mimetype": "text/x-python",
   "name": "python",
   "nbconvert_exporter": "python",
   "pygments_lexer": "ipython3",
   "version": "3.10.4"
  }
 },
 "nbformat": 4,
 "nbformat_minor": 5
}
