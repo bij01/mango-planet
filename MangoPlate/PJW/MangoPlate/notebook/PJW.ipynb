{
 "cells": [
  {
   "cell_type": "code",
   "execution_count": 1,
   "id": "1d750fa1",
   "metadata": {},
   "outputs": [],
   "source": [
    "from selenium import webdriver"
   ]
  },
  {
   "cell_type": "code",
   "execution_count": 2,
   "id": "ac667e5f",
   "metadata": {},
   "outputs": [],
   "source": [
    "from selenium.webdriver.common.keys import Keys"
   ]
  },
  {
   "cell_type": "code",
   "execution_count": 3,
   "id": "b3672d93",
   "metadata": {},
   "outputs": [],
   "source": [
    "from selenium.webdriver.common.by import By"
   ]
  },
  {
   "cell_type": "code",
   "execution_count": 4,
   "id": "d8f66a49",
   "metadata": {},
   "outputs": [],
   "source": [
    "import requests"
   ]
  },
  {
   "cell_type": "code",
   "execution_count": 5,
   "id": "75f4f372",
   "metadata": {},
   "outputs": [],
   "source": [
    "import time"
   ]
  },
  {
   "cell_type": "code",
   "execution_count": 6,
   "id": "ac242e8d",
   "metadata": {},
   "outputs": [],
   "source": [
    "import os"
   ]
  },
  {
   "cell_type": "code",
   "execution_count": 7,
   "id": "7c8e5c31",
   "metadata": {},
   "outputs": [],
   "source": [
    "from urllib import request"
   ]
  },
  {
   "cell_type": "code",
   "execution_count": 8,
   "id": "80a71326",
   "metadata": {},
   "outputs": [],
   "source": [
    "from urllib.request import urlopen"
   ]
  },
  {
   "cell_type": "code",
   "execution_count": 9,
   "id": "ae95a50f",
   "metadata": {},
   "outputs": [],
   "source": [
    "from urllib.request import urlretrieve"
   ]
  },
  {
   "cell_type": "code",
   "execution_count": 10,
   "id": "5a673371",
   "metadata": {
    "scrolled": false
   },
   "outputs": [
    {
     "name": "stderr",
     "output_type": "stream",
     "text": [
      "C:\\Users\\Kosmo\\AppData\\Local\\Temp\\ipykernel_7440\\3639521465.py:2: DeprecationWarning: executable_path has been deprecated, please pass in a Service object\n",
      "  driver = webdriver.Chrome(path)\n"
     ]
    }
   ],
   "source": [
    "path = \"c:/python/chromedriver.exe\"\n",
    "driver = webdriver.Chrome(path)\n",
    "driver.implicitly_wait(3)\n",
    "url = \"https://www.mangoplate.com/top_lists/2820_kaisendon\"\n",
    "driver.get(url)"
   ]
  },
  {
   "cell_type": "code",
   "execution_count": 11,
   "id": "61ce16bd",
   "metadata": {},
   "outputs": [],
   "source": [
    "driver.get(url)"
   ]
  },
  {
   "cell_type": "code",
   "execution_count": 12,
   "id": "174b2eb9",
   "metadata": {},
   "outputs": [],
   "source": [
    "while True:\n",
    "    try:\n",
    "        more = driver.find_element(By.CLASS_NAME, \"more_btn\")\n",
    "        more.click()\n",
    "    except:\n",
    "        break"
   ]
  },
  {
   "cell_type": "code",
   "execution_count": 13,
   "id": "f5db8ba4",
   "metadata": {},
   "outputs": [],
   "source": [
    "info = driver.find_elements(By.CLASS_NAME, \"info\")\n",
    "#print(info)"
   ]
  },
  {
   "cell_type": "code",
   "execution_count": 14,
   "id": "617a34d5",
   "metadata": {
    "scrolled": true
   },
   "outputs": [
    {
     "name": "stdout",
     "output_type": "stream",
     "text": [
      "우미노미\n",
      "온정\n",
      "고급오복수산\n",
      "오복수산\n",
      "이이요\n",
      "스시산원 반주헌\n",
      "호별관\n",
      "히카루후\n",
      "렌야\n",
      "도요스6가\n",
      "하이쿠\n",
      "오롯\n",
      "기요한\n",
      "겨리\n",
      "키친31\n",
      "나지미돈부리\n",
      "우니도\n",
      "오늘의초밥\n",
      "다이호시\n",
      "훈우영\n",
      "서울동\n",
      "부센동\n",
      "청담돈\n",
      "스시 아오이\n",
      "스시산블루\n"
     ]
    }
   ],
   "source": [
    "i = -1\n",
    "\n",
    "for d in info:\n",
    "    try:\n",
    "        i = i+1\n",
    "        print(info[i].find_element(By.TAG_NAME, \"a\").text[3:].strip())\n",
    "    except:\n",
    "        break"
   ]
  },
  {
   "cell_type": "code",
   "execution_count": 16,
   "id": "1bd0eb55",
   "metadata": {},
   "outputs": [
    {
     "name": "stdout",
     "output_type": "stream",
     "text": [
      "[<selenium.webdriver.remote.webelement.WebElement (session=\"cc44c972ee7eb26f31f25b666b57822e\", element=\"a598534b-76dc-40d4-a378-43805ed74be7\")>, <selenium.webdriver.remote.webelement.WebElement (session=\"cc44c972ee7eb26f31f25b666b57822e\", element=\"cffb4a21-bd92-4b9d-8923-ec90cfc080c5\")>, <selenium.webdriver.remote.webelement.WebElement (session=\"cc44c972ee7eb26f31f25b666b57822e\", element=\"724e0c45-c0cf-42c2-b076-06e485dcd261\")>, <selenium.webdriver.remote.webelement.WebElement (session=\"cc44c972ee7eb26f31f25b666b57822e\", element=\"5154469c-6d36-4308-b388-0cbaf14b8c7e\")>, <selenium.webdriver.remote.webelement.WebElement (session=\"cc44c972ee7eb26f31f25b666b57822e\", element=\"5a1217e3-3d17-49b6-a9ca-75c007c134e3\")>, <selenium.webdriver.remote.webelement.WebElement (session=\"cc44c972ee7eb26f31f25b666b57822e\", element=\"ab2e3ea9-5f29-4539-b61a-b144e204862a\")>, <selenium.webdriver.remote.webelement.WebElement (session=\"cc44c972ee7eb26f31f25b666b57822e\", element=\"fcc4ac61-f73c-4c20-b4ac-190b5aa3c43e\")>, <selenium.webdriver.remote.webelement.WebElement (session=\"cc44c972ee7eb26f31f25b666b57822e\", element=\"b60b3cf9-c998-45a5-8c27-5643dd936672\")>, <selenium.webdriver.remote.webelement.WebElement (session=\"cc44c972ee7eb26f31f25b666b57822e\", element=\"e72c1bb5-adfa-43e7-8d36-f122a857ba02\")>, <selenium.webdriver.remote.webelement.WebElement (session=\"cc44c972ee7eb26f31f25b666b57822e\", element=\"4e525190-2a8a-4ba3-97ac-7f24c33ad635\")>, <selenium.webdriver.remote.webelement.WebElement (session=\"cc44c972ee7eb26f31f25b666b57822e\", element=\"365655d0-a6f2-4fb3-a107-b25224195281\")>, <selenium.webdriver.remote.webelement.WebElement (session=\"cc44c972ee7eb26f31f25b666b57822e\", element=\"4de88fde-b4c8-4ff1-a910-b64b6e5deb2b\")>, <selenium.webdriver.remote.webelement.WebElement (session=\"cc44c972ee7eb26f31f25b666b57822e\", element=\"c4127d24-17cf-4082-a1e0-6b6ec331d955\")>, <selenium.webdriver.remote.webelement.WebElement (session=\"cc44c972ee7eb26f31f25b666b57822e\", element=\"6ce403fc-2c13-48a2-843a-dd7c74540819\")>, <selenium.webdriver.remote.webelement.WebElement (session=\"cc44c972ee7eb26f31f25b666b57822e\", element=\"c27ba01b-3d9c-44e6-a3b8-4a70854bf9be\")>, <selenium.webdriver.remote.webelement.WebElement (session=\"cc44c972ee7eb26f31f25b666b57822e\", element=\"3edcddd5-98cf-4728-9c80-979e4906de6a\")>, <selenium.webdriver.remote.webelement.WebElement (session=\"cc44c972ee7eb26f31f25b666b57822e\", element=\"1a613bae-7f4a-4184-80dd-0f2ee39ca837\")>, <selenium.webdriver.remote.webelement.WebElement (session=\"cc44c972ee7eb26f31f25b666b57822e\", element=\"b3e393ef-aaf2-411a-a323-6f99d0d476f7\")>, <selenium.webdriver.remote.webelement.WebElement (session=\"cc44c972ee7eb26f31f25b666b57822e\", element=\"3500c0c7-8088-4a4a-b88a-0ea37b19452a\")>, <selenium.webdriver.remote.webelement.WebElement (session=\"cc44c972ee7eb26f31f25b666b57822e\", element=\"8e7957a6-6748-46b1-9d6e-abc9de3b5460\")>, <selenium.webdriver.remote.webelement.WebElement (session=\"cc44c972ee7eb26f31f25b666b57822e\", element=\"7382b700-24c6-45c5-bd17-f160c938577a\")>, <selenium.webdriver.remote.webelement.WebElement (session=\"cc44c972ee7eb26f31f25b666b57822e\", element=\"b87a3afd-bddf-4ff2-b8d0-231142bc05ef\")>, <selenium.webdriver.remote.webelement.WebElement (session=\"cc44c972ee7eb26f31f25b666b57822e\", element=\"a27c5e93-fab1-47ef-95e7-2926dd8a290b\")>, <selenium.webdriver.remote.webelement.WebElement (session=\"cc44c972ee7eb26f31f25b666b57822e\", element=\"9dfd6f5e-bb33-455f-b35e-2d60c4fcdd9b\")>, <selenium.webdriver.remote.webelement.WebElement (session=\"cc44c972ee7eb26f31f25b666b57822e\", element=\"3c0415b0-e903-47a2-9d61-905ead0f9ffc\")>, <selenium.webdriver.remote.webelement.WebElement (session=\"cc44c972ee7eb26f31f25b666b57822e\", element=\"f7b835dc-69dd-4a36-8838-0fd7dfba71a4\")>, <selenium.webdriver.remote.webelement.WebElement (session=\"cc44c972ee7eb26f31f25b666b57822e\", element=\"4a9b2a42-6b02-44a6-80bd-562046cc64ed\")>, <selenium.webdriver.remote.webelement.WebElement (session=\"cc44c972ee7eb26f31f25b666b57822e\", element=\"c150b898-7c5e-4e30-b2f0-2f4d50dad62f\")>, <selenium.webdriver.remote.webelement.WebElement (session=\"cc44c972ee7eb26f31f25b666b57822e\", element=\"1d65eb55-67cd-4a92-b96f-5ae8afef332f\")>]\n"
     ]
    }
   ],
   "source": [
    "imgs = driver.find_elements(By.CLASS_NAME, \"center-croping.lazy\")\n",
    "print(imgs)"
   ]
  },
  {
   "cell_type": "code",
   "execution_count": 17,
   "id": "6d7102ef",
   "metadata": {},
   "outputs": [
    {
     "name": "stdout",
     "output_type": "stream",
     "text": [
      "29\n"
     ]
    }
   ],
   "source": [
    "print(len(imgs))"
   ]
  },
  {
   "cell_type": "code",
   "execution_count": 18,
   "id": "b6b10d13",
   "metadata": {},
   "outputs": [
    {
     "name": "stdout",
     "output_type": "stream",
     "text": [
      "https://mp-seoul-image-production-s3.mangoplate.com/42185_1653992306484069.jpg?fit=around|738:738&crop=738:738;*,*&output-format=jpg&output-quality=80\n"
     ]
    }
   ],
   "source": [
    "print(imgs[0].get_attribute(\"src\"))"
   ]
  },
  {
   "cell_type": "code",
   "execution_count": 19,
   "id": "a7df730d",
   "metadata": {
    "scrolled": true
   },
   "outputs": [
    {
     "name": "stdout",
     "output_type": "stream",
     "text": [
      "https://mp-seoul-image-production-s3.mangoplate.com/42185_1653992306484069.jpg?fit=around|738:738&crop=738:738;*,*&output-format=jpg&output-quality=80\n",
      "https://mp-seoul-image-production-s3.mangoplate.com/503918_1605628841882649.jpg?fit=around|738:738&crop=738:738;*,*&output-format=jpg&output-quality=80\n",
      "https://mp-seoul-image-production-s3.mangoplate.com/2178805_1650779250101436.jpg?fit=around|738:738&crop=738:738;*,*&output-format=jpg&output-quality=80\n",
      "data:image/png;base64,iVBORw0KGgoAAAANSUhEUgAAAAEAAAABCAYAAAAfFcSJAAAAAXNSR0IArs4c6QAAAARnQU1BAACxjwv8YQUAAAAJcEhZcwAADsQAAA7EAZUrDhsAAAANSURBVBhXYzh8+PB/AAffA0nNPuCLAAAAAElFTkSuQmCC\n",
      "data:image/png;base64,iVBORw0KGgoAAAANSUhEUgAAAAEAAAABCAYAAAAfFcSJAAAAAXNSR0IArs4c6QAAAARnQU1BAACxjwv8YQUAAAAJcEhZcwAADsQAAA7EAZUrDhsAAAANSURBVBhXYzh8+PB/AAffA0nNPuCLAAAAAElFTkSuQmCC\n",
      "data:image/png;base64,iVBORw0KGgoAAAANSUhEUgAAAAEAAAABCAYAAAAfFcSJAAAAAXNSR0IArs4c6QAAAARnQU1BAACxjwv8YQUAAAAJcEhZcwAADsQAAA7EAZUrDhsAAAANSURBVBhXYzh8+PB/AAffA0nNPuCLAAAAAElFTkSuQmCC\n",
      "https://mp-seoul-image-production-s3.mangoplate.com/457338/318595_1655332959934_5288?fit=around|738:738&crop=738:738;*,*&output-format=jpg&output-quality=80\n",
      "https://mp-seoul-image-production-s3.mangoplate.com/984138_1633883018332785.jpg?fit=around|738:738&crop=738:738;*,*&output-format=jpg&output-quality=80\n",
      "https://mp-seoul-image-production-s3.mangoplate.com/1214190_1643940768620953.jpg?fit=around|738:738&crop=738:738;*,*&output-format=jpg&output-quality=80\n",
      "https://mp-seoul-image-production-s3.mangoplate.com/390316/1423683_1653749352163_1653749343487.jpg?fit=around|738:738&crop=738:738;*,*&output-format=jpg&output-quality=80\n",
      "https://mp-seoul-image-production-s3.mangoplate.com/1074584_1610308295996720.jpg?fit=around|738:738&crop=738:738;*,*&output-format=jpg&output-quality=80\n",
      "data:image/png;base64,iVBORw0KGgoAAAANSUhEUgAAAAEAAAABCAYAAAAfFcSJAAAAAXNSR0IArs4c6QAAAARnQU1BAACxjwv8YQUAAAAJcEhZcwAADsQAAA7EAZUrDhsAAAANSURBVBhXYzh8+PB/AAffA0nNPuCLAAAAAElFTkSuQmCC\n",
      "data:image/png;base64,iVBORw0KGgoAAAANSUhEUgAAAAEAAAABCAYAAAAfFcSJAAAAAXNSR0IArs4c6QAAAARnQU1BAACxjwv8YQUAAAAJcEhZcwAADsQAAA7EAZUrDhsAAAANSURBVBhXYzh8+PB/AAffA0nNPuCLAAAAAElFTkSuQmCC\n",
      "data:image/png;base64,iVBORw0KGgoAAAANSUhEUgAAAAEAAAABCAYAAAAfFcSJAAAAAXNSR0IArs4c6QAAAARnQU1BAACxjwv8YQUAAAAJcEhZcwAADsQAAA7EAZUrDhsAAAANSURBVBhXYzh8+PB/AAffA0nNPuCLAAAAAElFTkSuQmCC\n",
      "data:image/png;base64,iVBORw0KGgoAAAANSUhEUgAAAAEAAAABCAYAAAAfFcSJAAAAAXNSR0IArs4c6QAAAARnQU1BAACxjwv8YQUAAAAJcEhZcwAADsQAAA7EAZUrDhsAAAANSURBVBhXYzh8+PB/AAffA0nNPuCLAAAAAElFTkSuQmCC\n",
      "data:image/png;base64,iVBORw0KGgoAAAANSUhEUgAAAAEAAAABCAYAAAAfFcSJAAAAAXNSR0IArs4c6QAAAARnQU1BAACxjwv8YQUAAAAJcEhZcwAADsQAAA7EAZUrDhsAAAANSURBVBhXYzh8+PB/AAffA0nNPuCLAAAAAElFTkSuQmCC\n",
      "https://mp-seoul-image-production-s3.mangoplate.com/1704015_1631455122797826.jpg?fit=around|738:738&crop=738:738;*,*&output-format=jpg&output-quality=80\n",
      "https://mp-seoul-image-production-s3.mangoplate.com/405962/2015985_1649083991468_5778?fit=around|738:738&crop=738:738;*,*&output-format=jpg&output-quality=80\n",
      "https://mp-seoul-image-production-s3.mangoplate.com/47875_1636789320917168.jpg?fit=around|738:738&crop=738:738;*,*&output-format=jpg&output-quality=80\n",
      "https://mp-seoul-image-production-s3.mangoplate.com/458120/743008_1621849786071_45433?fit=around|738:738&crop=738:738;*,*&output-format=jpg&output-quality=80\n",
      "https://mp-seoul-image-production-s3.mangoplate.com/sources/web/restaurants/347481/894765_1621164465297?fit=around|738:738&crop=738:738;*,*&output-format=jpg&output-quality=80\n",
      "data:image/png;base64,iVBORw0KGgoAAAANSUhEUgAAAAEAAAABCAYAAAAfFcSJAAAAAXNSR0IArs4c6QAAAARnQU1BAACxjwv8YQUAAAAJcEhZcwAADsQAAA7EAZUrDhsAAAANSURBVBhXYzh8+PB/AAffA0nNPuCLAAAAAElFTkSuQmCC\n",
      "data:image/png;base64,iVBORw0KGgoAAAANSUhEUgAAAAEAAAABCAYAAAAfFcSJAAAAAXNSR0IArs4c6QAAAARnQU1BAACxjwv8YQUAAAAJcEhZcwAADsQAAA7EAZUrDhsAAAANSURBVBhXYzh8+PB/AAffA0nNPuCLAAAAAElFTkSuQmCC\n",
      "data:image/png;base64,iVBORw0KGgoAAAANSUhEUgAAAAEAAAABCAYAAAAfFcSJAAAAAXNSR0IArs4c6QAAAARnQU1BAACxjwv8YQUAAAAJcEhZcwAADsQAAA7EAZUrDhsAAAANSURBVBhXYzh8+PB/AAffA0nNPuCLAAAAAElFTkSuQmCC\n",
      "data:image/png;base64,iVBORw0KGgoAAAANSUhEUgAAAAEAAAABCAYAAAAfFcSJAAAAAXNSR0IArs4c6QAAAARnQU1BAACxjwv8YQUAAAAJcEhZcwAADsQAAA7EAZUrDhsAAAANSURBVBhXYzh8+PB/AAffA0nNPuCLAAAAAElFTkSuQmCC\n",
      "data:image/png;base64,iVBORw0KGgoAAAANSUhEUgAAAAEAAAABCAYAAAAfFcSJAAAAAXNSR0IArs4c6QAAAARnQU1BAACxjwv8YQUAAAAJcEhZcwAADsQAAA7EAZUrDhsAAAANSURBVBhXYzh8+PB/AAffA0nNPuCLAAAAAElFTkSuQmCC\n",
      "data:image/png;base64,iVBORw0KGgoAAAANSUhEUgAAAAEAAAABCAYAAAAfFcSJAAAAAXNSR0IArs4c6QAAAARnQU1BAACxjwv8YQUAAAAJcEhZcwAADsQAAA7EAZUrDhsAAAANSURBVBhXYzh8+PB/AAffA0nNPuCLAAAAAElFTkSuQmCC\n",
      "data:image/png;base64,iVBORw0KGgoAAAANSUhEUgAAAAEAAAABCAYAAAAfFcSJAAAAAXNSR0IArs4c6QAAAARnQU1BAACxjwv8YQUAAAAJcEhZcwAADsQAAA7EAZUrDhsAAAANSURBVBhXYzh8+PB/AAffA0nNPuCLAAAAAElFTkSuQmCC\n",
      "data:image/png;base64,iVBORw0KGgoAAAANSUhEUgAAAAEAAAABCAYAAAAfFcSJAAAAAXNSR0IArs4c6QAAAARnQU1BAACxjwv8YQUAAAAJcEhZcwAADsQAAA7EAZUrDhsAAAANSURBVBhXYzh8+PB/AAffA0nNPuCLAAAAAElFTkSuQmCC\n"
     ]
    }
   ],
   "source": [
    "for img in imgs:\n",
    "    print(img.get_attribute(\"src\"))"
   ]
  },
  {
   "cell_type": "code",
   "execution_count": 24,
   "id": "2aa8b5f0",
   "metadata": {},
   "outputs": [
    {
     "name": "stdout",
     "output_type": "stream",
     "text": [
      "113\n"
     ]
    }
   ],
   "source": [
    "text = 113\n",
    "print(str(text)[0:3])"
   ]
  },
  {
   "cell_type": "code",
   "execution_count": 25,
   "id": "33d76bae",
   "metadata": {},
   "outputs": [],
   "source": [
    "lastnum = 0"
   ]
  },
  {
   "cell_type": "code",
   "execution_count": 26,
   "id": "6922f652",
   "metadata": {},
   "outputs": [],
   "source": [
    "items = driver.find_elements(By.CLASS_NAME, \"restaurant-item\")"
   ]
  },
  {
   "cell_type": "code",
   "execution_count": 27,
   "id": "ba60d1d2",
   "metadata": {
    "scrolled": false
   },
   "outputs": [
    {
     "name": "stdout",
     "output_type": "stream",
     "text": [
      "1. 우미노미 https://mp-seoul-image-production-s3.mangoplate.com/42185_1653992306484069.jpg?fit=around|738:738&crop=738:738;*,*&output-format=jpg&output-quality=80\n",
      "2. 온정 https://mp-seoul-image-production-s3.mangoplate.com/503918_1605628841882649.jpg?fit=around|738:738&crop=738:738;*,*&output-format=jpg&output-quality=80\n",
      "3. 고급오복수산 https://mp-seoul-image-production-s3.mangoplate.com/2178805_1650779250101436.jpg?fit=around|738:738&crop=738:738;*,*&output-format=jpg&output-quality=80\n",
      "4. 오복수산 https://mp-seoul-image-production-s3.mangoplate.com/984722_1641280713299258.jpg?fit=around|738:738&crop=738:738;*,*&output-format=jpg&output-quality=80\n",
      "5. 이이요 https://mp-seoul-image-production-s3.mangoplate.com/1704015_1611244076560328.jpg?fit=around|738:738&crop=738:738;*,*&output-format=jpg&output-quality=80\n",
      "6. 스시산원 반주헌 https://mp-seoul-image-production-s3.mangoplate.com/47875_1646609234830465.jpg?fit=around|738:738&crop=738:738;*,*&output-format=jpg&output-quality=80\n",
      "7. 호별관 https://mp-seoul-image-production-s3.mangoplate.com/457338/318595_1655332959934_5288?fit=around|738:738&crop=738:738;*,*&output-format=jpg&output-quality=80\n",
      "8. 히카루후 https://mp-seoul-image-production-s3.mangoplate.com/984138_1633883018332785.jpg?fit=around|738:738&crop=738:738;*,*&output-format=jpg&output-quality=80\n",
      "9. 렌야 https://mp-seoul-image-production-s3.mangoplate.com/1214190_1643940768620953.jpg?fit=around|738:738&crop=738:738;*,*&output-format=jpg&output-quality=80\n",
      "10. 도요스6가 https://mp-seoul-image-production-s3.mangoplate.com/390316/1423683_1653749352163_1653749343487.jpg?fit=around|738:738&crop=738:738;*,*&output-format=jpg&output-quality=80\n",
      "11. 하이쿠 https://mp-seoul-image-production-s3.mangoplate.com/1074584_1610308295996720.jpg?fit=around|738:738&crop=738:738;*,*&output-format=jpg&output-quality=80\n",
      "12. 오롯 https://mp-seoul-image-production-s3.mangoplate.com/1544807_1657384056739528.jpg?fit=around|738:738&crop=738:738;*,*&output-format=jpg&output-quality=80\n",
      "13. 기요한 https://mp-seoul-image-production-s3.mangoplate.com/408509/45556_1643622110864_8190?fit=around|738:738&crop=738:738;*,*&output-format=jpg&output-quality=80\n",
      "14. 겨리 https://mp-seoul-image-production-s3.mangoplate.com/1968189_1628397151361737.jpg?fit=around|738:738&crop=738:738;*,*&output-format=jpg&output-quality=80\n",
      "15. 키친31 https://mp-seoul-image-production-s3.mangoplate.com/224009/1186779_1639913176768_598?fit=around|738:738&crop=738:738;*,*&output-format=jpg&output-quality=80\n",
      "16. 나지미돈부리 https://mp-seoul-image-production-s3.mangoplate.com/276815/747073_1569144308311_79234?fit=around|738:738&crop=738:738;*,*&output-format=jpg&output-quality=80\n",
      "17. 우니도 https://mp-seoul-image-production-s3.mangoplate.com/1704015_1631455122797826.jpg?fit=around|738:738&crop=738:738;*,*&output-format=jpg&output-quality=80\n",
      "18. 오늘의초밥 https://mp-seoul-image-production-s3.mangoplate.com/405962/2015985_1649083991468_5778?fit=around|738:738&crop=738:738;*,*&output-format=jpg&output-quality=80\n",
      "19. 다이호시 https://mp-seoul-image-production-s3.mangoplate.com/47875_1636789320917168.jpg?fit=around|738:738&crop=738:738;*,*&output-format=jpg&output-quality=80\n",
      "20. 훈우영 https://mp-seoul-image-production-s3.mangoplate.com/458120/743008_1621849786071_45433?fit=around|738:738&crop=738:738;*,*&output-format=jpg&output-quality=80\n",
      "21. 서울동 https://mp-seoul-image-production-s3.mangoplate.com/sources/web/restaurants/347481/894765_1621164465297?fit=around|738:738&crop=738:738;*,*&output-format=jpg&output-quality=80\n",
      "22. 부센동 https://mp-seoul-image-production-s3.mangoplate.com/413828/571675_1605511847641_32202?fit=around|738:738&crop=738:738;*,*&output-format=jpg&output-quality=80\n",
      "23. 청담돈 https://mp-seoul-image-production-s3.mangoplate.com/413654/158101_1656341825625_20185?fit=around|738:738&crop=738:738;*,*&output-format=jpg&output-quality=80\n",
      "24. 스시 아오이 https://mp-seoul-image-production-s3.mangoplate.com/984138_1637369893943236.jpg?fit=around|738:738&crop=738:738;*,*&output-format=jpg&output-quality=80\n",
      "25. 스시산블루 https://mp-seoul-image-production-s3.mangoplate.com/414288/1536664_1611408756707_13632?fit=around|738:738&crop=738:738;*,*&output-format=jpg&output-quality=80\n"
     ]
    }
   ],
   "source": [
    "for item in items:\n",
    "    text = item.find_element(By.CLASS_NAME, \"title \").text\n",
    "    imglink = item.find_element(By.TAG_NAME, \"img\").get_attribute(\"data-original\")\n",
    "    #print(text)\n",
    "    #print(text[0])\n",
    "    try:\n",
    "        int(text[0])\n",
    "        lastnum += 1\n",
    "        print(text, imglink)\n",
    "    except:\n",
    "        pass"
   ]
  },
  {
   "cell_type": "code",
   "execution_count": 28,
   "id": "c48f2e85",
   "metadata": {},
   "outputs": [
    {
     "name": "stdout",
     "output_type": "stream",
     "text": [
      "25\n"
     ]
    }
   ],
   "source": [
    "print(lastnum)"
   ]
  },
  {
   "cell_type": "code",
   "execution_count": 29,
   "id": "4f4efef6",
   "metadata": {
    "scrolled": true
   },
   "outputs": [
    {
     "name": "stdout",
     "output_type": "stream",
     "text": [
      "https://www.mangoplate.com/restaurants/LGXola8pgdAC\n",
      "https://www.mangoplate.com/restaurants/LMC_eb29aE68\n",
      "https://www.mangoplate.com/restaurants/IMSca3mwKRMp\n",
      "https://www.mangoplate.com/restaurants/MuP_lze1DtYJ\n",
      "https://www.mangoplate.com/restaurants/lmV7-IPVgD3m\n",
      "https://www.mangoplate.com/restaurants/LAdeR2S_gOHB\n",
      "https://www.mangoplate.com/restaurants/4MRu9Jsi1dxk\n",
      "https://www.mangoplate.com/restaurants/TBKRAhEoYj1E\n",
      "https://www.mangoplate.com/restaurants/jBslH88WziaA\n",
      "https://www.mangoplate.com/restaurants/57TuVVpqv8CO\n",
      "https://www.mangoplate.com/restaurants/WKDGrPaBZhdD\n",
      "https://www.mangoplate.com/restaurants/wu4AOoJxr3jv\n",
      "https://www.mangoplate.com/restaurants/kH3gxbMD0N0n\n",
      "https://www.mangoplate.com/restaurants/JU9Y6M3-vYDb\n",
      "https://www.mangoplate.com/restaurants/ulKeg0GOcc\n",
      "https://www.mangoplate.com/restaurants/lm8D8C6Uj8Dz\n",
      "https://www.mangoplate.com/restaurants/eRMxqGu3VZh4\n",
      "https://www.mangoplate.com/restaurants/XtoUWBHKT6wT\n",
      "https://www.mangoplate.com/restaurants/hmBWoKAjLMMe\n",
      "https://www.mangoplate.com/restaurants/tUjtRhw5Jv1n\n",
      "https://www.mangoplate.com/restaurants/J2A5prN2fcRX\n",
      "https://www.mangoplate.com/restaurants/t6uImGbfzRuA\n",
      "https://www.mangoplate.com/restaurants/bpbrx2HLMI3d\n",
      "https://www.mangoplate.com/restaurants/OyswC64ThCng\n",
      "https://www.mangoplate.com/restaurants/s41RKP9V6LEx\n"
     ]
    }
   ],
   "source": [
    "for x in range(1, int(lastnum)+1):\n",
    "    link = driver.find_elements(By.XPATH, '//*[@id=\"contents_list\"]/ul/li['+str(x)+']/div/figure/figcaption/div/span/a')\n",
    "    for y in link:\n",
    "        href = y.get_attribute('href')\n",
    "        print(href)"
   ]
  },
  {
   "cell_type": "code",
   "execution_count": 31,
   "id": "873face9",
   "metadata": {},
   "outputs": [
    {
     "name": "stdout",
     "output_type": "stream",
     "text": [
      "폴더 생성 완료\n"
     ]
    }
   ],
   "source": [
    "if not os.path.isdir(\"C:/Users/Kosmo/Desktop/git/team5/NaverReview/imgs\"):\n",
    "    print(\"폴더 생성 완료\")\n",
    "    os.mkdir(\"C:/Users/Kosmo/Desktop/git/team5/NaverReview/imgs\")\n",
    "else:\n",
    "    print(\"동일한 폴더 존재\")\n",
    "\n"
   ]
  },
  {
   "cell_type": "code",
   "execution_count": null,
   "id": "8e740526",
   "metadata": {},
   "outputs": [],
   "source": []
  }
 ],
 "metadata": {
  "kernelspec": {
   "display_name": "Python 3 (ipykernel)",
   "language": "python",
   "name": "python3"
  },
  "language_info": {
   "codemirror_mode": {
    "name": "ipython",
    "version": 3
   },
   "file_extension": ".py",
   "mimetype": "text/x-python",
   "name": "python",
   "nbconvert_exporter": "python",
   "pygments_lexer": "ipython3",
   "version": "3.9.12"
  }
 },
 "nbformat": 4,
 "nbformat_minor": 5
}
