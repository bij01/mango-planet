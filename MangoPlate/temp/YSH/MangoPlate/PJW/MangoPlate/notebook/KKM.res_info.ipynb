{
 "cells": [
  {
   "cell_type": "code",
   "execution_count": 380,
   "id": "4d20dfa9",
   "metadata": {},
   "outputs": [],
   "source": [
    "from urllib import request\n",
    "from selenium import webdriver\n",
    "from selenium.webdriver.common.keys import Keys\n",
    "from selenium.webdriver.common.by import By\n",
    "from selenium.common.exceptions import NoSuchElementException\n",
    "import time\n"
   ]
  },
  {
   "cell_type": "code",
   "execution_count": 381,
   "id": "34e242c4",
   "metadata": {
    "scrolled": true
   },
   "outputs": [
    {
     "name": "stderr",
     "output_type": "stream",
     "text": [
      "C:\\Users\\Kosmo\\AppData\\Local\\Temp\\ipykernel_9252\\2781599717.py:2: DeprecationWarning: executable_path has been deprecated, please pass in a Service object\n",
      "  driver = webdriver.Chrome(path)\n"
     ]
    }
   ],
   "source": [
    "path = \"c:/python/chromedriver.exe\"\n",
    "driver = webdriver.Chrome(path)\n",
    "driver.implicitly_wait(3)\n",
    "url = \"https://www.mangoplate.com/restaurants/gL8RksQTNk\"\n",
    "driver.get(url)"
   ]
  },
  {
   "cell_type": "code",
   "execution_count": 382,
   "id": "655e45f5",
   "metadata": {},
   "outputs": [],
   "source": [
    "title = driver.find_element(By.CSS_SELECTOR, '.restaurant_name')"
   ]
  },
  {
   "cell_type": "code",
   "execution_count": 383,
   "id": "79345d8d",
   "metadata": {},
   "outputs": [
    {
     "name": "stdout",
     "output_type": "stream",
     "text": [
      "보니스피자펍\n"
     ]
    }
   ],
   "source": [
    "print(title.text)"
   ]
  },
  {
   "cell_type": "code",
   "execution_count": 384,
   "id": "852e3885",
   "metadata": {},
   "outputs": [],
   "source": [
    "star_rivew = driver.find_element(By.XPATH, '/html/body/main/article/div[1]/div[1]/div/section[1]/header/div[1]/span/strong')"
   ]
  },
  {
   "cell_type": "code",
   "execution_count": 385,
   "id": "1bd60be4",
   "metadata": {},
   "outputs": [
    {
     "name": "stdout",
     "output_type": "stream",
     "text": [
      "4.4\n"
     ]
    }
   ],
   "source": [
    "print(star_rivew.text)"
   ]
  },
  {
   "cell_type": "code",
   "execution_count": 386,
   "id": "2dd28a08",
   "metadata": {},
   "outputs": [],
   "source": [
    "evaluation = driver.find_element(By.CSS_SELECTOR, '.cnt.favorite')"
   ]
  },
  {
   "cell_type": "code",
   "execution_count": 387,
   "id": "4bb351b5",
   "metadata": {},
   "outputs": [
    {
     "name": "stdout",
     "output_type": "stream",
     "text": [
      "11,743\n"
     ]
    }
   ],
   "source": [
    "print(evaluation.text)"
   ]
  },
  {
   "cell_type": "code",
   "execution_count": 525,
   "id": "607b9ff5",
   "metadata": {},
   "outputs": [],
   "source": [
    "info = driver.find_element(By.XPATH,'/html/body/main/article/div[1]/div[1]/div/section[1]/table/tbody/tr[1]/td')"
   ]
  },
  {
   "cell_type": "code",
   "execution_count": 526,
   "id": "5bd19cb1",
   "metadata": {},
   "outputs": [],
   "source": [
    "index = info.text.index('지')"
   ]
  },
  {
   "cell_type": "code",
   "execution_count": 527,
   "id": "f8a672c5",
   "metadata": {
    "scrolled": true
   },
   "outputs": [
    {
     "name": "stdout",
     "output_type": "stream",
     "text": [
      "서울특별시 용산구 신흥로3길 2\n"
     ]
    }
   ],
   "source": [
    "print(info.text[0:index-1])"
   ]
  },
  {
   "cell_type": "code",
   "execution_count": 391,
   "id": "794463c3",
   "metadata": {},
   "outputs": [],
   "source": [
    "telephone_number = driver.find_element(By.XPATH, '/html/body/main/article/div[1]/div[1]/div/section[1]/table/tbody/tr[2]/td')"
   ]
  },
  {
   "cell_type": "code",
   "execution_count": 392,
   "id": "b556b52a",
   "metadata": {},
   "outputs": [
    {
     "name": "stdout",
     "output_type": "stream",
     "text": [
      "02-792-0303\n"
     ]
    }
   ],
   "source": [
    "print(telephone_number.text)"
   ]
  },
  {
   "cell_type": "code",
   "execution_count": 393,
   "id": "862fba31",
   "metadata": {},
   "outputs": [],
   "source": [
    "Types_of_food = driver.find_element(By.XPATH, '/html/body/main/article/div[1]/div[1]/div/section[1]/table/tbody/tr[3]/td')"
   ]
  },
  {
   "cell_type": "code",
   "execution_count": 394,
   "id": "f2e32afb",
   "metadata": {},
   "outputs": [
    {
     "name": "stdout",
     "output_type": "stream",
     "text": [
      "기타 양식\n"
     ]
    }
   ],
   "source": [
    "print(Types_of_food.text)"
   ]
  },
  {
   "cell_type": "code",
   "execution_count": 501,
   "id": "9c8807d5",
   "metadata": {},
   "outputs": [],
   "source": [
    "price_range = driver.find_element(By.XPATH, '/html/body/main/article/div[1]/div[1]/div/section[1]/table/tbody/tr[4]/td')"
   ]
  },
  {
   "cell_type": "code",
   "execution_count": 502,
   "id": "4979f055",
   "metadata": {},
   "outputs": [
    {
     "name": "stdout",
     "output_type": "stream",
     "text": [
      "만원-2만원\n"
     ]
    }
   ],
   "source": [
    "print(price_range.text)"
   ]
  },
  {
   "cell_type": "code",
   "execution_count": 397,
   "id": "2b21f571",
   "metadata": {},
   "outputs": [
    {
     "name": "stdout",
     "output_type": "stream",
     "text": [
      "로토루아치즈(Party)\n",
      "23,000원\n",
      "페퍼로니 (Party)\n",
      "23,000원\n",
      "하와이안 (Party)\n",
      "23,000원\n",
      "스파이시치킨 (Party)\n",
      "23,000원\n",
      "베지유토피아 (Party)\n",
      "23,000원\n"
     ]
    }
   ],
   "source": [
    "try:\n",
    "    time.sleep(3)\n",
    "    meun = driver.find_element(By.CLASS_NAME, 'menu_td')\n",
    "    if meun.text != None:\n",
    "        print(meun.text)\n",
    "    else:\n",
    "        pass\n",
    "except NoSuchElementException as ns:\n",
    "    print(\"메뉴가 없습니다.\")\n",
    "    #가공할때 메뉴가 없으면 None이 채워지게 하기"
   ]
  },
  {
   "cell_type": "code",
   "execution_count": 412,
   "id": "ffcb61da",
   "metadata": {},
   "outputs": [
    {
     "name": "stdout",
     "output_type": "stream",
     "text": [
      "5\n"
     ]
    }
   ],
   "source": [
    "menulist = meun.find_elements(By.CLASS_NAME, \"Restaurant_Menu\")\n",
    "pricelist = meun.find_elements(By.CLASS_NAME, \"Restaurant_MenuPrice\")\n",
    "print(len(menulist))"
   ]
  },
  {
   "cell_type": "code",
   "execution_count": 475,
   "id": "4047cfd2",
   "metadata": {},
   "outputs": [
    {
     "name": "stdout",
     "output_type": "stream",
     "text": [
      "로토루아치즈(Party)\n",
      "페퍼로니 (Party)\n",
      "하와이안 (Party)\n",
      "스파이시치킨 (Party)\n",
      "베지유토피아 (Party)\n"
     ]
    }
   ],
   "source": [
    "lista = []\n",
    "for x in menulist:\n",
    "    print(x.text)\n",
    "    lista.append(x.text)"
   ]
  },
  {
   "cell_type": "code",
   "execution_count": 553,
   "id": "b214a449",
   "metadata": {},
   "outputs": [
    {
     "name": "stdout",
     "output_type": "stream",
     "text": [
      "['23000', '23000', '23000', '23000', '23000']\n"
     ]
    }
   ],
   "source": [
    "listb = []\n",
    "for y in pricelist:\n",
    "    a = y.text.replace(',','')\n",
    "    b = a.replace('원','')\n",
    "    listb.append(b)\n",
    "print(listb)"
   ]
  },
  {
   "cell_type": "code",
   "execution_count": 477,
   "id": "3b866b03",
   "metadata": {},
   "outputs": [
    {
     "name": "stdout",
     "output_type": "stream",
     "text": [
      "5\n"
     ]
    }
   ],
   "source": [
    "print(len(lista))"
   ]
  },
  {
   "cell_type": "code",
   "execution_count": 478,
   "id": "fa4463c1",
   "metadata": {
    "scrolled": true
   },
   "outputs": [
    {
     "name": "stdout",
     "output_type": "stream",
     "text": [
      "['로토루아치즈(Party)', '페퍼로니 (Party)', '하와이안 (Party)', '스파이시치킨 (Party)', '베지유토피아 (Party)']\n"
     ]
    }
   ],
   "source": [
    "print(lista)"
   ]
  },
  {
   "cell_type": "code",
   "execution_count": 575,
   "id": "798be31d",
   "metadata": {},
   "outputs": [],
   "source": [
    "dic= {title:{}}"
   ]
  },
  {
   "cell_type": "code",
   "execution_count": 604,
   "id": "1c0adb68",
   "metadata": {
    "scrolled": true
   },
   "outputs": [],
   "source": [
    "for x in range(0, len(lista)):\n",
    "    k = lista[x]\n",
    "    v = listb[x]\n",
    "    dic[title][k] = v\n",
    "    dic[title][v] = k"
   ]
  },
  {
   "cell_type": "code",
   "execution_count": 608,
   "id": "d4137e0e",
   "metadata": {
    "scrolled": true
   },
   "outputs": [
    {
     "name": "stdout",
     "output_type": "stream",
     "text": [
      "<class 'dict'>\n",
      "23000\n",
      "23000\n",
      "None\n"
     ]
    }
   ],
   "source": [
    "print(type(dic))\n",
    "print(dic.get(title).get(\"로토루아치즈(Party)\"))"
   ]
  },
  {
   "cell_type": "code",
   "execution_count": 580,
   "id": "b55cc03a",
   "metadata": {},
   "outputs": [
    {
     "name": "stdout",
     "output_type": "stream",
     "text": [
      "{<selenium.webdriver.remote.webelement.WebElement (session=\"cfda5aab6edff5c38a5c6c9c562d8d00\", element=\"af0910aa-98e9-41a9-9993-b393a53f2af1\")>: {'로토루아치즈(Party)': '23000', '페퍼로니 (Party)': '23000', '하와이안 (Party)': '23000', '스파이시치킨 (Party)': '23000', '베지유토피아 (Party)': '23000'}}\n"
     ]
    }
   ],
   "source": [
    "print(dic)"
   ]
  },
  {
   "cell_type": "code",
   "execution_count": null,
   "id": "07ee886d",
   "metadata": {},
   "outputs": [],
   "source": [
    "#menu_list = {\"식당이름\":{\"메뉴1\":가격(int), \"메뉴2\":가격(int), \"메뉴3\":가격(int)}, ...]}"
   ]
  },
  {
   "cell_type": "code",
   "execution_count": 530,
   "id": "14d53796",
   "metadata": {
    "scrolled": false
   },
   "outputs": [
    {
     "name": "stdout",
     "output_type": "stream",
     "text": [
      "{'보니스피자펍': ['별점: 4.4', '별점갯수: 11,743', '주소: 서울특별시 용산구 신흥로3길 2', '전화번호:02-792-0303', '가격대:만원-2만원']}\n"
     ]
    }
   ],
   "source": [
    "infolist = [\"별점: \"+star_rivew.text+\"\",\"별점갯수: \"+evaluation.text+\"\",\"주소: \"+info.text[0:index-1]+\"\",\"전화번호:\"+telephone_number.text+\"\",\"가격대:\"+str(price_range.text)+\"\"]\n",
    "#print(infolist)\n",
    "info_list = {title.text:infolist}\n",
    "print(info_list)\n"
   ]
  },
  {
   "cell_type": "code",
   "execution_count": null,
   "id": "c4249ed5",
   "metadata": {},
   "outputs": [],
   "source": []
  },
  {
   "cell_type": "code",
   "execution_count": 610,
   "id": "72bb25a5",
   "metadata": {},
   "outputs": [],
   "source": [
    "menu_list = {title.text:{k:v}}"
   ]
  },
  {
   "cell_type": "code",
   "execution_count": 614,
   "id": "d7762cd1",
   "metadata": {},
   "outputs": [
    {
     "name": "stdout",
     "output_type": "stream",
     "text": [
      "{'보니스피자펍': {'베지유토피아 (Party)': '23000'}}\n"
     ]
    }
   ],
   "source": [
    "print(menu_list)"
   ]
  }
 ],
 "metadata": {
  "kernelspec": {
   "display_name": "Python 3 (ipykernel)",
   "language": "python",
   "name": "python3"
  },
  "language_info": {
   "codemirror_mode": {
    "name": "ipython",
    "version": 3
   },
   "file_extension": ".py",
   "mimetype": "text/x-python",
   "name": "python",
   "nbconvert_exporter": "python",
   "pygments_lexer": "ipython3",
   "version": "3.10.4"
  }
 },
 "nbformat": 4,
 "nbformat_minor": 5
}
