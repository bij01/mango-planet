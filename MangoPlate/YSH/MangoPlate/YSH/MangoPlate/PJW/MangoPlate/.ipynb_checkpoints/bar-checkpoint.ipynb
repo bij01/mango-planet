{
 "cells": [
  {
   "cell_type": "code",
   "execution_count": 144,
   "id": "eec30e7e",
   "metadata": {
    "scrolled": true
   },
   "outputs": [],
   "source": [
    "from pymongo import mongo_client\n",
    "from matplotlib import pyplot as plt\n",
    "import pandas as pd\n",
    "import numpy as np\n",
    "import re\n",
    "from matplotlib import font_manager, rc\n"
   ]
  },
  {
   "cell_type": "code",
   "execution_count": 145,
   "id": "4e316527",
   "metadata": {},
   "outputs": [],
   "source": [
    "font_path = \"C:/Windows/Fonts/NGULIM.TTF\"\n",
    "font = font_manager.FontProperties(fname=font_path).get_name()\n",
    "rc('font', family=font)"
   ]
  },
  {
   "cell_type": "code",
   "execution_count": 146,
   "id": "65e8e49a",
   "metadata": {},
   "outputs": [],
   "source": [
    "url = \"mongodb://192.168.0.138:27017/\"\n",
    "mgClient = mongo_client.MongoClient(url)"
   ]
  },
  {
   "cell_type": "code",
   "execution_count": 147,
   "id": "19763329",
   "metadata": {},
   "outputs": [],
   "source": [
    "db = mgClient[\"restaurants\"]\n",
    "col = db[\"res_list\"]"
   ]
  },
  {
   "cell_type": "code",
   "execution_count": 159,
   "id": "ea6711e1",
   "metadata": {},
   "outputs": [],
   "source": [
    "def return_name_list():\n",
    "    # 데이터 체크 및 리스트화\n",
    "    name = []\n",
    "    name_len = []\n",
    "    for data in col.find():\n",
    "        for k, v in data.items():\n",
    "            if k == \"name\":\n",
    "                name.append(v)\n",
    "                name_len.append(len(v))\n",
    "            \n",
    "    # 리스트 초기화\n",
    "    namelist = []\n",
    "    \n",
    "    # 영어제외 12글자 이상 식당 이름 리스트화\n",
    "    reg = re.compile(r'[a-zA-Z]')\n",
    "    for x in range(0, len(name)):\n",
    "        if name_len[x] >= 12:\n",
    "            if reg.match(name[x]):\n",
    "                pass\n",
    "            else:\n",
    "                namelist.append(str(len(name[x]))+\",\"+name[x])\n",
    "    # 내림차순 정렬\n",
    "    namelist.sort(reverse=True)\n",
    "    \n",
    "    # 이름, 길이 리스트 초기화\n",
    "    nlist = []\n",
    "    lenlist = []\n",
    "    \n",
    "    # 이름, 길이 리스트 추가\n",
    "    for x in range(0, 5):\n",
    "        nlist.append(namelist[x].split(\",\")[1])\n",
    "        lenlist.append(namelist[x].split(\",\")[0])\n",
    "    return nlist, lenlist"
   ]
  },
  {
   "cell_type": "code",
   "execution_count": 160,
   "id": "f1643222",
   "metadata": {},
   "outputs": [],
   "source": [
    "nlist, lenlist = return_name_list()"
   ]
  },
  {
   "cell_type": "code",
   "execution_count": 162,
   "id": "757fc6b5",
   "metadata": {
    "scrolled": false
   },
   "outputs": [
    {
     "name": "stdout",
     "output_type": "stream",
     "text": [
      "['플레이그라운드 브루어리 탭룸 송도', '토스티 서울 x horizon16', '코끼리 the salad cafe', '부부요리단1탄 제주흑돼지갑오징어', '비플레이트 바이 브라운브레드']\n",
      "['18', '18', '18', '17', '15']\n"
     ]
    }
   ],
   "source": [
    "print(nlist)\n",
    "print(lenlist)"
   ]
  },
  {
   "cell_type": "code",
   "execution_count": 182,
   "id": "4ec8cab9",
   "metadata": {
    "scrolled": false
   },
   "outputs": [
    {
     "data": {
      "image/png": "[encoded data removed]",
      "text/plain": [
       "<Figure size 432x288 with 1 Axes>"
      ]
     },
     "metadata": {
      "needs_background": "light"
     },
     "output_type": "display_data"
    }
   ],
   "source": [
    "#colors = sns.color_palette('hls',len(lenlist)\n",
    "plt.title('이름이 긴 식당 top 5')\n",
    "plt.xlabel('글자 수')\n",
    "plt.ylabel('식당이름')\n",
    "plt.barh(nlist,lenlist)\n",
    "for i, v in enumerate(lenlist):\n",
    "    plt.text(lenlist[i], v, str(lenlist[i]),\n",
    "             fontsize=9,\n",
    "             color=\"blue\",\n",
    "             horizontalalignment='center',\n",
    "             verticalalignment='bottom')\n",
    "\n",
    "\n",
    "plt.show()"
   ]
  }
 ],
 "metadata": {
  "kernelspec": {
   "display_name": "Python 3 (ipykernel)",
   "language": "python",
   "name": "python3"
  },
  "language_info": {
   "codemirror_mode": {
    "name": "ipython",
    "version": 3
   },
   "file_extension": ".py",
   "mimetype": "text/x-python",
   "name": "python",
   "nbconvert_exporter": "python",
   "pygments_lexer": "ipython3",
   "version": "3.9.6"
  }
 },
 "nbformat": 4,
 "nbformat_minor": 5
}
